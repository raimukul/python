{
  "nbformat": 4,
  "nbformat_minor": 0,
  "metadata": {
    "colab": {
      "name": "python L07.ipynb",
      "provenance": [],
      "include_colab_link": true
    },
    "kernelspec": {
      "name": "python3",
      "display_name": "Python 3"
    }
  },
  "cells": [
    {
      "cell_type": "markdown",
      "metadata": {
        "id": "view-in-github",
        "colab_type": "text"
      },
      "source": [
        "<a href=\"https://colab.research.google.com/github/raimukul/python/blob/master/python_L07.ipynb\" target=\"_parent\"><img src=\"https://colab.research.google.com/assets/colab-badge.svg\" alt=\"Open In Colab\"/></a>"
      ]
    },
    {
      "cell_type": "markdown",
      "metadata": {
        "id": "HTqLTQFl-XZ2",
        "colab_type": "text"
      },
      "source": [
        "int()\n",
        "\n",
        "_______________\n",
        "\n",
        "int(10.123)--->10\n",
        "\n",
        "int(10+20j)--->TypeError\n",
        "\n",
        "int(True)--->1\n",
        "\n",
        "int(False)--->0\n",
        "\n",
        "int(\"10\")--->10\n",
        "\n",
        "int(\"10.9\")--->ValueError\n",
        "\n",
        "..............................\n",
        "\n",
        "float()\n",
        "_____\n",
        "\n",
        "float(10)--->10.0\n",
        "\n",
        "float(10+20j)--->TypeError\n",
        "\n",
        "float(True)--->1.0\n",
        "\n",
        "float(False)--->0.0\n",
        "\n",
        "float(\"10\")--->10.0\n",
        "\n",
        "float(\"10.5\")--->10.5\n",
        "\n",
        "float(\"ten\")--->ValueError\n",
        "\n",
        "float(\"0b10011\")--->ValueError\n",
        "\n",
        "We can convert any value to float except float \n",
        "and to convert string  to float then it should integral value or floating point value base 10 only.\n",
        "\n"
      ]
    },
    {
      "cell_type": "markdown",
      "metadata": {
        "id": "LfngeWE-BYB1",
        "colab_type": "text"
      },
      "source": [
        "  complex()\n",
        "  ___________\n",
        "\n",
        "  form-1: complex(x)==>x+0j\n",
        "\n",
        "  form-1: complex(x,y)==>x+yj\n",
        "\n",
        "According to oops concept is type of functions are called overloaded function , it means that method name is same but arguments are different (may no. of argument or type of argument.)"
      ]
    },
    {
      "cell_type": "code",
      "metadata": {
        "id": "2biOYePhCnGK",
        "colab_type": "code",
        "colab": {
          "base_uri": "https://localhost:8080/",
          "height": 34
        },
        "outputId": "bebe475a-831e-4ebd-80ab-82c6dea36f50"
      },
      "source": [
        "#form-1:\n",
        "complex(10)"
      ],
      "execution_count": 4,
      "outputs": [
        {
          "output_type": "execute_result",
          "data": {
            "text/plain": [
              "(10+0j)"
            ]
          },
          "metadata": {
            "tags": []
          },
          "execution_count": 4
        }
      ]
    },
    {
      "cell_type": "code",
      "metadata": {
        "id": "QjAsgk3nCxHO",
        "colab_type": "code",
        "colab": {
          "base_uri": "https://localhost:8080/",
          "height": 34
        },
        "outputId": "daadf797-a015-4243-92fc-a7f730df4930"
      },
      "source": [
        "complex(10.5)"
      ],
      "execution_count": 5,
      "outputs": [
        {
          "output_type": "execute_result",
          "data": {
            "text/plain": [
              "(10.5+0j)"
            ]
          },
          "metadata": {
            "tags": []
          },
          "execution_count": 5
        }
      ]
    },
    {
      "cell_type": "code",
      "metadata": {
        "id": "NjwTPaKRCzyK",
        "colab_type": "code",
        "colab": {
          "base_uri": "https://localhost:8080/",
          "height": 34
        },
        "outputId": "59cac016-2627-4587-b6bc-607b62a71035"
      },
      "source": [
        "complex(True)"
      ],
      "execution_count": 6,
      "outputs": [
        {
          "output_type": "execute_result",
          "data": {
            "text/plain": [
              "(1+0j)"
            ]
          },
          "metadata": {
            "tags": []
          },
          "execution_count": 6
        }
      ]
    },
    {
      "cell_type": "code",
      "metadata": {
        "id": "kZnJpLfYC5Kj",
        "colab_type": "code",
        "colab": {
          "base_uri": "https://localhost:8080/",
          "height": 34
        },
        "outputId": "1f1cc627-355d-4cc1-c86d-f63abc208cd2"
      },
      "source": [
        "complex(False)"
      ],
      "execution_count": 8,
      "outputs": [
        {
          "output_type": "execute_result",
          "data": {
            "text/plain": [
              "0j"
            ]
          },
          "metadata": {
            "tags": []
          },
          "execution_count": 8
        }
      ]
    },
    {
      "cell_type": "code",
      "metadata": {
        "id": "gGobEovLDFiz",
        "colab_type": "code",
        "colab": {
          "base_uri": "https://localhost:8080/",
          "height": 34
        },
        "outputId": "1b33c148-b031-4b79-c8e7-083df8bf8f13"
      },
      "source": [
        "complex('10')"
      ],
      "execution_count": 9,
      "outputs": [
        {
          "output_type": "execute_result",
          "data": {
            "text/plain": [
              "(10+0j)"
            ]
          },
          "metadata": {
            "tags": []
          },
          "execution_count": 9
        }
      ]
    },
    {
      "cell_type": "code",
      "metadata": {
        "id": "g-wRKHFUDKXw",
        "colab_type": "code",
        "colab": {
          "base_uri": "https://localhost:8080/",
          "height": 34
        },
        "outputId": "73a5eb0f-c1b9-4f38-9243-476179c0da00"
      },
      "source": [
        "complex('10.6')"
      ],
      "execution_count": 10,
      "outputs": [
        {
          "output_type": "execute_result",
          "data": {
            "text/plain": [
              "(10.6+0j)"
            ]
          },
          "metadata": {
            "tags": []
          },
          "execution_count": 10
        }
      ]
    },
    {
      "cell_type": "code",
      "metadata": {
        "id": "RSPmMRH3DNIJ",
        "colab_type": "code",
        "colab": {
          "base_uri": "https://localhost:8080/",
          "height": 163
        },
        "outputId": "00ca537f-1458-414a-b129-ecd4014d7aa6"
      },
      "source": [
        "complex('ten')"
      ],
      "execution_count": 11,
      "outputs": [
        {
          "output_type": "error",
          "ename": "ValueError",
          "evalue": "ignored",
          "traceback": [
            "\u001b[0;31m---------------------------------------------------------------------------\u001b[0m",
            "\u001b[0;31mValueError\u001b[0m                                Traceback (most recent call last)",
            "\u001b[0;32m<ipython-input-11-22facee2c82a>\u001b[0m in \u001b[0;36m<module>\u001b[0;34m()\u001b[0m\n\u001b[0;32m----> 1\u001b[0;31m \u001b[0mcomplex\u001b[0m\u001b[0;34m(\u001b[0m\u001b[0;34m'ten'\u001b[0m\u001b[0;34m)\u001b[0m\u001b[0;34m\u001b[0m\u001b[0;34m\u001b[0m\u001b[0m\n\u001b[0m",
            "\u001b[0;31mValueError\u001b[0m: complex() arg is a malformed string"
          ]
        }
      ]
    },
    {
      "cell_type": "code",
      "metadata": {
        "id": "b2kTI8U7DP4Z",
        "colab_type": "code",
        "colab": {
          "base_uri": "https://localhost:8080/",
          "height": 163
        },
        "outputId": "3606b001-8b6e-43a7-a875-b4ab96463b1a"
      },
      "source": [
        "complex('0b11111')"
      ],
      "execution_count": 12,
      "outputs": [
        {
          "output_type": "error",
          "ename": "ValueError",
          "evalue": "ignored",
          "traceback": [
            "\u001b[0;31m---------------------------------------------------------------------------\u001b[0m",
            "\u001b[0;31mValueError\u001b[0m                                Traceback (most recent call last)",
            "\u001b[0;32m<ipython-input-12-45e5a3875c61>\u001b[0m in \u001b[0;36m<module>\u001b[0;34m()\u001b[0m\n\u001b[0;32m----> 1\u001b[0;31m \u001b[0mcomplex\u001b[0m\u001b[0;34m(\u001b[0m\u001b[0;34m'0b11111'\u001b[0m\u001b[0;34m)\u001b[0m\u001b[0;34m\u001b[0m\u001b[0;34m\u001b[0m\u001b[0m\n\u001b[0m",
            "\u001b[0;31mValueError\u001b[0m: complex() arg is a malformed string"
          ]
        }
      ]
    },
    {
      "cell_type": "code",
      "metadata": {
        "id": "XCjQ02dLDWu_",
        "colab_type": "code",
        "colab": {
          "base_uri": "https://localhost:8080/",
          "height": 34
        },
        "outputId": "b5baa196-5645-4bed-8215-91159dafad15"
      },
      "source": [
        "# form-2: complex(x,y)==>x+yj\n",
        "complex(10,20)"
      ],
      "execution_count": 13,
      "outputs": [
        {
          "output_type": "execute_result",
          "data": {
            "text/plain": [
              "(10+20j)"
            ]
          },
          "metadata": {
            "tags": []
          },
          "execution_count": 13
        }
      ]
    },
    {
      "cell_type": "code",
      "metadata": {
        "id": "npFNJqpMDumk",
        "colab_type": "code",
        "colab": {
          "base_uri": "https://localhost:8080/",
          "height": 34
        },
        "outputId": "29451d17-5349-4b3f-f48b-b264abace178"
      },
      "source": [
        "complex(True,False)"
      ],
      "execution_count": 15,
      "outputs": [
        {
          "output_type": "execute_result",
          "data": {
            "text/plain": [
              "(1+0j)"
            ]
          },
          "metadata": {
            "tags": []
          },
          "execution_count": 15
        }
      ]
    },
    {
      "cell_type": "code",
      "metadata": {
        "id": "TID0JyOeDzNO",
        "colab_type": "code",
        "colab": {
          "base_uri": "https://localhost:8080/",
          "height": 34
        },
        "outputId": "6ddb8430-bdcf-4cb1-8bc1-669a6b5d1a79"
      },
      "source": [
        "complex(10,20.6)"
      ],
      "execution_count": 17,
      "outputs": [
        {
          "output_type": "execute_result",
          "data": {
            "text/plain": [
              "(10+20.6j)"
            ]
          },
          "metadata": {
            "tags": []
          },
          "execution_count": 17
        }
      ]
    },
    {
      "cell_type": "code",
      "metadata": {
        "id": "lPrgM7YRD46b",
        "colab_type": "code",
        "colab": {
          "base_uri": "https://localhost:8080/",
          "height": 163
        },
        "outputId": "2260e348-d356-419f-9332-1e4898adc38f"
      },
      "source": [
        "complex('10','12')  #first is a string then only one string is use."
      ],
      "execution_count": 18,
      "outputs": [
        {
          "output_type": "error",
          "ename": "TypeError",
          "evalue": "ignored",
          "traceback": [
            "\u001b[0;31m---------------------------------------------------------------------------\u001b[0m",
            "\u001b[0;31mTypeError\u001b[0m                                 Traceback (most recent call last)",
            "\u001b[0;32m<ipython-input-18-21d44bf1724e>\u001b[0m in \u001b[0;36m<module>\u001b[0;34m()\u001b[0m\n\u001b[0;32m----> 1\u001b[0;31m \u001b[0mcomplex\u001b[0m\u001b[0;34m(\u001b[0m\u001b[0;34m'10'\u001b[0m\u001b[0;34m,\u001b[0m\u001b[0;34m'12'\u001b[0m\u001b[0;34m)\u001b[0m\u001b[0;34m\u001b[0m\u001b[0;34m\u001b[0m\u001b[0m\n\u001b[0m",
            "\u001b[0;31mTypeError\u001b[0m: complex() can't take second arg if first is a string"
          ]
        }
      ]
    },
    {
      "cell_type": "markdown",
      "metadata": {
        "id": "mOVZHtlZEc2y",
        "colab_type": "text"
      },
      "source": [
        "bool()\n",
        "_________\n"
      ]
    },
    {
      "cell_type": "code",
      "metadata": {
        "id": "dWpQGhEZEt2v",
        "colab_type": "code",
        "colab": {
          "base_uri": "https://localhost:8080/",
          "height": 34
        },
        "outputId": "aa85e533-ff94-4787-cd3b-42a22776f6ad"
      },
      "source": [
        "#for int argument \n",
        "#--------------------\n",
        "bool(0)"
      ],
      "execution_count": 19,
      "outputs": [
        {
          "output_type": "execute_result",
          "data": {
            "text/plain": [
              "False"
            ]
          },
          "metadata": {
            "tags": []
          },
          "execution_count": 19
        }
      ]
    },
    {
      "cell_type": "code",
      "metadata": {
        "id": "dscjr4N9ECWw",
        "colab_type": "code",
        "colab": {
          "base_uri": "https://localhost:8080/",
          "height": 34
        },
        "outputId": "a05f5280-28aa-4440-e433-30f6eeb6c19f"
      },
      "source": [
        "bool(10)"
      ],
      "execution_count": 20,
      "outputs": [
        {
          "output_type": "execute_result",
          "data": {
            "text/plain": [
              "True"
            ]
          },
          "metadata": {
            "tags": []
          },
          "execution_count": 20
        }
      ]
    },
    {
      "cell_type": "code",
      "metadata": {
        "id": "S0MzPizzE01V",
        "colab_type": "code",
        "colab": {
          "base_uri": "https://localhost:8080/",
          "height": 34
        },
        "outputId": "d3e84201-8688-4839-f66b-77fd9695bcac"
      },
      "source": [
        "bool(3)"
      ],
      "execution_count": 21,
      "outputs": [
        {
          "output_type": "execute_result",
          "data": {
            "text/plain": [
              "True"
            ]
          },
          "metadata": {
            "tags": []
          },
          "execution_count": 21
        }
      ]
    },
    {
      "cell_type": "code",
      "metadata": {
        "id": "urFJ1ZzHE30X",
        "colab_type": "code",
        "colab": {
          "base_uri": "https://localhost:8080/",
          "height": 34
        },
        "outputId": "224538c8-58a7-4972-9283-c7a4b0fe979a"
      },
      "source": [
        "bool(34)"
      ],
      "execution_count": 22,
      "outputs": [
        {
          "output_type": "execute_result",
          "data": {
            "text/plain": [
              "True"
            ]
          },
          "metadata": {
            "tags": []
          },
          "execution_count": 22
        }
      ]
    },
    {
      "cell_type": "code",
      "metadata": {
        "id": "ZFTvO9iwE9xj",
        "colab_type": "code",
        "colab": {
          "base_uri": "https://localhost:8080/",
          "height": 34
        },
        "outputId": "fc0bd6eb-3eff-4350-db67-90c0b42ee7f4"
      },
      "source": [
        "# int 0===>False otherwise for every non-zero int===> True.\n",
        "bool(-13)"
      ],
      "execution_count": 23,
      "outputs": [
        {
          "output_type": "execute_result",
          "data": {
            "text/plain": [
              "True"
            ]
          },
          "metadata": {
            "tags": []
          },
          "execution_count": 23
        }
      ]
    },
    {
      "cell_type": "code",
      "metadata": {
        "id": "hZAXYxzAF79Y",
        "colab_type": "code",
        "colab": {
          "base_uri": "https://localhost:8080/",
          "height": 34
        },
        "outputId": "e4c52f52-979a-4d52-d1e5-00283b4a04da"
      },
      "source": [
        "#--for float argument\n",
        "#----------------------\n",
        "bool(0.0)"
      ],
      "execution_count": 24,
      "outputs": [
        {
          "output_type": "execute_result",
          "data": {
            "text/plain": [
              "False"
            ]
          },
          "metadata": {
            "tags": []
          },
          "execution_count": 24
        }
      ]
    },
    {
      "cell_type": "code",
      "metadata": {
        "id": "lJLfDyBoGKlR",
        "colab_type": "code",
        "colab": {
          "base_uri": "https://localhost:8080/",
          "height": 34
        },
        "outputId": "561bfe6a-2ebd-4256-cd63-ce2e19f5714c"
      },
      "source": [
        "bool(2.56)"
      ],
      "execution_count": 25,
      "outputs": [
        {
          "output_type": "execute_result",
          "data": {
            "text/plain": [
              "True"
            ]
          },
          "metadata": {
            "tags": []
          },
          "execution_count": 25
        }
      ]
    },
    {
      "cell_type": "code",
      "metadata": {
        "id": "g2s7YcZ3GMwO",
        "colab_type": "code",
        "colab": {
          "base_uri": "https://localhost:8080/",
          "height": 34
        },
        "outputId": "994e9453-fbb7-4e3e-d061-fa324534e9ad"
      },
      "source": [
        "bool(-12.09)"
      ],
      "execution_count": 26,
      "outputs": [
        {
          "output_type": "execute_result",
          "data": {
            "text/plain": [
              "True"
            ]
          },
          "metadata": {
            "tags": []
          },
          "execution_count": 26
        }
      ]
    },
    {
      "cell_type": "code",
      "metadata": {
        "id": "Ti0qgU1SGRn3",
        "colab_type": "code",
        "colab": {
          "base_uri": "https://localhost:8080/",
          "height": 34
        },
        "outputId": "f05a8287-1a8a-4b58-dadf-852ab6f795b9"
      },
      "source": [
        "bool(0.2)"
      ],
      "execution_count": 27,
      "outputs": [
        {
          "output_type": "execute_result",
          "data": {
            "text/plain": [
              "True"
            ]
          },
          "metadata": {
            "tags": []
          },
          "execution_count": 27
        }
      ]
    },
    {
      "cell_type": "code",
      "metadata": {
        "id": "jzw2oTUPGVhd",
        "colab_type": "code",
        "colab": {}
      },
      "source": [
        "#0----False\n",
        "#non-zero----------True"
      ],
      "execution_count": 0,
      "outputs": []
    },
    {
      "cell_type": "code",
      "metadata": {
        "id": "GRVwiSFqGjQI",
        "colab_type": "code",
        "colab": {
          "base_uri": "https://localhost:8080/",
          "height": 34
        },
        "outputId": "8291d74b-2a64-4e3a-987b-2693c98cfb83"
      },
      "source": [
        "# for complex no.\n",
        "#------------------------\n",
        "bool(10+20j)"
      ],
      "execution_count": 28,
      "outputs": [
        {
          "output_type": "execute_result",
          "data": {
            "text/plain": [
              "True"
            ]
          },
          "metadata": {
            "tags": []
          },
          "execution_count": 28
        }
      ]
    },
    {
      "cell_type": "code",
      "metadata": {
        "id": "zQx15NTiGrOC",
        "colab_type": "code",
        "colab": {
          "base_uri": "https://localhost:8080/",
          "height": 34
        },
        "outputId": "5f95ec90-6066-4b28-9673-a294cfffc2c6"
      },
      "source": [
        "bool(0+0j)"
      ],
      "execution_count": 29,
      "outputs": [
        {
          "output_type": "execute_result",
          "data": {
            "text/plain": [
              "False"
            ]
          },
          "metadata": {
            "tags": []
          },
          "execution_count": 29
        }
      ]
    },
    {
      "cell_type": "code",
      "metadata": {
        "id": "SMFoaCU-GvUu",
        "colab_type": "code",
        "colab": {
          "base_uri": "https://localhost:8080/",
          "height": 34
        },
        "outputId": "cc3ff4d8-126a-4f01-ff26-4c819320cf8e"
      },
      "source": [
        "bool(0+2j)"
      ],
      "execution_count": 30,
      "outputs": [
        {
          "output_type": "execute_result",
          "data": {
            "text/plain": [
              "True"
            ]
          },
          "metadata": {
            "tags": []
          },
          "execution_count": 30
        }
      ]
    },
    {
      "cell_type": "code",
      "metadata": {
        "id": "DsLpeFboGyXs",
        "colab_type": "code",
        "colab": {}
      },
      "source": [
        "#if both img and real part of complex no is 0 ,then bool() returns Flase\n",
        "#otherwise any one of img or real become non-zero then bool() returns True."
      ],
      "execution_count": 0,
      "outputs": []
    },
    {
      "cell_type": "code",
      "metadata": {
        "id": "WBi0GmWbHXQg",
        "colab_type": "code",
        "colab": {
          "base_uri": "https://localhost:8080/",
          "height": 34
        },
        "outputId": "c5dccb89-2692-4a57-d83c-a3869f8b5c56"
      },
      "source": [
        "#for str argument\n",
        "#---------------------\n",
        "# arg is empty string{  str('') or str(\"\")}==>False otherwise True\n",
        " bool('')"
      ],
      "execution_count": 31,
      "outputs": [
        {
          "output_type": "execute_result",
          "data": {
            "text/plain": [
              "False"
            ]
          },
          "metadata": {
            "tags": []
          },
          "execution_count": 31
        }
      ]
    },
    {
      "cell_type": "code",
      "metadata": {
        "id": "NEfH1aCeH72R",
        "colab_type": "code",
        "colab": {
          "base_uri": "https://localhost:8080/",
          "height": 34
        },
        "outputId": "58f04e05-d513-4984-ee5f-419bcb239ece"
      },
      "source": [
        "bool(\"\")"
      ],
      "execution_count": 32,
      "outputs": [
        {
          "output_type": "execute_result",
          "data": {
            "text/plain": [
              "False"
            ]
          },
          "metadata": {
            "tags": []
          },
          "execution_count": 32
        }
      ]
    },
    {
      "cell_type": "code",
      "metadata": {
        "id": "igrjRTRUH998",
        "colab_type": "code",
        "colab": {
          "base_uri": "https://localhost:8080/",
          "height": 34
        },
        "outputId": "dc066cc5-927d-47dd-f34f-c5eb02d05e5c"
      },
      "source": [
        "bool(\"durga\")"
      ],
      "execution_count": 33,
      "outputs": [
        {
          "output_type": "execute_result",
          "data": {
            "text/plain": [
              "True"
            ]
          },
          "metadata": {
            "tags": []
          },
          "execution_count": 33
        }
      ]
    },
    {
      "cell_type": "code",
      "metadata": {
        "id": "wtBTCoxsIA6F",
        "colab_type": "code",
        "colab": {
          "base_uri": "https://localhost:8080/",
          "height": 34
        },
        "outputId": "cd89b9af-4673-44a1-8f27-1f5031c1420b"
      },
      "source": [
        "bool(\" \")  # one space means it is non-zero"
      ],
      "execution_count": 34,
      "outputs": [
        {
          "output_type": "execute_result",
          "data": {
            "text/plain": [
              "True"
            ]
          },
          "metadata": {
            "tags": []
          },
          "execution_count": 34
        }
      ]
    },
    {
      "cell_type": "markdown",
      "metadata": {
        "id": "vVg4nzG0IhGg",
        "colab_type": "text"
      },
      "source": [
        "str()\n",
        "_________\n",
        "no restriction in str()"
      ]
    },
    {
      "cell_type": "code",
      "metadata": {
        "id": "P9eJ2tF5InmY",
        "colab_type": "code",
        "colab": {
          "base_uri": "https://localhost:8080/",
          "height": 34
        },
        "outputId": "885470a9-9184-4974-ddef-8a5dcf4236ba"
      },
      "source": [
        "str(1)"
      ],
      "execution_count": 35,
      "outputs": [
        {
          "output_type": "execute_result",
          "data": {
            "text/plain": [
              "'1'"
            ]
          },
          "metadata": {
            "tags": []
          },
          "execution_count": 35
        }
      ]
    },
    {
      "cell_type": "code",
      "metadata": {
        "id": "3XDIszkUIo5-",
        "colab_type": "code",
        "colab": {
          "base_uri": "https://localhost:8080/",
          "height": 34
        },
        "outputId": "a50e53d2-9967-43aa-a970-9d1f131e2411"
      },
      "source": [
        "str(1.45)"
      ],
      "execution_count": 36,
      "outputs": [
        {
          "output_type": "execute_result",
          "data": {
            "text/plain": [
              "'1.45'"
            ]
          },
          "metadata": {
            "tags": []
          },
          "execution_count": 36
        }
      ]
    },
    {
      "cell_type": "code",
      "metadata": {
        "id": "hIukTQvaIrmE",
        "colab_type": "code",
        "colab": {
          "base_uri": "https://localhost:8080/",
          "height": 34
        },
        "outputId": "c6b7589f-4742-4fb6-e0cc-9f3314abe266"
      },
      "source": [
        "str(10+20j)"
      ],
      "execution_count": 37,
      "outputs": [
        {
          "output_type": "execute_result",
          "data": {
            "text/plain": [
              "'(10+20j)'"
            ]
          },
          "metadata": {
            "tags": []
          },
          "execution_count": 37
        }
      ]
    },
    {
      "cell_type": "code",
      "metadata": {
        "id": "UoLS1dg_IuVj",
        "colab_type": "code",
        "colab": {
          "base_uri": "https://localhost:8080/",
          "height": 34
        },
        "outputId": "dbb41e17-bb6f-4227-c19f-a89f73615ceb"
      },
      "source": [
        "str(True)"
      ],
      "execution_count": 38,
      "outputs": [
        {
          "output_type": "execute_result",
          "data": {
            "text/plain": [
              "'True'"
            ]
          },
          "metadata": {
            "tags": []
          },
          "execution_count": 38
        }
      ]
    },
    {
      "cell_type": "code",
      "metadata": {
        "id": "ieVdAzOBIyJp",
        "colab_type": "code",
        "colab": {
          "base_uri": "https://localhost:8080/",
          "height": 34
        },
        "outputId": "45624eae-78fa-49cc-c847-8128b6f08530"
      },
      "source": [
        "str(False)"
      ],
      "execution_count": 39,
      "outputs": [
        {
          "output_type": "execute_result",
          "data": {
            "text/plain": [
              "'False'"
            ]
          },
          "metadata": {
            "tags": []
          },
          "execution_count": 39
        }
      ]
    },
    {
      "cell_type": "code",
      "metadata": {
        "id": "1HwL4S-BI0gw",
        "colab_type": "code",
        "colab": {
          "base_uri": "https://localhost:8080/",
          "height": 34
        },
        "outputId": "c1364158-6ec4-4093-bacb-027930399256"
      },
      "source": [
        "str(\"mukul\")"
      ],
      "execution_count": 40,
      "outputs": [
        {
          "output_type": "execute_result",
          "data": {
            "text/plain": [
              "'mukul'"
            ]
          },
          "metadata": {
            "tags": []
          },
          "execution_count": 40
        }
      ]
    },
    {
      "cell_type": "markdown",
      "metadata": {
        "id": "PuUZ_qfJJE3y",
        "colab_type": "text"
      },
      "source": [
        "____________________________________"
      ]
    },
    {
      "cell_type": "markdown",
      "metadata": {
        "id": "l8fQvZmLJKpD",
        "colab_type": "text"
      },
      "source": [
        "Immutable Vs Fundamental data type\n",
        "____________________\n",
        "mutable ===>changable\n",
        "\n",
        "immutable===>non changable\n",
        "\n",
        "all fundamental data types are immutable in nature .\n",
        "\n",
        "Suppose x=10 then we change it into x=11 then\n",
        "\n",
        "\n",
        "![image.png](data:image/png;base64,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)"
      ]
    },
    {
      "cell_type": "code",
      "metadata": {
        "id": "uDxwc8XzNfOP",
        "colab_type": "code",
        "colab": {}
      },
      "source": [
        "x=10\n",
        "y=10\n",
        "j=10\n",
        "k=10\n",
        "# it will store something like this as shown in figure below."
      ],
      "execution_count": 0,
      "outputs": []
    },
    {
      "cell_type": "markdown",
      "metadata": {
        "id": "cBOMG4NTO1Cw",
        "colab_type": "text"
      },
      "source": [
        "![image.png](data:image/png;base64,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)"
      ]
    },
    {
      "cell_type": "code",
      "metadata": {
        "id": "V-xInd4_O5fA",
        "colab_type": "code",
        "colab": {}
      },
      "source": [
        "# suppose we want to design voter regisration system of public of HYD then \n",
        "#  v1,v2,v3,v4.....vn are name of voter and they live in HYD\n",
        "V1=\"HYD\"\n",
        "V2=\"HYD\"\n",
        "V3=\"HYD\"\n",
        "V4=\"HYD\""
      ],
      "execution_count": 0,
      "outputs": []
    },
    {
      "cell_type": "markdown",
      "metadata": {
        "id": "si--nIWIS_O1",
        "colab_type": "text"
      },
      "source": [
        "![image.png](data:image/png;base64,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)"
      ]
    },
    {
      "cell_type": "code",
      "metadata": {
        "id": "tQg3h3BZSPRL",
        "colab_type": "code",
        "colab": {
          "base_uri": "https://localhost:8080/",
          "height": 34
        },
        "outputId": "8f8b3fd8-d9bb-4bd2-8bd8-cc9f487d35cc"
      },
      "source": [
        "# #internally it look like above and proof below\n",
        "id(V1)"
      ],
      "execution_count": 48,
      "outputs": [
        {
          "output_type": "execute_result",
          "data": {
            "text/plain": [
              "139833124608352"
            ]
          },
          "metadata": {
            "tags": []
          },
          "execution_count": 48
        }
      ]
    },
    {
      "cell_type": "code",
      "metadata": {
        "id": "zpxK66mtSTA8",
        "colab_type": "code",
        "colab": {
          "base_uri": "https://localhost:8080/",
          "height": 34
        },
        "outputId": "d76b1636-a499-4919-e39d-907118ca033e"
      },
      "source": [
        "id(V2)"
      ],
      "execution_count": 45,
      "outputs": [
        {
          "output_type": "execute_result",
          "data": {
            "text/plain": [
              "139833124608352"
            ]
          },
          "metadata": {
            "tags": []
          },
          "execution_count": 45
        }
      ]
    },
    {
      "cell_type": "code",
      "metadata": {
        "id": "LMJRkgqISV-B",
        "colab_type": "code",
        "colab": {
          "base_uri": "https://localhost:8080/",
          "height": 34
        },
        "outputId": "9481684b-907a-4851-e688-4b6980022172"
      },
      "source": [
        "id(V3)"
      ],
      "execution_count": 46,
      "outputs": [
        {
          "output_type": "execute_result",
          "data": {
            "text/plain": [
              "139833124608352"
            ]
          },
          "metadata": {
            "tags": []
          },
          "execution_count": 46
        }
      ]
    },
    {
      "cell_type": "code",
      "metadata": {
        "id": "b2ySng95SYir",
        "colab_type": "code",
        "colab": {
          "base_uri": "https://localhost:8080/",
          "height": 34
        },
        "outputId": "75e35cc2-d529-4a35-a066-382d3383cf1c"
      },
      "source": [
        "id(V4)"
      ],
      "execution_count": 47,
      "outputs": [
        {
          "output_type": "execute_result",
          "data": {
            "text/plain": [
              "139833124608352"
            ]
          },
          "metadata": {
            "tags": []
          },
          "execution_count": 47
        }
      ]
    },
    {
      "cell_type": "markdown",
      "metadata": {
        "id": "V-dZVtGWVoFa",
        "colab_type": "text"
      },
      "source": [
        "__________________\n",
        "___________________\n",
        "If v3 changes its city to DEL then following problem occur"
      ]
    },
    {
      "cell_type": "markdown",
      "metadata": {
        "id": "zlmMV-37ViNO",
        "colab_type": "text"
      },
      "source": [
        "![image.png](data:image/png;base64,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)"
      ]
    },
    {
      "cell_type": "code",
      "metadata": {
        "id": "ikfXCuAvW98U",
        "colab_type": "code",
        "colab": {}
      },
      "source": [
        "V3=\"DEL\""
      ],
      "execution_count": 0,
      "outputs": []
    },
    {
      "cell_type": "code",
      "metadata": {
        "id": "lknYGV3HXDeG",
        "colab_type": "code",
        "colab": {
          "base_uri": "https://localhost:8080/",
          "height": 34
        },
        "outputId": "e9011dd3-823f-4d4e-9a48-e98b56cb2fbe"
      },
      "source": [
        "id(V3)"
      ],
      "execution_count": 51,
      "outputs": [
        {
          "output_type": "execute_result",
          "data": {
            "text/plain": [
              "139833124271080"
            ]
          },
          "metadata": {
            "tags": []
          },
          "execution_count": 51
        }
      ]
    },
    {
      "cell_type": "markdown",
      "metadata": {
        "id": "mUM26QhBX3ad",
        "colab_type": "text"
      },
      "source": [
        "_________________\n",
        "_____________\n",
        "To overcome this problem \n",
        "![image.png](data:image/png;base64,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)"
      ]
    },
    {
      "cell_type": "code",
      "metadata": {
        "id": "z718oWVRYBLi",
        "colab_type": "code",
        "colab": {}
      },
      "source": [
        "v1='hyd'\n",
        "v2='hyd'\n",
        "v3='hyd'\n",
        "v4='hyd'"
      ],
      "execution_count": 0,
      "outputs": []
    },
    {
      "cell_type": "code",
      "metadata": {
        "id": "8XBqRoGZYzRn",
        "colab_type": "code",
        "colab": {
          "base_uri": "https://localhost:8080/",
          "height": 34
        },
        "outputId": "beae3051-8c0b-4230-c37b-a6c4958e8bc5"
      },
      "source": [
        "id(v1)"
      ],
      "execution_count": 57,
      "outputs": [
        {
          "output_type": "execute_result",
          "data": {
            "text/plain": [
              "139833124273208"
            ]
          },
          "metadata": {
            "tags": []
          },
          "execution_count": 57
        }
      ]
    },
    {
      "cell_type": "code",
      "metadata": {
        "id": "WP-9imKdY3Bj",
        "colab_type": "code",
        "colab": {
          "base_uri": "https://localhost:8080/",
          "height": 34
        },
        "outputId": "a3a1dc02-6ac6-4827-9749-668b961d7418"
      },
      "source": [
        "id(v2)"
      ],
      "execution_count": 58,
      "outputs": [
        {
          "output_type": "execute_result",
          "data": {
            "text/plain": [
              "139833124273208"
            ]
          },
          "metadata": {
            "tags": []
          },
          "execution_count": 58
        }
      ]
    },
    {
      "cell_type": "code",
      "metadata": {
        "id": "T66uFx4aY4vt",
        "colab_type": "code",
        "colab": {
          "base_uri": "https://localhost:8080/",
          "height": 34
        },
        "outputId": "15f6fc0a-123a-4c17-fd75-9f595e41112b"
      },
      "source": [
        "id(v3)"
      ],
      "execution_count": 59,
      "outputs": [
        {
          "output_type": "execute_result",
          "data": {
            "text/plain": [
              "139833124273208"
            ]
          },
          "metadata": {
            "tags": []
          },
          "execution_count": 59
        }
      ]
    },
    {
      "cell_type": "code",
      "metadata": {
        "id": "URwpkipLY6q-",
        "colab_type": "code",
        "colab": {
          "base_uri": "https://localhost:8080/",
          "height": 34
        },
        "outputId": "b20417cc-e8dc-40c5-c58b-aaf321b3ade7"
      },
      "source": [
        "id(v4)"
      ],
      "execution_count": 60,
      "outputs": [
        {
          "output_type": "execute_result",
          "data": {
            "text/plain": [
              "139833124273208"
            ]
          },
          "metadata": {
            "tags": []
          },
          "execution_count": 60
        }
      ]
    },
    {
      "cell_type": "code",
      "metadata": {
        "id": "fyXS2PTpY8ML",
        "colab_type": "code",
        "colab": {}
      },
      "source": [
        "v3='wjl'"
      ],
      "execution_count": 0,
      "outputs": []
    },
    {
      "cell_type": "code",
      "metadata": {
        "id": "ArHxJOUyZIeL",
        "colab_type": "code",
        "colab": {
          "base_uri": "https://localhost:8080/",
          "height": 34
        },
        "outputId": "152f9069-d064-4e07-8ab0-eaa059ffa313"
      },
      "source": [
        "id(v3)"
      ],
      "execution_count": 62,
      "outputs": [
        {
          "output_type": "execute_result",
          "data": {
            "text/plain": [
              "139833124316192"
            ]
          },
          "metadata": {
            "tags": []
          },
          "execution_count": 62
        }
      ]
    },
    {
      "cell_type": "code",
      "metadata": {
        "id": "rkaCslVzZYB8",
        "colab_type": "code",
        "colab": {
          "base_uri": "https://localhost:8080/",
          "height": 34
        },
        "outputId": "16a7dd84-55a2-462b-fefe-626c21ab8485"
      },
      "source": [
        "id(v1)"
      ],
      "execution_count": 63,
      "outputs": [
        {
          "output_type": "execute_result",
          "data": {
            "text/plain": [
              "139833124273208"
            ]
          },
          "metadata": {
            "tags": []
          },
          "execution_count": 63
        }
      ]
    },
    {
      "cell_type": "markdown",
      "metadata": {
        "id": "3B5R7Li5Z1zh",
        "colab_type": "text"
      },
      "source": [
        "notes.\n",
        "___________\n",
        "1.Everything in python is an object.\n",
        "\n",
        "2.All fundamental datatypes (int,float,bool,str,complex) are immutable."
      ]
    },
    {
      "cell_type": "code",
      "metadata": {
        "id": "xyTv7fvraW9M",
        "colab_type": "code",
        "colab": {}
      },
      "source": [
        "#some important points reagarding reusability property\n",
        "#------------in case of int type------------------\n",
        "x=10\n",
        "y=10"
      ],
      "execution_count": 0,
      "outputs": []
    },
    {
      "cell_type": "code",
      "metadata": {
        "id": "jf4s3VEvaf5R",
        "colab_type": "code",
        "colab": {
          "base_uri": "https://localhost:8080/",
          "height": 34
        },
        "outputId": "7fb35b9d-07b5-4a9c-8fc4-cf602c84f875"
      },
      "source": [
        "x is y   # is use to check x and y pointing to same object or not."
      ],
      "execution_count": 65,
      "outputs": [
        {
          "output_type": "execute_result",
          "data": {
            "text/plain": [
              "True"
            ]
          },
          "metadata": {
            "tags": []
          },
          "execution_count": 65
        }
      ]
    },
    {
      "cell_type": "code",
      "metadata": {
        "id": "-lAIRzgNaiL1",
        "colab_type": "code",
        "colab": {
          "base_uri": "https://localhost:8080/",
          "height": 34
        },
        "outputId": "8822f0fd-1e49-4ea8-da02-9c9ab865424c"
      },
      "source": [
        "y is x     (in java is as == used)"
      ],
      "execution_count": 66,
      "outputs": [
        {
          "output_type": "execute_result",
          "data": {
            "text/plain": [
              "True"
            ]
          },
          "metadata": {
            "tags": []
          },
          "execution_count": 66
        }
      ]
    },
    {
      "cell_type": "code",
      "metadata": {
        "id": "Vxpq1VcAauU7",
        "colab_type": "code",
        "colab": {}
      },
      "source": [
        "x=True\n",
        "y=True\n",
        "z=True"
      ],
      "execution_count": 0,
      "outputs": []
    },
    {
      "cell_type": "code",
      "metadata": {
        "id": "_CVcxZIMbBY9",
        "colab_type": "code",
        "colab": {
          "base_uri": "https://localhost:8080/",
          "height": 34
        },
        "outputId": "071a98e2-5768-4e43-80db-b7ba3893d88c"
      },
      "source": [
        "z is y"
      ],
      "execution_count": 68,
      "outputs": [
        {
          "output_type": "execute_result",
          "data": {
            "text/plain": [
              "True"
            ]
          },
          "metadata": {
            "tags": []
          },
          "execution_count": 68
        }
      ]
    },
    {
      "cell_type": "code",
      "metadata": {
        "id": "swYmHvqHbDlf",
        "colab_type": "code",
        "colab": {
          "base_uri": "https://localhost:8080/",
          "height": 34
        },
        "outputId": "1d937c76-3d72-4627-db38-11c22599a5e9"
      },
      "source": [
        "y is x"
      ],
      "execution_count": 69,
      "outputs": [
        {
          "output_type": "execute_result",
          "data": {
            "text/plain": [
              "True"
            ]
          },
          "metadata": {
            "tags": []
          },
          "execution_count": 69
        }
      ]
    },
    {
      "cell_type": "code",
      "metadata": {
        "id": "PWjsJeNMbF9x",
        "colab_type": "code",
        "colab": {
          "base_uri": "https://localhost:8080/",
          "height": 34
        },
        "outputId": "3ba9e912-6d39-4f76-ae22-bb8898f578f9"
      },
      "source": [
        "x is z"
      ],
      "execution_count": 70,
      "outputs": [
        {
          "output_type": "execute_result",
          "data": {
            "text/plain": [
              "True"
            ]
          },
          "metadata": {
            "tags": []
          },
          "execution_count": 70
        }
      ]
    },
    {
      "cell_type": "code",
      "metadata": {
        "id": "YnKWo_43bHga",
        "colab_type": "code",
        "colab": {}
      },
      "source": [
        "x=257\n",
        "y=257"
      ],
      "execution_count": 0,
      "outputs": []
    },
    {
      "cell_type": "code",
      "metadata": {
        "id": "2vpoUDwzbXIr",
        "colab_type": "code",
        "colab": {
          "base_uri": "https://localhost:8080/",
          "height": 34
        },
        "outputId": "c9ca4df7-844a-4f8d-d592-e136af6cd44f"
      },
      "source": [
        "x is y   #only true upto 256 . *******important********* reusability is applicable upto 256"
      ],
      "execution_count": 72,
      "outputs": [
        {
          "output_type": "execute_result",
          "data": {
            "text/plain": [
              "False"
            ]
          },
          "metadata": {
            "tags": []
          },
          "execution_count": 72
        }
      ]
    },
    {
      "cell_type": "code",
      "metadata": {
        "id": "Y0MHcdf3bYw1",
        "colab_type": "code",
        "colab": {
          "base_uri": "https://localhost:8080/",
          "height": 34
        },
        "outputId": "2da5e74a-92a5-4250-e190-fec44cf2e19f"
      },
      "source": [
        "id(x)"
      ],
      "execution_count": 73,
      "outputs": [
        {
          "output_type": "execute_result",
          "data": {
            "text/plain": [
              "139833124851216"
            ]
          },
          "metadata": {
            "tags": []
          },
          "execution_count": 73
        }
      ]
    },
    {
      "cell_type": "code",
      "metadata": {
        "id": "1sySUpzkcCJe",
        "colab_type": "code",
        "colab": {
          "base_uri": "https://localhost:8080/",
          "height": 34
        },
        "outputId": "7838b04b-b6bb-4ca7-8771-f830f335c069"
      },
      "source": [
        "id(y)"
      ],
      "execution_count": 74,
      "outputs": [
        {
          "output_type": "execute_result",
          "data": {
            "text/plain": [
              "139833124849648"
            ]
          },
          "metadata": {
            "tags": []
          },
          "execution_count": 74
        }
      ]
    },
    {
      "cell_type": "code",
      "metadata": {
        "id": "kGYKBK24cDpn",
        "colab_type": "code",
        "colab": {}
      },
      "source": [
        "#------------in case of float-----------\n",
        "x=10.0\n",
        "y=10.0"
      ],
      "execution_count": 0,
      "outputs": []
    },
    {
      "cell_type": "code",
      "metadata": {
        "id": "vooTgqDPcPEw",
        "colab_type": "code",
        "colab": {
          "base_uri": "https://localhost:8080/",
          "height": 34
        },
        "outputId": "027042af-cc30-4fb1-b270-7e0c5e3f4d29"
      },
      "source": [
        "x is y    #in float type reusability is not applicable*********important********"
      ],
      "execution_count": 76,
      "outputs": [
        {
          "output_type": "execute_result",
          "data": {
            "text/plain": [
              "False"
            ]
          },
          "metadata": {
            "tags": []
          },
          "execution_count": 76
        }
      ]
    },
    {
      "cell_type": "code",
      "metadata": {
        "id": "PMbBcWj2c4oE",
        "colab_type": "code",
        "colab": {
          "base_uri": "https://localhost:8080/",
          "height": 34
        },
        "outputId": "041d8b0f-fb7e-4fa1-f1c3-31458d0695f4"
      },
      "source": [
        "id(x)"
      ],
      "execution_count": 79,
      "outputs": [
        {
          "output_type": "execute_result",
          "data": {
            "text/plain": [
              "139833134767704"
            ]
          },
          "metadata": {
            "tags": []
          },
          "execution_count": 79
        }
      ]
    },
    {
      "cell_type": "code",
      "metadata": {
        "id": "yUIEf_psc-mb",
        "colab_type": "code",
        "colab": {
          "base_uri": "https://localhost:8080/",
          "height": 34
        },
        "outputId": "e2064442-d3de-4104-e583-23df54c05f1e"
      },
      "source": [
        "id(y)"
      ],
      "execution_count": 80,
      "outputs": [
        {
          "output_type": "execute_result",
          "data": {
            "text/plain": [
              "139833134767896"
            ]
          },
          "metadata": {
            "tags": []
          },
          "execution_count": 80
        }
      ]
    },
    {
      "cell_type": "code",
      "metadata": {
        "id": "9oC7Bty7cQjd",
        "colab_type": "code",
        "colab": {}
      },
      "source": [
        "#--------------in case of complex----------------------\n",
        "a=10+20j\n",
        "b=10+20j"
      ],
      "execution_count": 0,
      "outputs": []
    },
    {
      "cell_type": "code",
      "metadata": {
        "id": "wQ-MWPQjcqfj",
        "colab_type": "code",
        "colab": {
          "base_uri": "https://localhost:8080/",
          "height": 34
        },
        "outputId": "4b472faf-fea6-4f46-9ab7-a52a13f7913c"
      },
      "source": [
        "a is b  #in case of complex type reusability is not applicable*******important***"
      ],
      "execution_count": 82,
      "outputs": [
        {
          "output_type": "execute_result",
          "data": {
            "text/plain": [
              "False"
            ]
          },
          "metadata": {
            "tags": []
          },
          "execution_count": 82
        }
      ]
    },
    {
      "cell_type": "code",
      "metadata": {
        "id": "FoFwZzwgcrv1",
        "colab_type": "code",
        "colab": {
          "base_uri": "https://localhost:8080/",
          "height": 34
        },
        "outputId": "291f2e10-e7a3-4ee1-87b7-664b1a2b1ded"
      },
      "source": [
        "id(a)"
      ],
      "execution_count": 83,
      "outputs": [
        {
          "output_type": "execute_result",
          "data": {
            "text/plain": [
              "139833124851344"
            ]
          },
          "metadata": {
            "tags": []
          },
          "execution_count": 83
        }
      ]
    },
    {
      "cell_type": "code",
      "metadata": {
        "id": "HSm1slJedFmJ",
        "colab_type": "code",
        "colab": {
          "base_uri": "https://localhost:8080/",
          "height": 34
        },
        "outputId": "dd40d0b0-cdf9-48ac-ed8b-951138f03263"
      },
      "source": [
        "id(b)"
      ],
      "execution_count": 84,
      "outputs": [
        {
          "output_type": "execute_result",
          "data": {
            "text/plain": [
              "139833124850992"
            ]
          },
          "metadata": {
            "tags": []
          },
          "execution_count": 84
        }
      ]
    },
    {
      "cell_type": "code",
      "metadata": {
        "id": "2-Yv7M55dHQI",
        "colab_type": "code",
        "colab": {}
      },
      "source": [
        ""
      ],
      "execution_count": 0,
      "outputs": []
    }
  ]
}