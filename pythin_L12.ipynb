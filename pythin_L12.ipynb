{
  "nbformat": 4,
  "nbformat_minor": 0,
  "metadata": {
    "colab": {
      "name": "pythin_L12.ipynb",
      "provenance": [],
      "collapsed_sections": [],
      "authorship_tag": "ABX9TyMWEOKe7uIebgIsOgNrTqh9",
      "include_colab_link": true
    },
    "kernelspec": {
      "name": "python3",
      "display_name": "Python 3"
    }
  },
  "cells": [
    {
      "cell_type": "markdown",
      "metadata": {
        "id": "view-in-github",
        "colab_type": "text"
      },
      "source": [
        "<a href=\"https://colab.research.google.com/github/raimukul/python/blob/master/pythin_L12.ipynb\" target=\"_parent\"><img src=\"https://colab.research.google.com/assets/colab-badge.svg\" alt=\"Open In Colab\"/></a>"
      ]
    },
    {
      "cell_type": "markdown",
      "metadata": {
        "id": "iqocar4t1ktP",
        "colab_type": "text"
      },
      "source": [
        "#3. Equality operators\n",
        "\n",
        "----\n",
        "\n",
        "-->if content is same then returns True\n",
        "\n",
        "-->if content is not same then returns False always.\n",
        "\n",
        "-->it is applicable for all data types.\n",
        "\n",
        "--> !=   Not Equal\n",
        "\n",
        "--> ==    Equal"
      ]
    },
    {
      "cell_type": "code",
      "metadata": {
        "id": "otGy5miVyMww",
        "colab_type": "code",
        "colab": {
          "base_uri": "https://localhost:8080/",
          "height": 34
        },
        "outputId": "27460cfa-4eea-4e53-a5c5-249e75867c59"
      },
      "source": [
        "10!=20"
      ],
      "execution_count": 1,
      "outputs": [
        {
          "output_type": "execute_result",
          "data": {
            "text/plain": [
              "True"
            ]
          },
          "metadata": {
            "tags": []
          },
          "execution_count": 1
        }
      ]
    },
    {
      "cell_type": "code",
      "metadata": {
        "id": "D1S2ZPvs11dh",
        "colab_type": "code",
        "colab": {
          "base_uri": "https://localhost:8080/",
          "height": 34
        },
        "outputId": "81616ecb-cfb4-4eda-de22-96ab2dec7248"
      },
      "source": [
        "10==True"
      ],
      "execution_count": 2,
      "outputs": [
        {
          "output_type": "execute_result",
          "data": {
            "text/plain": [
              "False"
            ]
          },
          "metadata": {
            "tags": []
          },
          "execution_count": 2
        }
      ]
    },
    {
      "cell_type": "code",
      "metadata": {
        "id": "CTjeoyWN2AFx",
        "colab_type": "code",
        "colab": {
          "base_uri": "https://localhost:8080/",
          "height": 34
        },
        "outputId": "70cde13f-ebbb-491e-aa35-1c71d8ccfcf7"
      },
      "source": [
        "False==False"
      ],
      "execution_count": 3,
      "outputs": [
        {
          "output_type": "execute_result",
          "data": {
            "text/plain": [
              "True"
            ]
          },
          "metadata": {
            "tags": []
          },
          "execution_count": 3
        }
      ]
    },
    {
      "cell_type": "code",
      "metadata": {
        "id": "CyRLI84K2CjB",
        "colab_type": "code",
        "colab": {
          "base_uri": "https://localhost:8080/",
          "height": 34
        },
        "outputId": "567ae258-6867-4f74-de3f-4c78444efa6d"
      },
      "source": [
        "\"durga\"==\"durga\""
      ],
      "execution_count": 4,
      "outputs": [
        {
          "output_type": "execute_result",
          "data": {
            "text/plain": [
              "True"
            ]
          },
          "metadata": {
            "tags": []
          },
          "execution_count": 4
        }
      ]
    },
    {
      "cell_type": "code",
      "metadata": {
        "id": "efQkbTQ-2Mhr",
        "colab_type": "code",
        "colab": {
          "base_uri": "https://localhost:8080/",
          "height": 34
        },
        "outputId": "9aae250c-142d-409c-d123-a5e7e5672be6"
      },
      "source": [
        "10==\"durga\""
      ],
      "execution_count": 5,
      "outputs": [
        {
          "output_type": "execute_result",
          "data": {
            "text/plain": [
              "False"
            ]
          },
          "metadata": {
            "tags": []
          },
          "execution_count": 5
        }
      ]
    },
    {
      "cell_type": "code",
      "metadata": {
        "id": "rDFY02YI21tR",
        "colab_type": "code",
        "colab": {
          "base_uri": "https://localhost:8080/",
          "height": 34
        },
        "outputId": "6ea22c64-70b4-4881-abff-f03f4ee2be87"
      },
      "source": [
        "10==20==30==40==50"
      ],
      "execution_count": 6,
      "outputs": [
        {
          "output_type": "execute_result",
          "data": {
            "text/plain": [
              "False"
            ]
          },
          "metadata": {
            "tags": []
          },
          "execution_count": 6
        }
      ]
    },
    {
      "cell_type": "code",
      "metadata": {
        "id": "n6HnJZaA252t",
        "colab_type": "code",
        "colab": {
          "base_uri": "https://localhost:8080/",
          "height": 34
        },
        "outputId": "55db1f37-013d-42f0-8490-edd9c4152b02"
      },
      "source": [
        "10==3+7==5+5==5*2"
      ],
      "execution_count": 7,
      "outputs": [
        {
          "output_type": "execute_result",
          "data": {
            "text/plain": [
              "True"
            ]
          },
          "metadata": {
            "tags": []
          },
          "execution_count": 7
        }
      ]
    },
    {
      "cell_type": "code",
      "metadata": {
        "id": "_wr217jP3DSS",
        "colab_type": "code",
        "colab": {
          "base_uri": "https://localhost:8080/",
          "height": 34
        },
        "outputId": "e7b0beb0-65fd-41f3-a578-61c9531acabd"
      },
      "source": [
        "'a'==97"
      ],
      "execution_count": 8,
      "outputs": [
        {
          "output_type": "execute_result",
          "data": {
            "text/plain": [
              "False"
            ]
          },
          "metadata": {
            "tags": []
          },
          "execution_count": 8
        }
      ]
    },
    {
      "cell_type": "code",
      "metadata": {
        "id": "ewn_Mc6134It",
        "colab_type": "code",
        "colab": {
          "base_uri": "https://localhost:8080/",
          "height": 34
        },
        "outputId": "1238222c-ca1c-47ce-8efa-e11874314cc9"
      },
      "source": [
        "(10+2j)==(10+2j)"
      ],
      "execution_count": 9,
      "outputs": [
        {
          "output_type": "execute_result",
          "data": {
            "text/plain": [
              "True"
            ]
          },
          "metadata": {
            "tags": []
          },
          "execution_count": 9
        }
      ]
    },
    {
      "cell_type": "code",
      "metadata": {
        "id": "_fEihzhy39rt",
        "colab_type": "code",
        "colab": {
          "base_uri": "https://localhost:8080/",
          "height": 34
        },
        "outputId": "0d6639c0-177f-4fcc-f254-dae335b54af6"
      },
      "source": [
        "(10+2j)=='durga'"
      ],
      "execution_count": 10,
      "outputs": [
        {
          "output_type": "execute_result",
          "data": {
            "text/plain": [
              "False"
            ]
          },
          "metadata": {
            "tags": []
          },
          "execution_count": 10
        }
      ]
    },
    {
      "cell_type": "code",
      "metadata": {
        "id": "daO-1gaJ4B72",
        "colab_type": "code",
        "colab": {
          "base_uri": "https://localhost:8080/",
          "height": 34
        },
        "outputId": "90916db6-3d0c-4159-b2d9-3596f6cb49aa"
      },
      "source": [
        "10==10.0"
      ],
      "execution_count": 11,
      "outputs": [
        {
          "output_type": "execute_result",
          "data": {
            "text/plain": [
              "True"
            ]
          },
          "metadata": {
            "tags": []
          },
          "execution_count": 11
        }
      ]
    },
    {
      "cell_type": "markdown",
      "metadata": {
        "id": "VazViyOe4apb",
        "colab_type": "text"
      },
      "source": [
        "difference b/w == & =\n",
        "\n",
        "--> = :it is assignment operator mean a=10 then we are assigning value to a\n",
        "\n",
        "--->== :it is equality operator\n",
        "\n"
      ]
    },
    {
      "cell_type": "code",
      "metadata": {
        "id": "_1r5Kqp14_UE",
        "colab_type": "code",
        "colab": {
          "base_uri": "https://localhost:8080/",
          "height": 34
        },
        "outputId": "e9d58e05-bdae-4a82-c405-723b17ddde31"
      },
      "source": [
        "10=='10'"
      ],
      "execution_count": 13,
      "outputs": [
        {
          "output_type": "execute_result",
          "data": {
            "text/plain": [
              "False"
            ]
          },
          "metadata": {
            "tags": []
          },
          "execution_count": 13
        }
      ]
    },
    {
      "cell_type": "code",
      "metadata": {
        "id": "XTFR3S0D5Dm2",
        "colab_type": "code",
        "colab": {
          "base_uri": "https://localhost:8080/",
          "height": 34
        },
        "outputId": "580d6245-ea63-4b8f-8cae-79475847e5c2"
      },
      "source": [
        "1==True"
      ],
      "execution_count": 15,
      "outputs": [
        {
          "output_type": "execute_result",
          "data": {
            "text/plain": [
              "True"
            ]
          },
          "metadata": {
            "tags": []
          },
          "execution_count": 15
        }
      ]
    },
    {
      "cell_type": "code",
      "metadata": {
        "id": "xYuKvxDY5JG5",
        "colab_type": "code",
        "colab": {
          "base_uri": "https://localhost:8080/",
          "height": 34
        },
        "outputId": "5222f7be-7915-407a-aa9a-39ea9039665d"
      },
      "source": [
        "0==False"
      ],
      "execution_count": 16,
      "outputs": [
        {
          "output_type": "execute_result",
          "data": {
            "text/plain": [
              "True"
            ]
          },
          "metadata": {
            "tags": []
          },
          "execution_count": 16
        }
      ]
    },
    {
      "cell_type": "code",
      "metadata": {
        "id": "ihGLkc9F5OGz",
        "colab_type": "code",
        "colab": {
          "base_uri": "https://localhost:8080/",
          "height": 34
        },
        "outputId": "eb81012d-f374-450b-ee07-27ae2ecc63d2"
      },
      "source": [
        "10.10==10.1"
      ],
      "execution_count": 18,
      "outputs": [
        {
          "output_type": "execute_result",
          "data": {
            "text/plain": [
              "True"
            ]
          },
          "metadata": {
            "tags": []
          },
          "execution_count": 18
        }
      ]
    },
    {
      "cell_type": "markdown",
      "metadata": {
        "id": "709AKjdk5aA7",
        "colab_type": "text"
      },
      "source": [
        "#Logical operators\n",
        "----\n",
        "\n",
        "-->it is applicable for boolean & non-boolean types both\n",
        "\n",
        "--> **Behaviour for Boolean type**\n",
        "   \n",
        "    and: if both arguments are True then only True.\n",
        "     or: if atleast one argument is True then True\n",
        "    not: opposite to argument always"
      ]
    },
    {
      "cell_type": "code",
      "metadata": {
        "id": "yTzKnac35Rtw",
        "colab_type": "code",
        "colab": {
          "base_uri": "https://localhost:8080/",
          "height": 34
        },
        "outputId": "54786047-23f9-4c37-d116-927b30d50176"
      },
      "source": [
        "True and False"
      ],
      "execution_count": 19,
      "outputs": [
        {
          "output_type": "execute_result",
          "data": {
            "text/plain": [
              "False"
            ]
          },
          "metadata": {
            "tags": []
          },
          "execution_count": 19
        }
      ]
    },
    {
      "cell_type": "code",
      "metadata": {
        "id": "klsV5zMO65_z",
        "colab_type": "code",
        "colab": {
          "base_uri": "https://localhost:8080/",
          "height": 34
        },
        "outputId": "574e2c03-79a6-4066-c897-afff6ab3a464"
      },
      "source": [
        "True or False"
      ],
      "execution_count": 20,
      "outputs": [
        {
          "output_type": "execute_result",
          "data": {
            "text/plain": [
              "True"
            ]
          },
          "metadata": {
            "tags": []
          },
          "execution_count": 20
        }
      ]
    },
    {
      "cell_type": "code",
      "metadata": {
        "id": "WLb1KixB6-yO",
        "colab_type": "code",
        "colab": {
          "base_uri": "https://localhost:8080/",
          "height": 34
        },
        "outputId": "f0628f75-e3fb-4049-849b-f7da6b19e735"
      },
      "source": [
        "not True"
      ],
      "execution_count": 21,
      "outputs": [
        {
          "output_type": "execute_result",
          "data": {
            "text/plain": [
              "False"
            ]
          },
          "metadata": {
            "tags": []
          },
          "execution_count": 21
        }
      ]
    },
    {
      "cell_type": "code",
      "metadata": {
        "id": "71bQg49v7DAS",
        "colab_type": "code",
        "colab": {
          "base_uri": "https://localhost:8080/",
          "height": 34
        },
        "outputId": "5a3ea8f1-bf45-44ff-a5c1-e232ec36a847"
      },
      "source": [
        "True and True"
      ],
      "execution_count": 22,
      "outputs": [
        {
          "output_type": "execute_result",
          "data": {
            "text/plain": [
              "True"
            ]
          },
          "metadata": {
            "tags": []
          },
          "execution_count": 22
        }
      ]
    },
    {
      "cell_type": "code",
      "metadata": {
        "id": "QqLq463m7xcF",
        "colab_type": "code",
        "colab": {
          "base_uri": "https://localhost:8080/",
          "height": 34
        },
        "outputId": "0be3b699-adb5-4d6a-fc50-e838869d8682"
      },
      "source": [
        "False and False"
      ],
      "execution_count": 24,
      "outputs": [
        {
          "output_type": "execute_result",
          "data": {
            "text/plain": [
              "False"
            ]
          },
          "metadata": {
            "tags": []
          },
          "execution_count": 24
        }
      ]
    },
    {
      "cell_type": "markdown",
      "metadata": {
        "id": "JAH1oB6J6w6y",
        "colab_type": "text"
      },
      "source": [
        "--> **Behaviour for Boolean type**\n",
        "\n",
        "    0 means False          |\n",
        "    non-zero means True    |\n",
        "    empty string ==>False  |\n",
        "    -----------------------\n",
        "\n",
        "    1. and:  x and y\n",
        "        if x is evaluates to False then return x otherwise returns y.\n",
        "           x is False when it is 0 or empty string. then returns x\n",
        "           x is true when it is non-zero then returns y.\n",
        "\n",
        "    2. or:  x or y\n",
        "         if x is evaluates to True then returns x otherwise returns y\n",
        "            x is False when it is 0 or empty string. then returns y\n",
        "           x is true when it is non-zero then returns x.\n",
        "    3. not: not x==>False\n",
        "            not 0 ==>True\n",
        "            not '' ==>True"
      ]
    },
    {
      "cell_type": "code",
      "metadata": {
        "id": "XHRH1jZ970BA",
        "colab_type": "code",
        "colab": {
          "base_uri": "https://localhost:8080/",
          "height": 34
        },
        "outputId": "233dd29d-f54e-4b4b-b3cf-c9ee2ab2f600"
      },
      "source": [
        "10 and 20"
      ],
      "execution_count": 25,
      "outputs": [
        {
          "output_type": "execute_result",
          "data": {
            "text/plain": [
              "20"
            ]
          },
          "metadata": {
            "tags": []
          },
          "execution_count": 25
        }
      ]
    },
    {
      "cell_type": "code",
      "metadata": {
        "id": "r--is2s_-RvE",
        "colab_type": "code",
        "colab": {
          "base_uri": "https://localhost:8080/",
          "height": 34
        },
        "outputId": "eb534c98-2079-42f3-ac62-1e12d4f4d1bf"
      },
      "source": [
        " 0 and 20 "
      ],
      "execution_count": 26,
      "outputs": [
        {
          "output_type": "execute_result",
          "data": {
            "text/plain": [
              "0"
            ]
          },
          "metadata": {
            "tags": []
          },
          "execution_count": 26
        }
      ]
    },
    {
      "cell_type": "code",
      "metadata": {
        "id": "7PupWnAvBOad",
        "colab_type": "code",
        "colab": {
          "base_uri": "https://localhost:8080/",
          "height": 35
        },
        "outputId": "8b3515cf-181a-45ce-a424-51ce2927361b"
      },
      "source": [
        "'' and 10"
      ],
      "execution_count": 27,
      "outputs": [
        {
          "output_type": "execute_result",
          "data": {
            "application/vnd.google.colaboratory.intrinsic": {
              "type": "string"
            },
            "text/plain": [
              "''"
            ]
          },
          "metadata": {
            "tags": []
          },
          "execution_count": 27
        }
      ]
    },
    {
      "cell_type": "code",
      "metadata": {
        "id": "KOpsX0ptBkHy",
        "colab_type": "code",
        "colab": {
          "base_uri": "https://localhost:8080/",
          "height": 35
        },
        "outputId": "6e015610-9a1a-4930-bb5b-df16cef71d63"
      },
      "source": [
        "1 and 'durga'"
      ],
      "execution_count": 28,
      "outputs": [
        {
          "output_type": "execute_result",
          "data": {
            "application/vnd.google.colaboratory.intrinsic": {
              "type": "string"
            },
            "text/plain": [
              "'durga'"
            ]
          },
          "metadata": {
            "tags": []
          },
          "execution_count": 28
        }
      ]
    },
    {
      "cell_type": "code",
      "metadata": {
        "id": "cj-6d5ipDdq6",
        "colab_type": "code",
        "colab": {
          "base_uri": "https://localhost:8080/",
          "height": 34
        },
        "outputId": "0df23d35-1792-48e6-c0c6-1c9d48f2d8b3"
      },
      "source": [
        "0 and 'durga'"
      ],
      "execution_count": 29,
      "outputs": [
        {
          "output_type": "execute_result",
          "data": {
            "text/plain": [
              "0"
            ]
          },
          "metadata": {
            "tags": []
          },
          "execution_count": 29
        }
      ]
    },
    {
      "cell_type": "code",
      "metadata": {
        "id": "aAui4kVeDhL0",
        "colab_type": "code",
        "colab": {
          "base_uri": "https://localhost:8080/",
          "height": 34
        },
        "outputId": "2621ff19-44e2-45fa-dc18-a2157fc72da8"
      },
      "source": [
        "10 or 20"
      ],
      "execution_count": 30,
      "outputs": [
        {
          "output_type": "execute_result",
          "data": {
            "text/plain": [
              "10"
            ]
          },
          "metadata": {
            "tags": []
          },
          "execution_count": 30
        }
      ]
    },
    {
      "cell_type": "code",
      "metadata": {
        "id": "Szl6DuSOFFS0",
        "colab_type": "code",
        "colab": {
          "base_uri": "https://localhost:8080/",
          "height": 34
        },
        "outputId": "c1b3a7d0-c169-4c55-d6f4-6cc22e2a6172"
      },
      "source": [
        "0 or 20"
      ],
      "execution_count": 31,
      "outputs": [
        {
          "output_type": "execute_result",
          "data": {
            "text/plain": [
              "20"
            ]
          },
          "metadata": {
            "tags": []
          },
          "execution_count": 31
        }
      ]
    },
    {
      "cell_type": "code",
      "metadata": {
        "id": "A8lUKmnFFHFY",
        "colab_type": "code",
        "colab": {
          "base_uri": "https://localhost:8080/",
          "height": 34
        },
        "outputId": "3eda31d9-f1cb-41d3-ad03-33130f9a0a3d"
      },
      "source": [
        "0 or 0"
      ],
      "execution_count": 32,
      "outputs": [
        {
          "output_type": "execute_result",
          "data": {
            "text/plain": [
              "0"
            ]
          },
          "metadata": {
            "tags": []
          },
          "execution_count": 32
        }
      ]
    },
    {
      "cell_type": "code",
      "metadata": {
        "id": "RuryzPMTFW9V",
        "colab_type": "code",
        "colab": {
          "base_uri": "https://localhost:8080/",
          "height": 34
        },
        "outputId": "8eb22a65-f280-4693-bb3a-291b82c43c00"
      },
      "source": [
        "10 or 10/0"
      ],
      "execution_count": 33,
      "outputs": [
        {
          "output_type": "execute_result",
          "data": {
            "text/plain": [
              "10"
            ]
          },
          "metadata": {
            "tags": []
          },
          "execution_count": 33
        }
      ]
    },
    {
      "cell_type": "code",
      "metadata": {
        "id": "8UCrg6HRGspQ",
        "colab_type": "code",
        "colab": {
          "base_uri": "https://localhost:8080/",
          "height": 163
        },
        "outputId": "5f9ec521-bb72-4a75-97b4-7bae085dafa1"
      },
      "source": [
        "0 or 10/0"
      ],
      "execution_count": 34,
      "outputs": [
        {
          "output_type": "error",
          "ename": "ZeroDivisionError",
          "evalue": "ignored",
          "traceback": [
            "\u001b[0;31m---------------------------------------------------------------------------\u001b[0m",
            "\u001b[0;31mZeroDivisionError\u001b[0m                         Traceback (most recent call last)",
            "\u001b[0;32m<ipython-input-34-4ea6575d6d0f>\u001b[0m in \u001b[0;36m<module>\u001b[0;34m()\u001b[0m\n\u001b[0;32m----> 1\u001b[0;31m \u001b[0;36m0\u001b[0m \u001b[0;32mor\u001b[0m \u001b[0;36m10\u001b[0m\u001b[0;34m/\u001b[0m\u001b[0;36m0\u001b[0m\u001b[0;34m\u001b[0m\u001b[0;34m\u001b[0m\u001b[0m\n\u001b[0m",
            "\u001b[0;31mZeroDivisionError\u001b[0m: division by zero"
          ]
        }
      ]
    },
    {
      "cell_type": "markdown",
      "metadata": {
        "id": "8v2Gmyl0G7eT",
        "colab_type": "text"
      },
      "source": [
        "#Bitwise operators:\n",
        "```\n",
        "& : and operator\n",
        "| : or operator\n",
        "^ : xor operator\n",
        "~ : complement operator\n",
        "<< : left shift operator\n",
        ">> : right shift operator\n",
        "\n",
        "**applicable for int and boolean type only**\n",
        "```\n",
        "4 & 5 ==>valid\n",
        "\n",
        "True & False ==>valid\n",
        "\n",
        "10.5 & 2.6 ==>invalid\n",
        "\n",
        "-----------\n",
        "4 & 5 ==> 4\n",
        " \n",
        "    \n",
        "    4---> 1 0 0\n",
        "    5---> 1 0 1\n",
        "         -------\n",
        "          1 0 0 ==> 4\n",
        "\n",
        "          if both bite are 1 then 1\n",
        "          otherwise 0.\n",
        "\n",
        "\n",
        "4 | 5  ==> 5\n",
        "\n",
        "    4---> 1 0 0\n",
        "    5---> 1 0 1\n",
        "         -------\n",
        "          1 0 1 ==> 5\n",
        "          \n",
        "          if atleast one bit is 1 then 1 \n",
        "          otherwise 0.\n",
        "\n",
        "4 ^ 5 ==> 1\n",
        "\n",
        "    4---> 1 0 0\n",
        "    5---> 1 0 1\n",
        "         -------\n",
        "          0 0 1 ==> 1\n",
        "        \n",
        "          if both bits are different then 1 \n",
        "          otherwise 0\n",
        "~4 ===> -5\n",
        "\n",
        "    4---> 00000000000000000000000000000100   (32-bit)\n",
        "    -5--> 11111111111111111111111111111011\n",
        "    now left sign bit i.e. 1 from left hand side\n",
        "           1111111111111111111111111111011 (this is -ive number hence convert into 2's complement)\n",
        "           0000000000000000000000000000100(1's)\n",
        "           +                             1 (2's)\n",
        "        ------------------------------------\n",
        "           0000000000000000000000000000101   ====>5\n",
        "        ------------------------------------\n",
        "        final number is -5\n",
        "\n",
        "~True ===> -2\n",
        "\n",
        "    True=1---> 00000000000000000000000000000001   (32-bit)\n",
        "         -1--> 11111111111111111111111111111110\n",
        "    now left sign bit i.e. 1 from left hand side\n",
        "           1111111111111111111111111111110 (this is -ive number hence convert into 2's complement)\n",
        "           0000000000000000000000000000001(1's)\n",
        "           +                             1 (2's)\n",
        "        ------------------------------------\n",
        "           0000000000000000000000000000010   ====>2\n",
        "        ------------------------------------\n",
        "        final number is -2"
      ]
    },
    {
      "cell_type": "code",
      "metadata": {
        "id": "SqCcAroEGu4P",
        "colab_type": "code",
        "colab": {
          "base_uri": "https://localhost:8080/",
          "height": 34
        },
        "outputId": "6e9a61d3-edd6-41a1-c49d-d24aac64ec94"
      },
      "source": [
        "4 & 5"
      ],
      "execution_count": 35,
      "outputs": [
        {
          "output_type": "execute_result",
          "data": {
            "text/plain": [
              "4"
            ]
          },
          "metadata": {
            "tags": []
          },
          "execution_count": 35
        }
      ]
    },
    {
      "cell_type": "code",
      "metadata": {
        "id": "KfqtB_StNAoC",
        "colab_type": "code",
        "colab": {
          "base_uri": "https://localhost:8080/",
          "height": 34
        },
        "outputId": "103ba963-f760-4cc6-e39e-137dd6d73c05"
      },
      "source": [
        "4 | 5"
      ],
      "execution_count": 36,
      "outputs": [
        {
          "output_type": "execute_result",
          "data": {
            "text/plain": [
              "5"
            ]
          },
          "metadata": {
            "tags": []
          },
          "execution_count": 36
        }
      ]
    },
    {
      "cell_type": "code",
      "metadata": {
        "id": "DhFSu2HINLOY",
        "colab_type": "code",
        "colab": {
          "base_uri": "https://localhost:8080/",
          "height": 34
        },
        "outputId": "418ffdbc-a013-4536-ebfe-95afc96ac734"
      },
      "source": [
        "4 ^ 5"
      ],
      "execution_count": 37,
      "outputs": [
        {
          "output_type": "execute_result",
          "data": {
            "text/plain": [
              "1"
            ]
          },
          "metadata": {
            "tags": []
          },
          "execution_count": 37
        }
      ]
    },
    {
      "cell_type": "code",
      "metadata": {
        "id": "noUwBd9CNNn_",
        "colab_type": "code",
        "colab": {
          "base_uri": "https://localhost:8080/",
          "height": 34
        },
        "outputId": "6cd32eed-d606-40f0-f85c-a5a937c01ef5"
      },
      "source": [
        "~4"
      ],
      "execution_count": 38,
      "outputs": [
        {
          "output_type": "execute_result",
          "data": {
            "text/plain": [
              "-5"
            ]
          },
          "metadata": {
            "tags": []
          },
          "execution_count": 38
        }
      ]
    },
    {
      "cell_type": "code",
      "metadata": {
        "id": "yE1GD1iLRsy_",
        "colab_type": "code",
        "colab": {
          "base_uri": "https://localhost:8080/",
          "height": 34
        },
        "outputId": "eb778243-55db-4917-dcf6-75c9e2866e57"
      },
      "source": [
        "~True"
      ],
      "execution_count": 40,
      "outputs": [
        {
          "output_type": "execute_result",
          "data": {
            "text/plain": [
              "-2"
            ]
          },
          "metadata": {
            "tags": []
          },
          "execution_count": 40
        }
      ]
    },
    {
      "cell_type": "code",
      "metadata": {
        "id": "Z5V7-SPaR3eE",
        "colab_type": "code",
        "colab": {}
      },
      "source": [
        ""
      ],
      "execution_count": null,
      "outputs": []
    }
  ]
}