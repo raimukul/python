{
  "nbformat": 4,
  "nbformat_minor": 0,
  "metadata": {
    "colab": {
      "name": "python_L11.ipynb",
      "provenance": [],
      "collapsed_sections": [],
      "authorship_tag": "ABX9TyNjTjzVohZsn8vhU7pZeFBn",
      "include_colab_link": true
    },
    "kernelspec": {
      "name": "python3",
      "display_name": "Python 3"
    }
  },
  "cells": [
    {
      "cell_type": "markdown",
      "metadata": {
        "id": "view-in-github",
        "colab_type": "text"
      },
      "source": [
        "<a href=\"https://colab.research.google.com/github/raimukul/python/blob/master/python_L11.ipynb\" target=\"_parent\"><img src=\"https://colab.research.google.com/assets/colab-badge.svg\" alt=\"Open In Colab\"/></a>"
      ]
    },
    {
      "cell_type": "markdown",
      "metadata": {
        "id": "4be11gKa_Ndn",
        "colab_type": "text"
      },
      "source": [
        "Operators:\n",
        "\n",
        "--------------\n",
        "-->Who resposible to do some tasks\n",
        "\n",
        "--> types of operators:\n",
        "\n",
        "     1. Arithimetic operators\n",
        "     2. Relational or comparision operators\n",
        "     3. Logical operators \n",
        "     4. Bitwise operators\n",
        "     5. Assignment operators\n",
        "     6. Special operators\n",
        "     -----------------------------\n",
        "\n",
        "     1. Arithimetic operators\n",
        "         --> + (addition operator)\n",
        "         --> - (subtraction operator)\n",
        "         --> * (multiplication operator)\n",
        "         --> / (division operator):division operator always give floating point values.\n",
        "                int//int==>float,\n",
        "                int//float==>float,\n",
        "                float//float==>float.\n",
        "         --> % (modulo operator)\n",
        "         ------------------------------------------------------------\n",
        "         --> // (floor division operator):floor division operator work as\n",
        "                    division and gives value float when both argument will\n",
        "                    float and int value when both argument will be int type.\n",
        "                    int//int==>int,\n",
        "                    int//float==>float,\n",
        "                    float//float==>float.\n",
        "                    nearest value with flaot value\n",
        "         --> ** (exponent operator) (x^a)\n",
        "\n"
      ]
    },
    {
      "cell_type": "code",
      "metadata": {
        "id": "g1PGf2mcUsAU",
        "colab_type": "code",
        "colab": {
          "base_uri": "https://localhost:8080/",
          "height": 136
        },
        "outputId": "62c0f273-e520-4f1c-cf14-800f44caeedd"
      },
      "source": [
        "a=10\n",
        "b=2\n",
        "print(\"a+b=\",a+b) #12\n",
        "print(\"a-b=\",a-b)  #8\n",
        "print(\"a*b=\",a*b) #20\n",
        "print(\"a/b=\",a/b) #5.0 (division operator always give floating point values.)\n",
        "print(\"a%b=\",a%b) #0 (modulo operator gives remainder after devide it)\n",
        "print(\"a//b=\",a//b) #5 (int//int==>int,int//float==>float,float//float==>float)\n",
        "print(\"a**b=\",a**b) #10^2=100"
      ],
      "execution_count": 1,
      "outputs": [
        {
          "output_type": "stream",
          "text": [
            "a+b= 12\n",
            "a-b= 8\n",
            "a*b= 20\n",
            "a/b= 5.0\n",
            "a%b= 0\n",
            "a//b= 5\n",
            "a**b= 100\n"
          ],
          "name": "stdout"
        }
      ]
    },
    {
      "cell_type": "code",
      "metadata": {
        "id": "ut_ou6ejQrc6",
        "colab_type": "code",
        "colab": {
          "base_uri": "https://localhost:8080/",
          "height": 136
        },
        "outputId": "daddabad-8dfa-4dd5-8dea-1c64920846bb"
      },
      "source": [
        "a=10.2\n",
        "b=2\n",
        "print(\"a+b=\",a+b) \n",
        "print(\"a-b=\",a-b)  \n",
        "print(\"a*b=\",a*b) \n",
        "print(\"a/b=\",a/b) \n",
        "print(\"a%b=\",a%b) \n",
        "print(\"a//b=\",a//b) \n",
        "print(\"a**b=\",a**b) "
      ],
      "execution_count": 9,
      "outputs": [
        {
          "output_type": "stream",
          "text": [
            "a+b= 12.2\n",
            "a-b= 8.2\n",
            "a*b= 20.4\n",
            "a/b= 5.1\n",
            "a%b= 0.1999999999999993\n",
            "a//b= 5.0\n",
            "a**b= 104.03999999999999\n"
          ],
          "name": "stdout"
        }
      ]
    },
    {
      "cell_type": "code",
      "metadata": {
        "id": "VYwzLr5sQ4hb",
        "colab_type": "code",
        "colab": {
          "base_uri": "https://localhost:8080/",
          "height": 136
        },
        "outputId": "54833b56-8dec-4a5c-94a6-b5b0e641e942"
      },
      "source": [
        "a=10.2\n",
        "b=2.2\n",
        "print(\"a+b=\",a+b) \n",
        "print(\"a-b=\",a-b)  \n",
        "print(\"a*b=\",a*b) \n",
        "print(\"a/b=\",a/b) \n",
        "print(\"a%b=\",a%b) \n",
        "print(\"a//b=\",a//b) \n",
        "print(\"a**b=\",a**b) "
      ],
      "execution_count": 10,
      "outputs": [
        {
          "output_type": "stream",
          "text": [
            "a+b= 12.399999999999999\n",
            "a-b= 7.999999999999999\n",
            "a*b= 22.44\n",
            "a/b= 4.636363636363636\n",
            "a%b= 1.3999999999999986\n",
            "a//b= 4.0\n",
            "a**b= 165.5466427868608\n"
          ],
          "name": "stdout"
        }
      ]
    },
    {
      "cell_type": "code",
      "metadata": {
        "id": "TdyhyqEb_NLF",
        "colab_type": "code",
        "colab": {
          "base_uri": "https://localhost:8080/",
          "height": 34
        },
        "outputId": "e54fc4b8-8692-40bd-c3bd-0c30ae8de45f"
      },
      "source": [
        "a=10.0\n",
        "b=2\n",
        "print(\"a//b=\",a//b)"
      ],
      "execution_count": 2,
      "outputs": [
        {
          "output_type": "stream",
          "text": [
            "a//b= 5.0\n"
          ],
          "name": "stdout"
        }
      ]
    },
    {
      "cell_type": "code",
      "metadata": {
        "id": "Hdr9l7XjK5tl",
        "colab_type": "code",
        "colab": {
          "base_uri": "https://localhost:8080/",
          "height": 34
        },
        "outputId": "5159200a-e30f-4fe4-a793-1a1646afb95d"
      },
      "source": [
        "a=10\n",
        "b=2\n",
        "print(\"a//b=\",a//b)"
      ],
      "execution_count": 3,
      "outputs": [
        {
          "output_type": "stream",
          "text": [
            "a//b= 5\n"
          ],
          "name": "stdout"
        }
      ]
    },
    {
      "cell_type": "code",
      "metadata": {
        "id": "w0GEO8fCK9dc",
        "colab_type": "code",
        "colab": {
          "base_uri": "https://localhost:8080/",
          "height": 34
        },
        "outputId": "0b820375-a68a-413d-9f4a-651ff51d69a2"
      },
      "source": [
        "a=10.0\n",
        "b=2.0\n",
        "print(\"a//b=\",a//b)"
      ],
      "execution_count": 4,
      "outputs": [
        {
          "output_type": "stream",
          "text": [
            "a//b= 5.0\n"
          ],
          "name": "stdout"
        }
      ]
    },
    {
      "cell_type": "code",
      "metadata": {
        "id": "Y45eks0IK_2o",
        "colab_type": "code",
        "colab": {
          "base_uri": "https://localhost:8080/",
          "height": 34
        },
        "outputId": "f614fa5d-9a4d-40ba-ea42-9adaadd8ebbb"
      },
      "source": [
        "a=10.0\n",
        "b=2.0\n",
        "print(\"a/b=\",a/b)"
      ],
      "execution_count": 6,
      "outputs": [
        {
          "output_type": "stream",
          "text": [
            "a/b= 5.0\n"
          ],
          "name": "stdout"
        }
      ]
    },
    {
      "cell_type": "code",
      "metadata": {
        "id": "MOrI_MOJP8PM",
        "colab_type": "code",
        "colab": {
          "base_uri": "https://localhost:8080/",
          "height": 34
        },
        "outputId": "c4d9e865-65cf-4ef3-85b3-c49080cd083f"
      },
      "source": [
        "a=10\n",
        "b=2\n",
        "print(\"a/b=\",a/b)"
      ],
      "execution_count": 7,
      "outputs": [
        {
          "output_type": "stream",
          "text": [
            "a/b= 5.0\n"
          ],
          "name": "stdout"
        }
      ]
    },
    {
      "cell_type": "code",
      "metadata": {
        "id": "ExSxAZscQFRq",
        "colab_type": "code",
        "colab": {
          "base_uri": "https://localhost:8080/",
          "height": 34
        },
        "outputId": "8297aeb9-5624-40ea-d634-c5e925e87138"
      },
      "source": [
        "a=10.0\n",
        "b=2\n",
        "print(\"a/b=\",a/b)"
      ],
      "execution_count": 8,
      "outputs": [
        {
          "output_type": "stream",
          "text": [
            "a/b= 5.0\n"
          ],
          "name": "stdout"
        }
      ]
    },
    {
      "cell_type": "code",
      "metadata": {
        "id": "gfU85SRtQIVd",
        "colab_type": "code",
        "colab": {
          "base_uri": "https://localhost:8080/",
          "height": 34
        },
        "outputId": "899c4a61-a1dd-47c0-90fa-4673966ae31c"
      },
      "source": [
        "10/3   #division"
      ],
      "execution_count": 11,
      "outputs": [
        {
          "output_type": "execute_result",
          "data": {
            "text/plain": [
              "3.3333333333333335"
            ]
          },
          "metadata": {
            "tags": []
          },
          "execution_count": 11
        }
      ]
    },
    {
      "cell_type": "code",
      "metadata": {
        "id": "JGgXopFRRrwF",
        "colab_type": "code",
        "colab": {
          "base_uri": "https://localhost:8080/",
          "height": 34
        },
        "outputId": "8ee7ff9a-d62d-4a17-9d9b-28214b76f8c7"
      },
      "source": [
        "10//3 #floor division "
      ],
      "execution_count": 13,
      "outputs": [
        {
          "output_type": "execute_result",
          "data": {
            "text/plain": [
              "3"
            ]
          },
          "metadata": {
            "tags": []
          },
          "execution_count": 13
        }
      ]
    },
    {
      "cell_type": "markdown",
      "metadata": {
        "id": "M2POiL9-lUXT",
        "colab_type": "text"
      },
      "source": [
        "--> + operator also applicable for str type\n",
        "\n",
        "--> string concatenation operator\n",
        "\n",
        "--> string + string (applicable)\n",
        "\n",
        "--> string + non-string (error found)\n",
        "\n",
        "--> - operator is not applicable for str type"
      ]
    },
    {
      "cell_type": "code",
      "metadata": {
        "id": "UA2ouoqbR3AL",
        "colab_type": "code",
        "colab": {
          "base_uri": "https://localhost:8080/",
          "height": 163
        },
        "outputId": "0babd822-46e5-45c1-85fc-e4518754176f"
      },
      "source": [
        "'Durga'+3   #Durga3 (this is in java only)"
      ],
      "execution_count": 15,
      "outputs": [
        {
          "output_type": "error",
          "ename": "TypeError",
          "evalue": "ignored",
          "traceback": [
            "\u001b[0;31m---------------------------------------------------------------------------\u001b[0m",
            "\u001b[0;31mTypeError\u001b[0m                                 Traceback (most recent call last)",
            "\u001b[0;32m<ipython-input-15-790d5f169644>\u001b[0m in \u001b[0;36m<module>\u001b[0;34m()\u001b[0m\n\u001b[0;32m----> 1\u001b[0;31m \u001b[0;34m'Durga'\u001b[0m\u001b[0;34m+\u001b[0m\u001b[0;36m3\u001b[0m   \u001b[0;31m#Durga3\u001b[0m\u001b[0;34m\u001b[0m\u001b[0;34m\u001b[0m\u001b[0m\n\u001b[0m",
            "\u001b[0;31mTypeError\u001b[0m: must be str, not int"
          ]
        }
      ]
    },
    {
      "cell_type": "code",
      "metadata": {
        "id": "wi2fvVdzliFm",
        "colab_type": "code",
        "colab": {
          "base_uri": "https://localhost:8080/",
          "height": 35
        },
        "outputId": "1e2f4650-5b01-4f18-b05c-554edaacbe8a"
      },
      "source": [
        "'Durga'+'3'   "
      ],
      "execution_count": 16,
      "outputs": [
        {
          "output_type": "execute_result",
          "data": {
            "application/vnd.google.colaboratory.intrinsic": {
              "type": "string"
            },
            "text/plain": [
              "'Durga3'"
            ]
          },
          "metadata": {
            "tags": []
          },
          "execution_count": 16
        }
      ]
    },
    {
      "cell_type": "code",
      "metadata": {
        "id": "PfcsLjUtl351",
        "colab_type": "code",
        "colab": {
          "base_uri": "https://localhost:8080/",
          "height": 35
        },
        "outputId": "4cc56b6b-6583-4033-c68a-4918a884a81e"
      },
      "source": [
        "'Durga'+str(3)  "
      ],
      "execution_count": 17,
      "outputs": [
        {
          "output_type": "execute_result",
          "data": {
            "application/vnd.google.colaboratory.intrinsic": {
              "type": "string"
            },
            "text/plain": [
              "'Durga3'"
            ]
          },
          "metadata": {
            "tags": []
          },
          "execution_count": 17
        }
      ]
    },
    {
      "cell_type": "markdown",
      "metadata": {
        "id": "-SN_Uonqm1-m",
        "colab_type": "text"
      },
      "source": [
        "* operator for str type\n",
        "-----\n",
        "--> string * int (only) \n",
        "\n",
        "--> can't multiply sequence by non-int of type 'str'\n",
        "\n",
        "-->can't multiply sequence by non-int of type 'float'"
      ]
    },
    {
      "cell_type": "code",
      "metadata": {
        "id": "wxLj51lDmr4U",
        "colab_type": "code",
        "colab": {
          "base_uri": "https://localhost:8080/",
          "height": 35
        },
        "outputId": "8de84bf7-c06f-4730-ae02-aa256b98aa6d"
      },
      "source": [
        "'durga'*3"
      ],
      "execution_count": 18,
      "outputs": [
        {
          "output_type": "execute_result",
          "data": {
            "application/vnd.google.colaboratory.intrinsic": {
              "type": "string"
            },
            "text/plain": [
              "'durgadurgadurga'"
            ]
          },
          "metadata": {
            "tags": []
          },
          "execution_count": 18
        }
      ]
    },
    {
      "cell_type": "code",
      "metadata": {
        "id": "e4X4VEKTnUMc",
        "colab_type": "code",
        "colab": {
          "base_uri": "https://localhost:8080/",
          "height": 163
        },
        "outputId": "f1346b68-5c68-43f3-de5f-f0a0ef88d5a7"
      },
      "source": [
        "'durga'*'3'"
      ],
      "execution_count": 19,
      "outputs": [
        {
          "output_type": "error",
          "ename": "TypeError",
          "evalue": "ignored",
          "traceback": [
            "\u001b[0;31m---------------------------------------------------------------------------\u001b[0m",
            "\u001b[0;31mTypeError\u001b[0m                                 Traceback (most recent call last)",
            "\u001b[0;32m<ipython-input-19-9a1f6f07fe33>\u001b[0m in \u001b[0;36m<module>\u001b[0;34m()\u001b[0m\n\u001b[0;32m----> 1\u001b[0;31m \u001b[0;34m'durga'\u001b[0m\u001b[0;34m*\u001b[0m\u001b[0;34m'3'\u001b[0m\u001b[0;34m\u001b[0m\u001b[0;34m\u001b[0m\u001b[0m\n\u001b[0m",
            "\u001b[0;31mTypeError\u001b[0m: can't multiply sequence by non-int of type 'str'"
          ]
        }
      ]
    },
    {
      "cell_type": "code",
      "metadata": {
        "id": "4_BQ-b2HnX7T",
        "colab_type": "code",
        "colab": {
          "base_uri": "https://localhost:8080/",
          "height": 163
        },
        "outputId": "ef91b866-115d-4cce-9d36-270210a9aee5"
      },
      "source": [
        "'durga'*3.0"
      ],
      "execution_count": 20,
      "outputs": [
        {
          "output_type": "error",
          "ename": "TypeError",
          "evalue": "ignored",
          "traceback": [
            "\u001b[0;31m---------------------------------------------------------------------------\u001b[0m",
            "\u001b[0;31mTypeError\u001b[0m                                 Traceback (most recent call last)",
            "\u001b[0;32m<ipython-input-20-bef009b493e9>\u001b[0m in \u001b[0;36m<module>\u001b[0;34m()\u001b[0m\n\u001b[0;32m----> 1\u001b[0;31m \u001b[0;34m'durga'\u001b[0m\u001b[0;34m*\u001b[0m\u001b[0;36m3.0\u001b[0m\u001b[0;34m\u001b[0m\u001b[0;34m\u001b[0m\u001b[0m\n\u001b[0m",
            "\u001b[0;31mTypeError\u001b[0m: can't multiply sequence by non-int of type 'float'"
          ]
        }
      ]
    },
    {
      "cell_type": "code",
      "metadata": {
        "id": "130QBiI0nsPH",
        "colab_type": "code",
        "colab": {
          "base_uri": "https://localhost:8080/",
          "height": 35
        },
        "outputId": "d7402274-5677-48b7-a19d-8b15d7924a8d"
      },
      "source": [
        "2*'durga' #order is not important here."
      ],
      "execution_count": 21,
      "outputs": [
        {
          "output_type": "execute_result",
          "data": {
            "application/vnd.google.colaboratory.intrinsic": {
              "type": "string"
            },
            "text/plain": [
              "'durgadurga'"
            ]
          },
          "metadata": {
            "tags": []
          },
          "execution_count": 21
        }
      ]
    },
    {
      "cell_type": "code",
      "metadata": {
        "id": "nEiJDVJGn2yb",
        "colab_type": "code",
        "colab": {
          "base_uri": "https://localhost:8080/",
          "height": 34
        },
        "outputId": "54165257-68ec-4b53-8cf2-6924c6863b14"
      },
      "source": [
        "10**2"
      ],
      "execution_count": 22,
      "outputs": [
        {
          "output_type": "execute_result",
          "data": {
            "text/plain": [
              "100"
            ]
          },
          "metadata": {
            "tags": []
          },
          "execution_count": 22
        }
      ]
    },
    {
      "cell_type": "code",
      "metadata": {
        "id": "diqD1CC7oFkN",
        "colab_type": "code",
        "colab": {
          "base_uri": "https://localhost:8080/",
          "height": 34
        },
        "outputId": "17c05f54-8858-46e5-ff3c-6969b800ad30"
      },
      "source": [
        "10**-2"
      ],
      "execution_count": 23,
      "outputs": [
        {
          "output_type": "execute_result",
          "data": {
            "text/plain": [
              "0.01"
            ]
          },
          "metadata": {
            "tags": []
          },
          "execution_count": 23
        }
      ]
    },
    {
      "cell_type": "code",
      "metadata": {
        "id": "7ZKV9ns4oHR_",
        "colab_type": "code",
        "colab": {
          "base_uri": "https://localhost:8080/",
          "height": 34
        },
        "outputId": "313cfbac-532f-405f-da7c-b81608cf2f8f"
      },
      "source": [
        "(10+2j)**(10+3j)"
      ],
      "execution_count": 24,
      "outputs": [
        {
          "output_type": "execute_result",
          "data": {
            "text/plain": [
              "(-5955821969.656015+3132803455.4997764j)"
            ]
          },
          "metadata": {
            "tags": []
          },
          "execution_count": 24
        }
      ]
    },
    {
      "cell_type": "code",
      "metadata": {
        "id": "RjUoe4VboS2_",
        "colab_type": "code",
        "colab": {
          "base_uri": "https://localhost:8080/",
          "height": 163
        },
        "outputId": "84a673be-5805-494e-b8fa-c7f77784682f"
      },
      "source": [
        "2/0 # x/0---ZeroDivisionError"
      ],
      "execution_count": 25,
      "outputs": [
        {
          "output_type": "error",
          "ename": "ZeroDivisionError",
          "evalue": "ignored",
          "traceback": [
            "\u001b[0;31m---------------------------------------------------------------------------\u001b[0m",
            "\u001b[0;31mZeroDivisionError\u001b[0m                         Traceback (most recent call last)",
            "\u001b[0;32m<ipython-input-25-e8326a161779>\u001b[0m in \u001b[0;36m<module>\u001b[0;34m()\u001b[0m\n\u001b[0;32m----> 1\u001b[0;31m \u001b[0;36m2\u001b[0m\u001b[0;34m/\u001b[0m\u001b[0;36m0\u001b[0m\u001b[0;34m\u001b[0m\u001b[0;34m\u001b[0m\u001b[0m\n\u001b[0m",
            "\u001b[0;31mZeroDivisionError\u001b[0m: division by zero"
          ]
        }
      ]
    },
    {
      "cell_type": "code",
      "metadata": {
        "id": "yNuqH_oCorCa",
        "colab_type": "code",
        "colab": {
          "base_uri": "https://localhost:8080/",
          "height": 163
        },
        "outputId": "5acbfc76-1ec5-4eb0-a368-76603c8ca357"
      },
      "source": [
        "2%0  #x%0 ZeroDivisionError"
      ],
      "execution_count": 26,
      "outputs": [
        {
          "output_type": "error",
          "ename": "ZeroDivisionError",
          "evalue": "ignored",
          "traceback": [
            "\u001b[0;31m---------------------------------------------------------------------------\u001b[0m",
            "\u001b[0;31mZeroDivisionError\u001b[0m                         Traceback (most recent call last)",
            "\u001b[0;32m<ipython-input-26-ec5a01e59b87>\u001b[0m in \u001b[0;36m<module>\u001b[0;34m()\u001b[0m\n\u001b[0;32m----> 1\u001b[0;31m \u001b[0;36m2\u001b[0m\u001b[0;34m%\u001b[0m\u001b[0;36m0\u001b[0m\u001b[0;34m\u001b[0m\u001b[0;34m\u001b[0m\u001b[0m\n\u001b[0m",
            "\u001b[0;31mZeroDivisionError\u001b[0m: integer division or modulo by zero"
          ]
        }
      ]
    },
    {
      "cell_type": "code",
      "metadata": {
        "id": "0Qlp_xyyouMX",
        "colab_type": "code",
        "colab": {
          "base_uri": "https://localhost:8080/",
          "height": 163
        },
        "outputId": "ba3425e9-7556-4241-fde2-6f22bb4afa8f"
      },
      "source": [
        "2//0 # x//0 ZeroDivisionError"
      ],
      "execution_count": 27,
      "outputs": [
        {
          "output_type": "error",
          "ename": "ZeroDivisionError",
          "evalue": "ignored",
          "traceback": [
            "\u001b[0;31m---------------------------------------------------------------------------\u001b[0m",
            "\u001b[0;31mZeroDivisionError\u001b[0m                         Traceback (most recent call last)",
            "\u001b[0;32m<ipython-input-27-d6c81c30da92>\u001b[0m in \u001b[0;36m<module>\u001b[0;34m()\u001b[0m\n\u001b[0;32m----> 1\u001b[0;31m \u001b[0;36m2\u001b[0m\u001b[0;34m//\u001b[0m\u001b[0;36m0\u001b[0m\u001b[0;34m\u001b[0m\u001b[0;34m\u001b[0m\u001b[0m\n\u001b[0m",
            "\u001b[0;31mZeroDivisionError\u001b[0m: integer division or modulo by zero"
          ]
        }
      ]
    },
    {
      "cell_type": "markdown",
      "metadata": {
        "id": "e5c4FopPpLUV",
        "colab_type": "text"
      },
      "source": [
        "# Relational operators:\n",
        "\n",
        "--> > \n",
        "\n",
        "-->  >=\n",
        "\n",
        "--> <\n",
        "\n",
        "--> <="
      ]
    },
    {
      "cell_type": "code",
      "metadata": {
        "id": "Wp3kECqapAJ4",
        "colab_type": "code",
        "colab": {
          "base_uri": "https://localhost:8080/",
          "height": 85
        },
        "outputId": "33a74743-d45a-49ca-91ee-0d9d17e372ea"
      },
      "source": [
        "a=10\n",
        "b=20\n",
        "print(\"a>b is\",a>b)#F\n",
        "print(\"a>=b is\",a>=b)#F\n",
        "print(\"a<b is\",a<b)#T\n",
        "print(\"a<=b is\",a<=b)#T"
      ],
      "execution_count": 28,
      "outputs": [
        {
          "output_type": "stream",
          "text": [
            "a>b is False\n",
            "a>=b is False\n",
            "a<b is True\n",
            "a<=b is True\n"
          ],
          "name": "stdout"
        }
      ]
    },
    {
      "cell_type": "code",
      "metadata": {
        "id": "nOLw5GqOqQ-J",
        "colab_type": "code",
        "colab": {
          "base_uri": "https://localhost:8080/",
          "height": 85
        },
        "outputId": "f01d280a-554d-4b18-b8d3-d50d382f6135"
      },
      "source": [
        "a='durga'     #not based on length but in alphabet order\n",
        "b='ravi'\n",
        "print(\"a>b is\",a>b)#F\n",
        "print(\"a>=b is\",a>=b)#F\n",
        "print(\"a<b is\",a<b)#T\n",
        "print(\"a<=b is\",a<=b)#T"
      ],
      "execution_count": 29,
      "outputs": [
        {
          "output_type": "stream",
          "text": [
            "a>b is False\n",
            "a>=b is False\n",
            "a<b is True\n",
            "a<=b is True\n"
          ],
          "name": "stdout"
        }
      ]
    },
    {
      "cell_type": "code",
      "metadata": {
        "id": "NmhiIcg7qdqu",
        "colab_type": "code",
        "colab": {
          "base_uri": "https://localhost:8080/",
          "height": 85
        },
        "outputId": "cd79dde0-6870-468e-e4a7-bb76fdf5d29a"
      },
      "source": [
        "a='durga'     #not based on length but in alphabet order\n",
        "b='Durga'\n",
        "print(\"a>b is\",a>b)#T\n",
        "print(\"a>=b is\",a>=b)#T\n",
        "print(\"a<b is\",a<b)#F\n",
        "print(\"a<=b is\",a<=b)#F"
      ],
      "execution_count": 30,
      "outputs": [
        {
          "output_type": "stream",
          "text": [
            "a>b is True\n",
            "a>=b is True\n",
            "a<b is False\n",
            "a<=b is False\n"
          ],
          "name": "stdout"
        }
      ]
    },
    {
      "cell_type": "code",
      "metadata": {
        "id": "v5ljPPhuq1H9",
        "colab_type": "code",
        "colab": {
          "base_uri": "https://localhost:8080/",
          "height": 85
        },
        "outputId": "65c44e6f-580d-4d8d-e5cc-e9bfd11ef717"
      },
      "source": [
        "a='durga'     #not based on length but in alphabet order\n",
        "b='darga'\n",
        "print(\"a>b is\",a>b)#T\n",
        "print(\"a>=b is\",a>=b)#T\n",
        "print(\"a<b is\",a<b)#F\n",
        "print(\"a<=b is\",a<=b)#F"
      ],
      "execution_count": 31,
      "outputs": [
        {
          "output_type": "stream",
          "text": [
            "a>b is True\n",
            "a>=b is True\n",
            "a<b is False\n",
            "a<=b is False\n"
          ],
          "name": "stdout"
        }
      ]
    },
    {
      "cell_type": "code",
      "metadata": {
        "id": "vDM8OnmerHHz",
        "colab_type": "code",
        "colab": {
          "base_uri": "https://localhost:8080/",
          "height": 85
        },
        "outputId": "95a6ce34-e61c-4ff8-e382-7ac837363e12"
      },
      "source": [
        "a=True     \n",
        "b=False\n",
        "print(\"a>b is\",a>b)#T\n",
        "print(\"a>=b is\",a>=b)#T\n",
        "print(\"a<b is\",a<b)#F\n",
        "print(\"a<=b is\",a<=b)#F"
      ],
      "execution_count": 32,
      "outputs": [
        {
          "output_type": "stream",
          "text": [
            "a>b is True\n",
            "a>=b is True\n",
            "a<b is False\n",
            "a<=b is False\n"
          ],
          "name": "stdout"
        }
      ]
    },
    {
      "cell_type": "code",
      "metadata": {
        "id": "ZcQ9xT5VrTTy",
        "colab_type": "code",
        "colab": {
          "base_uri": "https://localhost:8080/",
          "height": 85
        },
        "outputId": "67597c9f-3629-4743-92e4-f69ef5a20f94"
      },
      "source": [
        "a='True'     \n",
        "b='False'\n",
        "print(\"a>b is\",a>b)#T\n",
        "print(\"a>=b is\",a>=b)#T\n",
        "print(\"a<b is\",a<b)#F\n",
        "print(\"a<=b is\",a<=b)#F"
      ],
      "execution_count": 33,
      "outputs": [
        {
          "output_type": "stream",
          "text": [
            "a>b is True\n",
            "a>=b is True\n",
            "a<b is False\n",
            "a<=b is False\n"
          ],
          "name": "stdout"
        }
      ]
    },
    {
      "cell_type": "code",
      "metadata": {
        "id": "nP5m48NVrhZb",
        "colab_type": "code",
        "colab": {
          "base_uri": "https://localhost:8080/",
          "height": 231
        },
        "outputId": "4fd5e021-d7bc-4162-9f7e-23ee61e6b188"
      },
      "source": [
        "a='True'     \n",
        "b=False\n",
        "print(\"a>b is\",a>b)#T\n",
        "print(\"a>=b is\",a>=b)#T\n",
        "print(\"a<b is\",a<b)#F\n",
        "print(\"a<=b is\",a<=b)#F\n",
        "print(\"a<=b is\",a<=b)#F"
      ],
      "execution_count": 34,
      "outputs": [
        {
          "output_type": "error",
          "ename": "TypeError",
          "evalue": "ignored",
          "traceback": [
            "\u001b[0;31m---------------------------------------------------------------------------\u001b[0m",
            "\u001b[0;31mTypeError\u001b[0m                                 Traceback (most recent call last)",
            "\u001b[0;32m<ipython-input-34-0df09869df9a>\u001b[0m in \u001b[0;36m<module>\u001b[0;34m()\u001b[0m\n\u001b[1;32m      1\u001b[0m \u001b[0ma\u001b[0m\u001b[0;34m=\u001b[0m\u001b[0;34m'True'\u001b[0m\u001b[0;34m\u001b[0m\u001b[0;34m\u001b[0m\u001b[0m\n\u001b[1;32m      2\u001b[0m \u001b[0mb\u001b[0m\u001b[0;34m=\u001b[0m\u001b[0;32mFalse\u001b[0m\u001b[0;34m\u001b[0m\u001b[0;34m\u001b[0m\u001b[0m\n\u001b[0;32m----> 3\u001b[0;31m \u001b[0mprint\u001b[0m\u001b[0;34m(\u001b[0m\u001b[0;34m\"a>b is\"\u001b[0m\u001b[0;34m,\u001b[0m\u001b[0ma\u001b[0m\u001b[0;34m>\u001b[0m\u001b[0mb\u001b[0m\u001b[0;34m)\u001b[0m\u001b[0;31m#T\u001b[0m\u001b[0;34m\u001b[0m\u001b[0;34m\u001b[0m\u001b[0m\n\u001b[0m\u001b[1;32m      4\u001b[0m \u001b[0mprint\u001b[0m\u001b[0;34m(\u001b[0m\u001b[0;34m\"a>=b is\"\u001b[0m\u001b[0;34m,\u001b[0m\u001b[0ma\u001b[0m\u001b[0;34m>=\u001b[0m\u001b[0mb\u001b[0m\u001b[0;34m)\u001b[0m\u001b[0;31m#T\u001b[0m\u001b[0;34m\u001b[0m\u001b[0;34m\u001b[0m\u001b[0m\n\u001b[1;32m      5\u001b[0m \u001b[0mprint\u001b[0m\u001b[0;34m(\u001b[0m\u001b[0;34m\"a<b is\"\u001b[0m\u001b[0;34m,\u001b[0m\u001b[0ma\u001b[0m\u001b[0;34m<\u001b[0m\u001b[0mb\u001b[0m\u001b[0;34m)\u001b[0m\u001b[0;31m#F\u001b[0m\u001b[0;34m\u001b[0m\u001b[0;34m\u001b[0m\u001b[0m\n",
            "\u001b[0;31mTypeError\u001b[0m: '>' not supported between instances of 'str' and 'bool'"
          ]
        }
      ]
    },
    {
      "cell_type": "code",
      "metadata": {
        "id": "8MEQGjeyrspG",
        "colab_type": "code",
        "colab": {
          "base_uri": "https://localhost:8080/",
          "height": 34
        },
        "outputId": "d838b975-f1a4-422b-bb3d-2d00ecdb2e66"
      },
      "source": [
        "a=10\n",
        "b=20\n",
        "if(a>b):\n",
        "  print(\"a greater than b\")\n",
        "else: #indentation is important in python\n",
        "    print(\"b is greater than a\")"
      ],
      "execution_count": 38,
      "outputs": [
        {
          "output_type": "stream",
          "text": [
            "b is greater than a\n"
          ],
          "name": "stdout"
        }
      ]
    },
    {
      "cell_type": "code",
      "metadata": {
        "id": "Ll4W6g-msJjE",
        "colab_type": "code",
        "colab": {
          "base_uri": "https://localhost:8080/",
          "height": 136
        },
        "outputId": "3d2b3ef2-a120-4c32-8b7f-e6a6423ee311"
      },
      "source": [
        "a=10\n",
        "b=20\n",
        "if(a>b):\n",
        "  print(\"a greater than b\")\n",
        "  print(\"a greater than b\")\n",
        "  print(\"a greater than b\")\n",
        "  print(\"a greater than b\")\n",
        "  print(\"a greater than b\")\n",
        "  print(\"a greater than b\")\n",
        "else:\n",
        "    print(\"b is greater than a\")\n",
        "    print(\"b is greater than a\")\n",
        "    print(\"b is greater than a\")\n",
        "    print(\"b is greater than a\")\n",
        "    print(\"b is greater than a\")\n",
        "    print(\"b is greater than a\")\n",
        "    print(\"b is greater than a\")"
      ],
      "execution_count": 37,
      "outputs": [
        {
          "output_type": "stream",
          "text": [
            "b is greater than a\n",
            "b is greater than a\n",
            "b is greater than a\n",
            "b is greater than a\n",
            "b is greater than a\n",
            "b is greater than a\n",
            "b is greater than a\n"
          ],
          "name": "stdout"
        }
      ]
    },
    {
      "cell_type": "code",
      "metadata": {
        "id": "WzFuMMLfs3eF",
        "colab_type": "code",
        "colab": {
          "base_uri": "https://localhost:8080/",
          "height": 129
        },
        "outputId": "83169b92-0e55-4135-b2e8-517f2da62172"
      },
      "source": [
        "a=10\n",
        "b=20\n",
        "if(a>b):\n",
        "  print(\"a greater than b\")\n",
        "  print(\"a greater than b\")\n",
        "  print(\"a greater than b\")\n",
        "  print(\"a greater than b\")\n",
        "  print(\"a greater than b\")\n",
        "print(\"a greater than b\")\n",
        "else:\n",
        "    print(\"b is greater than a\")\n",
        "    print(\"b is greater than a\")\n",
        "    print(\"b is greater than a\")\n",
        "    print(\"b is greater than a\")\n",
        "    print(\"b is greater than a\")\n",
        "    print(\"b is greater than a\")\n",
        "    print(\"b is greater than a\")"
      ],
      "execution_count": 39,
      "outputs": [
        {
          "output_type": "error",
          "ename": "SyntaxError",
          "evalue": "ignored",
          "traceback": [
            "\u001b[0;36m  File \u001b[0;32m\"<ipython-input-39-ca5eca9411c5>\"\u001b[0;36m, line \u001b[0;32m10\u001b[0m\n\u001b[0;31m    else:\u001b[0m\n\u001b[0m       ^\u001b[0m\n\u001b[0;31mSyntaxError\u001b[0m\u001b[0;31m:\u001b[0m invalid syntax\n"
          ]
        }
      ]
    },
    {
      "cell_type": "code",
      "metadata": {
        "id": "72Vh6jH9te2z",
        "colab_type": "code",
        "colab": {}
      },
      "source": [
        "a=10\n",
        "b=20\n",
        "if(a>b):\n",
        "  print(\"a greater than b\")"
      ],
      "execution_count": 41,
      "outputs": []
    },
    {
      "cell_type": "code",
      "metadata": {
        "id": "LDBThI2BttmU",
        "colab_type": "code",
        "colab": {
          "base_uri": "https://localhost:8080/",
          "height": 34
        },
        "outputId": "b0c32e19-3afe-417f-9c9c-802cdadebbfa"
      },
      "source": [
        "a=10\n",
        "b=20\n",
        "if(a<b):\n",
        "  print(\"a greater than b\")"
      ],
      "execution_count": 42,
      "outputs": [
        {
          "output_type": "stream",
          "text": [
            "a greater than b\n"
          ],
          "name": "stdout"
        }
      ]
    },
    {
      "cell_type": "code",
      "metadata": {
        "id": "Dc10m5Jqt0e7",
        "colab_type": "code",
        "colab": {
          "base_uri": "https://localhost:8080/",
          "height": 129
        },
        "outputId": "96c79cd2-294c-49a8-e35d-a1a58c7e7f46"
      },
      "source": [
        "a=10\n",
        "b=20\n",
        "if(a>b):\n",
        "  print(\"a greater than b\")\n",
        "        print(\"a greater than b\")"
      ],
      "execution_count": 46,
      "outputs": [
        {
          "output_type": "error",
          "ename": "IndentationError",
          "evalue": "ignored",
          "traceback": [
            "\u001b[0;36m  File \u001b[0;32m\"<ipython-input-46-a4787949566b>\"\u001b[0;36m, line \u001b[0;32m5\u001b[0m\n\u001b[0;31m    print(\"a greater than b\")\u001b[0m\n\u001b[0m    ^\u001b[0m\n\u001b[0;31mIndentationError\u001b[0m\u001b[0;31m:\u001b[0m unexpected indent\n"
          ]
        }
      ]
    },
    {
      "cell_type": "code",
      "metadata": {
        "id": "Mzzh2r-Tt4U-",
        "colab_type": "code",
        "colab": {
          "base_uri": "https://localhost:8080/",
          "height": 34
        },
        "outputId": "6e223b81-d11d-44b1-b124-a2d464ab867c"
      },
      "source": [
        "10<20"
      ],
      "execution_count": 47,
      "outputs": [
        {
          "output_type": "execute_result",
          "data": {
            "text/plain": [
              "True"
            ]
          },
          "metadata": {
            "tags": []
          },
          "execution_count": 47
        }
      ]
    },
    {
      "cell_type": "code",
      "metadata": {
        "id": "isDmO4FkuRWd",
        "colab_type": "code",
        "colab": {
          "base_uri": "https://localhost:8080/",
          "height": 34
        },
        "outputId": "cfe54d41-ec74-47e2-da6c-1f6345a8f92e"
      },
      "source": [
        "10<20<30"
      ],
      "execution_count": 48,
      "outputs": [
        {
          "output_type": "execute_result",
          "data": {
            "text/plain": [
              "True"
            ]
          },
          "metadata": {
            "tags": []
          },
          "execution_count": 48
        }
      ]
    },
    {
      "cell_type": "markdown",
      "metadata": {
        "id": "NtNKahhPup-Z",
        "colab_type": "text"
      },
      "source": [
        "#Equality operators"
      ]
    },
    {
      "cell_type": "code",
      "metadata": {
        "id": "Qd2uf3bCuVM2",
        "colab_type": "code",
        "colab": {}
      },
      "source": [
        ""
      ],
      "execution_count": null,
      "outputs": []
    }
  ]
}