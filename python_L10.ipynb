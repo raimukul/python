{
  "nbformat": 4,
  "nbformat_minor": 0,
  "metadata": {
    "colab": {
      "name": "python_L10.ipynb",
      "provenance": [],
      "collapsed_sections": [],
      "authorship_tag": "ABX9TyMqzMKbgSVpLumhmCg+fqQ2",
      "include_colab_link": true
    },
    "kernelspec": {
      "name": "python3",
      "display_name": "Python 3"
    }
  },
  "cells": [
    {
      "cell_type": "markdown",
      "metadata": {
        "id": "view-in-github",
        "colab_type": "text"
      },
      "source": [
        "<a href=\"https://colab.research.google.com/github/raimukul/python/blob/master/python_L10.ipynb\" target=\"_parent\"><img src=\"https://colab.research.google.com/assets/colab-badge.svg\" alt=\"Open In Colab\"/></a>"
      ]
    },
    {
      "cell_type": "markdown",
      "metadata": {
        "id": "9f1xQ4X1QdC9",
        "colab_type": "text"
      },
      "source": [
        "Dictionary:\n",
        "\n",
        "---\n",
        "\n",
        "key-value pairs\n",
        "\n",
        "d={100:'durga',200:'ravi'}\n",
        "\n",
        "dict==>{ }\n",
        "\n",
        "set==>{ }\n",
        "\n",
        "list==>[ ]\n",
        "\n",
        "tuple==>( )"
      ]
    },
    {
      "cell_type": "markdown",
      "metadata": {
        "id": "le_2Wo4QQlRR",
        "colab_type": "text"
      },
      "source": [
        "**Revision** \n",
        "--------\n",
        "1. int,float,complex,bool,str \n",
        "\n",
        "2. byte & bytearray==> to represent binary data like images,videos or audio files\n",
        "\n",
        "3. long data type\n",
        "\n",
        "      python2-->available\n",
        "\n",
        "      python3-->not available\n",
        "\n",
        "4. cha='a' ==> str"
      ]
    }
  ]
}