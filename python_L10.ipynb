{
  "nbformat": 4,
  "nbformat_minor": 0,
  "metadata": {
    "colab": {
      "name": "python_L10.ipynb",
      "provenance": [],
      "collapsed_sections": [],
      "authorship_tag": "ABX9TyOktFARJP6ezMT+DwXQ2eXX",
      "include_colab_link": true
    },
    "kernelspec": {
      "name": "python3",
      "display_name": "Python 3"
    }
  },
  "cells": [
    {
      "cell_type": "markdown",
      "metadata": {
        "id": "view-in-github",
        "colab_type": "text"
      },
      "source": [
        "<a href=\"https://colab.research.google.com/github/raimukul/python/blob/master/python_L10.ipynb\" target=\"_parent\"><img src=\"https://colab.research.google.com/assets/colab-badge.svg\" alt=\"Open In Colab\"/></a>"
      ]
    },
    {
      "cell_type": "markdown",
      "metadata": {
        "id": "9f1xQ4X1QdC9",
        "colab_type": "text"
      },
      "source": [
        "Dictionary:\n",
        "\n",
        "---\n",
        "\n",
        "key-value pairs\n",
        "\n",
        "d={100:'durga',200:'ravi'}\n",
        "\n",
        "dict==>{ }\n",
        "\n",
        "set==>{ }\n",
        "\n",
        "list==>[ ]\n",
        "\n",
        "tuple==>( )"
      ]
    },
    {
      "cell_type": "markdown",
      "metadata": {
        "id": "le_2Wo4QQlRR",
        "colab_type": "text"
      },
      "source": [
        "**Revision** \n",
        "--------\n",
        "1. int,float,complex,bool,str \n",
        "\n",
        "2. byte & bytearray==> to represent binary data like images,videos or audio files\n",
        "\n",
        "3. long data type\n",
        "\n",
        "      python2-->available\n",
        "\n",
        "      python3-->not available\n",
        "\n",
        "4. cha='a' ==> str\n",
        "\n",
        "-------------------\n",
        "\n",
        "1. int:\n",
        "\n",
        "--> to represent whole numbers\n",
        "\n",
        "-->integral number\n",
        "\n",
        "-->immutable\n",
        "\n",
        "2. float:\n",
        "\n",
        "-->decimal numbers\n",
        "\n",
        "-->123.65 67.43\n",
        "\n",
        "--> immutable\n",
        "\n",
        "3. complex:\n",
        "\n",
        "-->a+bj\n",
        "\n",
        "-->c=10.5+20.6j\n",
        "\n",
        "   type(c)\n",
        "-->immutable\n",
        "\n",
        "4. bool:\n",
        "\n",
        "-->True and False\n",
        "\n",
        "-->True+True===>2\n",
        "\n",
        "-->True+False===>1\n",
        "\n",
        "-->b=True\n",
        "\n",
        "  type(b)\n",
        "\n",
        "-->immuatable\n",
        "\n",
        "5. str:\n",
        "\n",
        "-->most used data type in python\n",
        "\n",
        "-->A sequence of character\n",
        "\n",
        "--> 'single'\n",
        "\n",
        "--> \"double\"\n",
        "\n",
        "-->'\"triple'\"\n",
        "\n",
        "--->immutable:we cannot change the previous value and if we changed then automatically new class will be created.\n",
        "\n",
        "6. bytes:\n",
        "\n",
        "-->0-256 range\n",
        "\n",
        "--->l=[10,20,30,256]\n",
        "\n",
        "    b=bytes(b)\n",
        "\n",
        "--->immutable --b[0]=100(error found)\n",
        "\n",
        "7. bytearray:\n",
        "\n",
        "-->0-256 range\n",
        "\n",
        "--->l=[10,20,30,256]\n",
        "\n",
        "    b=bytes(b)\n",
        "\n",
        "--->mutable --b[0]=100 (we can change previous defined value)\n",
        "\n",
        "--->we use it in binay numbers\n",
        "\n",
        "8.range\n",
        "\n",
        "-->to represent a range of values\n",
        "\n",
        "--> range(10) :0-9 \n",
        "\n",
        "--->range(10,30)==>10-29\n",
        "\n",
        "----> want increment of 5\n",
        "     \n",
        "       range(10,100,5)\n",
        "\n",
        "       here 5 is step\n",
        "\n",
        "--->immutable in nature\n",
        "\n",
        "9.list:\n",
        "\n",
        "-->insertion order preserved\n",
        "\n",
        "-->dublicates are allowed\n",
        "\n",
        "--> heterogenous objects are allowed\n",
        "\n",
        "--> griowable in nature\n",
        "\n",
        "--> mutable\n",
        "\n",
        "--> l=[10,20,30,256]\n",
        "   \n",
        "    type(l)\n",
        "\n",
        "    l[0]=777\n",
        "\n",
        "10. tuple:\n",
        "\n",
        "-->insertion order preserved\n",
        "\n",
        "-->dublicates are allowed\n",
        "\n",
        "--> heterogenous objects are allowed\n",
        "\n",
        "--> griowable in nature\n",
        "\n",
        "--> immutable\n",
        "\n",
        "--> t=(10,20,30,40)\n",
        "   \n",
        "    type(l)\n",
        "\n",
        "    t[0]=777(error found) due to immutable\n",
        "\n",
        "11. set:\n",
        "\n",
        "--> orders is not important\n",
        "\n",
        "--> dublicates not allowed\n",
        "\n",
        "--> s={1,2,3,4,5}\n",
        "\n",
        "--> indexing and slicing concept not applicable in set\n",
        "\n",
        " s[0]\n",
        "\n",
        " s[1:5]\n",
        "\n",
        "-->mutable in nature\n",
        "\n",
        "--> for creating empty set \n",
        "\n",
        "    --s={}    (incorrect way):it is dict.\n",
        "\n",
        "    --s=set() (correct way)\n",
        "\n",
        "12. frozenset\n",
        "\n",
        "-->insertion order not preserved\n",
        "\n",
        "-->dublicates are not allowed\n",
        "\n",
        "--> immutable\n",
        "\n",
        "--> s={10,20,30,40}\n",
        "   fs=frozenset(s)\n",
        "\n",
        "13. dict\n",
        "\n",
        "-->immutable\n",
        "\n",
        "-->d={101:'durga'}\n",
        "\n",
        "-->d={101:'sunny'}\n",
        "\n",
        "   durga will changed to sunny\n",
        "\n",
        "   old value replaced with new one.\n",
        "   \n",
        " \n",
        "\n",
        "    \n",
        "         \n",
        "\n"
      ]
    },
    {
      "cell_type": "markdown",
      "metadata": {
        "id": "ZF50NrbLbHcK",
        "colab_type": "text"
      },
      "source": [
        "None Data Type:\n",
        "\n",
        "---------------------\n",
        "\n",
        "-->no value or null in other languages.\n",
        "\n"
      ]
    },
    {
      "cell_type": "code",
      "metadata": {
        "id": "K4ZOz94YbTj1",
        "colab_type": "code",
        "colab": {}
      },
      "source": [
        "def f1():\n",
        "  a=10"
      ],
      "execution_count": 1,
      "outputs": []
    },
    {
      "cell_type": "code",
      "metadata": {
        "id": "VXO1G2d2bcXw",
        "colab_type": "code",
        "colab": {}
      },
      "source": [
        "def f2(): print('hello dont be like none')"
      ],
      "execution_count": 2,
      "outputs": []
    },
    {
      "cell_type": "code",
      "metadata": {
        "id": "Bmc8zjWBbpsv",
        "colab_type": "code",
        "colab": {
          "base_uri": "https://localhost:8080/",
          "height": 34
        },
        "outputId": "7223eb1f-4dad-4979-808a-bd93cdd6b83d"
      },
      "source": [
        "f2()"
      ],
      "execution_count": 3,
      "outputs": [
        {
          "output_type": "stream",
          "text": [
            "hello dont be like none\n"
          ],
          "name": "stdout"
        }
      ]
    },
    {
      "cell_type": "code",
      "metadata": {
        "id": "fPgbWHLwb_oZ",
        "colab_type": "code",
        "colab": {
          "base_uri": "https://localhost:8080/",
          "height": 34
        },
        "outputId": "a35cb709-9bc3-44c1-8ce4-5a5e75985285"
      },
      "source": [
        "print(f1()) #such type problem we use none"
      ],
      "execution_count": 4,
      "outputs": [
        {
          "output_type": "stream",
          "text": [
            "None\n"
          ],
          "name": "stdout"
        }
      ]
    },
    {
      "cell_type": "code",
      "metadata": {
        "id": "qsZd5192cEGa",
        "colab_type": "code",
        "colab": {
          "base_uri": "https://localhost:8080/",
          "height": 129
        },
        "outputId": "8c5cdeb7-2cd0-4285-bcae-007854a19f52"
      },
      "source": [
        "def f3():   #just pass "
      ],
      "execution_count": 7,
      "outputs": [
        {
          "output_type": "error",
          "ename": "SyntaxError",
          "evalue": "ignored",
          "traceback": [
            "\u001b[0;36m  File \u001b[0;32m\"<ipython-input-7-ce229074ed49>\"\u001b[0;36m, line \u001b[0;32m1\u001b[0m\n\u001b[0;31m    def f3():\u001b[0m\n\u001b[0m             ^\u001b[0m\n\u001b[0;31mSyntaxError\u001b[0m\u001b[0;31m:\u001b[0m unexpected EOF while parsing\n"
          ]
        }
      ]
    },
    {
      "cell_type": "markdown",
      "metadata": {
        "id": "R6Uq7Fxqcvhf",
        "colab_type": "text"
      },
      "source": [
        "Escape characters:\n",
        "\n",
        "------\n",
        "\n",
        "\\n\n",
        "\n",
        "\\t  :horzontal tab\n",
        "\n",
        "\\r : right \n",
        "\n",
        "\\b  :backspace\n",
        "\n",
        "\\f   :formfeed (page down)\n",
        "\n",
        "\\'\n",
        "\n",
        "\\\"\n",
        "\n",
        "\\\\\n",
        "\n",
        "\\v   :vertical tab\n",
        "\n",
        "..................\n",
        "\n",
        "s=\"python by \"durga sir\" is good\" ==>wrong\n",
        "\n",
        "s=\"python by \\\"durga sir\\\" is good\"\n",
        "\n",
        "s='python by \"durga sir\" is good'\n",
        "\n",
        "s=\"python by 'durga sir' is good\"\n",
        "\n",
        "s=\"\"\"python by 'durga sir' is good and his \"material\" also good\"\"\"\n",
        "\n",
        "s='''python by 'durga sir' is good and his \"material\" also good'''\n",
        "\n",
        "s='python by \\'durga sir\\' is good and his \\\"material\\\" also good' \n",
        "\n",
        "\n",
        "\n"
      ]
    },
    {
      "cell_type": "code",
      "metadata": {
        "id": "_2l7y3bGcS8S",
        "colab_type": "code",
        "colab": {}
      },
      "source": [
        "s='durga\\nsoftware'"
      ],
      "execution_count": 12,
      "outputs": []
    },
    {
      "cell_type": "code",
      "metadata": {
        "id": "tw1akKXMdJkQ",
        "colab_type": "code",
        "colab": {
          "base_uri": "https://localhost:8080/",
          "height": 35
        },
        "outputId": "dd1e1de2-f10f-4594-bdad-fdbe5f1b12fb"
      },
      "source": [
        "s"
      ],
      "execution_count": 13,
      "outputs": [
        {
          "output_type": "execute_result",
          "data": {
            "application/vnd.google.colaboratory.intrinsic": {
              "type": "string"
            },
            "text/plain": [
              "'durga\\nsoftware'"
            ]
          },
          "metadata": {
            "tags": []
          },
          "execution_count": 13
        }
      ]
    },
    {
      "cell_type": "code",
      "metadata": {
        "id": "BGEd2AO9dKXq",
        "colab_type": "code",
        "colab": {
          "base_uri": "https://localhost:8080/",
          "height": 51
        },
        "outputId": "b06dbb4d-55f9-454f-fab9-c4307a003e76"
      },
      "source": [
        "print(s)"
      ],
      "execution_count": 11,
      "outputs": [
        {
          "output_type": "stream",
          "text": [
            "durga\n",
            "software\n"
          ],
          "name": "stdout"
        }
      ]
    },
    {
      "cell_type": "markdown",
      "metadata": {
        "id": "3E74sxsCgHNT",
        "colab_type": "text"
      },
      "source": [
        "Constants:\n",
        "\n",
        "------\n",
        "\n",
        "find int x=10;\n",
        "\n",
        "x=11;//CE:cannot assign to final veriable\n"
      ]
    },
    {
      "cell_type": "code",
      "metadata": {
        "id": "xti3Kkf3dPdh",
        "colab_type": "code",
        "colab": {
          "base_uri": "https://localhost:8080/",
          "height": 129
        },
        "outputId": "550c242a-db84-45ed-9ae6-099ab293624b"
      },
      "source": [
        "const x=10 #no way to define constant in python"
      ],
      "execution_count": 16,
      "outputs": [
        {
          "output_type": "error",
          "ename": "SyntaxError",
          "evalue": "ignored",
          "traceback": [
            "\u001b[0;36m  File \u001b[0;32m\"<ipython-input-16-a797290c1d74>\"\u001b[0;36m, line \u001b[0;32m1\u001b[0m\n\u001b[0;31m    const x=10\u001b[0m\n\u001b[0m          ^\u001b[0m\n\u001b[0;31mSyntaxError\u001b[0m\u001b[0;31m:\u001b[0m invalid syntax\n"
          ]
        }
      ]
    },
    {
      "cell_type": "code",
      "metadata": {
        "id": "sbur73RDg0lv",
        "colab_type": "code",
        "colab": {}
      },
      "source": [
        "x=10"
      ],
      "execution_count": 17,
      "outputs": []
    },
    {
      "cell_type": "code",
      "metadata": {
        "id": "pQl2MHszhSou",
        "colab_type": "code",
        "colab": {}
      },
      "source": [
        "MAX_VALUE=10"
      ],
      "execution_count": 18,
      "outputs": []
    },
    {
      "cell_type": "code",
      "metadata": {
        "id": "rEk_7mcihWnt",
        "colab_type": "code",
        "colab": {}
      },
      "source": [
        ""
      ],
      "execution_count": null,
      "outputs": []
    }
  ]
}