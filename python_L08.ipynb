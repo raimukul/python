{
  "nbformat": 4,
  "nbformat_minor": 0,
  "metadata": {
    "colab": {
      "name": "python_L08.ipynb",
      "provenance": [],
      "collapsed_sections": [],
      "authorship_tag": "ABX9TyOiHHkwM4P2Rww3JQOnwx3Z",
      "include_colab_link": true
    },
    "kernelspec": {
      "name": "python3",
      "display_name": "Python 3"
    }
  },
  "cells": [
    {
      "cell_type": "markdown",
      "metadata": {
        "id": "view-in-github",
        "colab_type": "text"
      },
      "source": [
        "<a href=\"https://colab.research.google.com/github/raimukul/python/blob/master/python_L08.ipynb\" target=\"_parent\"><img src=\"https://colab.research.google.com/assets/colab-badge.svg\" alt=\"Open In Colab\"/></a>"
      ]
    },
    {
      "cell_type": "markdown",
      "metadata": {
        "id": "6q54yjTDw2C-",
        "colab_type": "text"
      },
      "source": [
        "int()\n",
        "\n",
        "float()\n",
        "\n",
        "complex()\n",
        "\n",
        "bool()\n",
        "\n",
        "str()\n",
        "\n",
        ".............................\n",
        "\n",
        "float value ===>int value===>int()\n",
        "\n",
        "bool value===>int value===>int()\n",
        "\n",
        "int value===>str value===>str()\n",
        "\n",
        "complex number===>int value===>not possible\n",
        "\n",
        "complex number===>float===>not possible\n",
        "\n",
        "complex number===>bool===>not possible\n",
        "\n",
        "**Any type====>str type====>str() function**\n",
        "\n",
        "All fundamental data types are immutable means we can't change the value. If we want to change then create new object for that.\n",
        "\n",
        "\n",
        "![image.png](data:image/png;base64,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)\n",
        "\n",
        "\n"
      ]
    },
    {
      "cell_type": "markdown",
      "metadata": {
        "id": "VBpy8CWd3U5R",
        "colab_type": "text"
      },
      "source": [
        "Why immutability is required?\n",
        "\n",
        "---> Bacause anyone change its previous value then value for other will also change as per shown in above example. This will create conflicts.\n",
        "\n",
        "----> Advantages of immutability\n",
        "\n",
        "      --->Better Memory utilization \n",
        "\n",
        "      --->Performance increased \n"
      ]
    },
    {
      "cell_type": "code",
      "metadata": {
        "id": "R4Ua5hGkvuQT",
        "colab_type": "code",
        "colab": {}
      },
      "source": [
        "a=10\n",
        "b=10\n",
        "c=10\n",
        "# How to check a,b,c are pointing to same object here. We can use id(a,b,c) to check it."
      ],
      "execution_count": 0,
      "outputs": []
    },
    {
      "cell_type": "code",
      "metadata": {
        "id": "X9X-Yptj439j",
        "colab_type": "code",
        "outputId": "22d93cf6-f27e-4406-d447-dcf9121da188",
        "colab": {
          "base_uri": "https://localhost:8080/",
          "height": 34
        }
      },
      "source": [
        "id(a)"
      ],
      "execution_count": 0,
      "outputs": [
        {
          "output_type": "execute_result",
          "data": {
            "text/plain": [
              "10914784"
            ]
          },
          "metadata": {
            "tags": []
          },
          "execution_count": 3
        }
      ]
    },
    {
      "cell_type": "code",
      "metadata": {
        "id": "7nwyVj1v450s",
        "colab_type": "code",
        "outputId": "7158d330-c27f-4a3d-f68b-cf991045a531",
        "colab": {
          "base_uri": "https://localhost:8080/",
          "height": 34
        }
      },
      "source": [
        "id(b)"
      ],
      "execution_count": 0,
      "outputs": [
        {
          "output_type": "execute_result",
          "data": {
            "text/plain": [
              "10914784"
            ]
          },
          "metadata": {
            "tags": []
          },
          "execution_count": 4
        }
      ]
    },
    {
      "cell_type": "code",
      "metadata": {
        "id": "TVkvvuny4-CM",
        "colab_type": "code",
        "outputId": "627532bb-b90c-43b0-f4ca-59baa48a4eee",
        "colab": {
          "base_uri": "https://localhost:8080/",
          "height": 34
        }
      },
      "source": [
        "id(c)"
      ],
      "execution_count": 0,
      "outputs": [
        {
          "output_type": "execute_result",
          "data": {
            "text/plain": [
              "10914784"
            ]
          },
          "metadata": {
            "tags": []
          },
          "execution_count": 5
        }
      ]
    },
    {
      "cell_type": "markdown",
      "metadata": {
        "id": "W-oHGTer5vDb",
        "colab_type": "text"
      },
      "source": [
        "In above examples we shaw that id of a,b,c pointing to 10914784 , it means one object is created and a,b,c pointing to that object."
      ]
    },
    {
      "cell_type": "code",
      "metadata": {
        "id": "241RblpR4_dE",
        "colab_type": "code",
        "outputId": "b3f10769-933d-4180-f641-d47bf24b520e",
        "colab": {
          "base_uri": "https://localhost:8080/",
          "height": 34
        }
      },
      "source": [
        "a is b"
      ],
      "execution_count": 0,
      "outputs": [
        {
          "output_type": "execute_result",
          "data": {
            "text/plain": [
              "True"
            ]
          },
          "metadata": {
            "tags": []
          },
          "execution_count": 7
        }
      ]
    },
    {
      "cell_type": "code",
      "metadata": {
        "id": "ikALflsJ4gtF",
        "colab_type": "code",
        "outputId": "8e8d35cb-a0aa-4723-f77b-9341cbec6362",
        "colab": {
          "base_uri": "https://localhost:8080/",
          "height": 34
        }
      },
      "source": [
        "b is c"
      ],
      "execution_count": 0,
      "outputs": [
        {
          "output_type": "execute_result",
          "data": {
            "text/plain": [
              "True"
            ]
          },
          "metadata": {
            "tags": []
          },
          "execution_count": 8
        }
      ]
    },
    {
      "cell_type": "code",
      "metadata": {
        "id": "74SuB1KZ4rW-",
        "colab_type": "code",
        "outputId": "4cfb038c-c0a7-4683-92a7-758332d57074",
        "colab": {
          "base_uri": "https://localhost:8080/",
          "height": 34
        }
      },
      "source": [
        "a is c"
      ],
      "execution_count": 0,
      "outputs": [
        {
          "output_type": "execute_result",
          "data": {
            "text/plain": [
              "True"
            ]
          },
          "metadata": {
            "tags": []
          },
          "execution_count": 9
        }
      ]
    },
    {
      "cell_type": "markdown",
      "metadata": {
        "id": "gy_2znld43V4",
        "colab_type": "text"
      },
      "source": [
        "Reusing same object such type of concept defined under only in the following ranges:\n",
        "\n",
        "int==> 0to 256\n",
        "\n",
        "bool==> Always applicable(true & false)\n",
        "\n",
        "str==> Always applicable : Once created and always use that string.\n",
        "\n",
        "float====> Always new object created **\n",
        "\n",
        "example: between 0 to 1\n",
        "       \n",
        "          0.1\n",
        "\n",
        "          0.02\n",
        "\n",
        "          0.002\n",
        "\n",
        "          0.111\n",
        "\n",
        "          ....infinte\n",
        "***complex====>Always new object created ***\n",
        "\n",
        "Example: between 0i+1j to 1i+1j\n",
        "\n",
        "             0.1i+0.1j\n",
        "\n",
        "             0.11i+0.11j\n",
        "\n",
        "             0.11111i+0.1111j\n",
        "\n",
        "             .....infinite\n",
        "\n",
        "             That why predefined object not created in complex number.\n",
        "\n",
        "--------------------\n",
        "At the time of python interpreter starts:\n",
        "\n",
        "-from 0 to 256 objects created at beginning because these objects are commonly used object in any problem.\n",
        "\n"
      ]
    },
    {
      "cell_type": "markdown",
      "metadata": {
        "id": "y8aRO7lAAfHB",
        "colab_type": "text"
      },
      "source": [
        "***Bytes data types***\n",
        "-----------------------------\n",
        "-it represent a group of byte numbers just like array\n",
        "\n",
        "Features of bytes data types\n",
        "\n",
        "---In the range of 1 to 256\n",
        "\n",
        "--- it is immutable means we can not change data"
      ]
    },
    {
      "cell_type": "code",
      "metadata": {
        "id": "nsiNYLgI4tJY",
        "colab_type": "code",
        "colab": {}
      },
      "source": [
        "x=[10,20,30,40]"
      ],
      "execution_count": 0,
      "outputs": []
    },
    {
      "cell_type": "code",
      "metadata": {
        "id": "j4YEoinxAzwK",
        "colab_type": "code",
        "colab": {}
      },
      "source": [
        "b=bytes(x)"
      ],
      "execution_count": 0,
      "outputs": []
    },
    {
      "cell_type": "code",
      "metadata": {
        "id": "lbwHFtnyA4Fr",
        "colab_type": "code",
        "outputId": "48ad2eab-5291-4ffe-cdac-a881a0fac446",
        "colab": {
          "base_uri": "https://localhost:8080/",
          "height": 34
        }
      },
      "source": [
        "type(b)"
      ],
      "execution_count": 0,
      "outputs": [
        {
          "output_type": "execute_result",
          "data": {
            "text/plain": [
              "bytes"
            ]
          },
          "metadata": {
            "tags": []
          },
          "execution_count": 12
        }
      ]
    },
    {
      "cell_type": "code",
      "metadata": {
        "id": "2aqoCqBPA6iM",
        "colab_type": "code",
        "colab": {
          "base_uri": "https://localhost:8080/",
          "height": 34
        },
        "outputId": "f77f34d9-a967-4ddc-d79d-07d770112718"
      },
      "source": [
        "b[0]"
      ],
      "execution_count": 13,
      "outputs": [
        {
          "output_type": "execute_result",
          "data": {
            "text/plain": [
              "10"
            ]
          },
          "metadata": {
            "tags": []
          },
          "execution_count": 13
        }
      ]
    },
    {
      "cell_type": "code",
      "metadata": {
        "id": "br7pEykVCNEF",
        "colab_type": "code",
        "colab": {
          "base_uri": "https://localhost:8080/",
          "height": 34
        },
        "outputId": "4d3e832a-22a6-4098-ec0a-03b0b024615e"
      },
      "source": [
        "b[1]"
      ],
      "execution_count": 14,
      "outputs": [
        {
          "output_type": "execute_result",
          "data": {
            "text/plain": [
              "20"
            ]
          },
          "metadata": {
            "tags": []
          },
          "execution_count": 14
        }
      ]
    },
    {
      "cell_type": "code",
      "metadata": {
        "id": "NoSXps31Didb",
        "colab_type": "code",
        "colab": {
          "base_uri": "https://localhost:8080/",
          "height": 34
        },
        "outputId": "ee573009-0199-4c59-f919-54aff5fa7af8"
      },
      "source": [
        "b[-1]"
      ],
      "execution_count": 15,
      "outputs": [
        {
          "output_type": "execute_result",
          "data": {
            "text/plain": [
              "40"
            ]
          },
          "metadata": {
            "tags": []
          },
          "execution_count": 15
        }
      ]
    },
    {
      "cell_type": "code",
      "metadata": {
        "id": "eiO8FngvDk1T",
        "colab_type": "code",
        "colab": {
          "base_uri": "https://localhost:8080/",
          "height": 34
        },
        "outputId": "9deaf265-c180-4249-c322-27e202b3e7db"
      },
      "source": [
        "b[0:3]    #/here we get object created in backend/"
      ],
      "execution_count": 16,
      "outputs": [
        {
          "output_type": "execute_result",
          "data": {
            "text/plain": [
              "b'\\n\\x14\\x1e'"
            ]
          },
          "metadata": {
            "tags": []
          },
          "execution_count": 16
        }
      ]
    },
    {
      "cell_type": "code",
      "metadata": {
        "id": "eKzHophoDwYO",
        "colab_type": "code",
        "colab": {
          "base_uri": "https://localhost:8080/",
          "height": 85
        },
        "outputId": "e925301b-88e3-4f08-86c5-e7e50db73b86"
      },
      "source": [
        "for x in b: print(x)"
      ],
      "execution_count": 18,
      "outputs": [
        {
          "output_type": "stream",
          "text": [
            "10\n",
            "20\n",
            "30\n",
            "40\n"
          ],
          "name": "stdout"
        }
      ]
    },
    {
      "cell_type": "code",
      "metadata": {
        "id": "rIMDOOrJD5TC",
        "colab_type": "code",
        "colab": {}
      },
      "source": [
        "x=[10,20,256,257]"
      ],
      "execution_count": 0,
      "outputs": []
    },
    {
      "cell_type": "code",
      "metadata": {
        "id": "GnsA7sKeEyai",
        "colab_type": "code",
        "colab": {
          "base_uri": "https://localhost:8080/",
          "height": 163
        },
        "outputId": "a914cd7d-80e1-445e-9192-37a3ca227e0d"
      },
      "source": [
        "b=bytes(x) #In the range of 1 to 256 due to this we get error, bytes must be in range(0, 256)"
      ],
      "execution_count": 20,
      "outputs": [
        {
          "output_type": "error",
          "ename": "ValueError",
          "evalue": "ignored",
          "traceback": [
            "\u001b[0;31m---------------------------------------------------------------------------\u001b[0m",
            "\u001b[0;31mValueError\u001b[0m                                Traceback (most recent call last)",
            "\u001b[0;32m<ipython-input-20-6466abc5a60a>\u001b[0m in \u001b[0;36m<module>\u001b[0;34m()\u001b[0m\n\u001b[0;32m----> 1\u001b[0;31m \u001b[0mb\u001b[0m\u001b[0;34m=\u001b[0m\u001b[0mbytes\u001b[0m\u001b[0;34m(\u001b[0m\u001b[0mx\u001b[0m\u001b[0;34m)\u001b[0m\u001b[0;34m\u001b[0m\u001b[0;34m\u001b[0m\u001b[0m\n\u001b[0m",
            "\u001b[0;31mValueError\u001b[0m: bytes must be in range(0, 256)"
          ]
        }
      ]
    },
    {
      "cell_type": "code",
      "metadata": {
        "id": "P-uZbZQIE1T_",
        "colab_type": "code",
        "colab": {
          "base_uri": "https://localhost:8080/",
          "height": 34
        },
        "outputId": "3804f71b-ed45-4a99-9020-12c45c80e755"
      },
      "source": [
        "b[0]"
      ],
      "execution_count": 21,
      "outputs": [
        {
          "output_type": "execute_result",
          "data": {
            "text/plain": [
              "10"
            ]
          },
          "metadata": {
            "tags": []
          },
          "execution_count": 21
        }
      ]
    },
    {
      "cell_type": "code",
      "metadata": {
        "id": "nm9UpdBmFjy7",
        "colab_type": "code",
        "colab": {
          "base_uri": "https://localhost:8080/",
          "height": 163
        },
        "outputId": "ad6fa970-4144-435f-d856-0f6b026b9a1d"
      },
      "source": [
        "b[0]=120  #this is because bytes data type is immutable means iteam assignment , no changes allowed"
      ],
      "execution_count": 23,
      "outputs": [
        {
          "output_type": "error",
          "ename": "TypeError",
          "evalue": "ignored",
          "traceback": [
            "\u001b[0;31m---------------------------------------------------------------------------\u001b[0m",
            "\u001b[0;31mTypeError\u001b[0m                                 Traceback (most recent call last)",
            "\u001b[0;32m<ipython-input-23-7da79d4abbce>\u001b[0m in \u001b[0;36m<module>\u001b[0;34m()\u001b[0m\n\u001b[0;32m----> 1\u001b[0;31m \u001b[0mb\u001b[0m\u001b[0;34m[\u001b[0m\u001b[0;36m0\u001b[0m\u001b[0;34m]\u001b[0m\u001b[0;34m=\u001b[0m\u001b[0;36m120\u001b[0m\u001b[0;34m\u001b[0m\u001b[0;34m\u001b[0m\u001b[0m\n\u001b[0m",
            "\u001b[0;31mTypeError\u001b[0m: 'bytes' object does not support item assignment"
          ]
        }
      ]
    },
    {
      "cell_type": "markdown",
      "metadata": {
        "id": "Q3yu4aqDGNPg",
        "colab_type": "text"
      },
      "source": [
        "**byterray data type**\n",
        "\n",
        "\n",
        "\n",
        "-it represent a group of byte numbers just like array\n",
        "\n",
        "Features of bytes data types\n",
        "\n",
        "---In the range of 1 to 256\n",
        "\n",
        "--- it is mutable means we can change data\n",
        "\n"
      ]
    },
    {
      "cell_type": "code",
      "metadata": {
        "id": "Im6xwM3nFm33",
        "colab_type": "code",
        "colab": {}
      },
      "source": [
        "x=[10,20,30,40]"
      ],
      "execution_count": 0,
      "outputs": []
    },
    {
      "cell_type": "code",
      "metadata": {
        "id": "Od8uqz1UGr9h",
        "colab_type": "code",
        "colab": {}
      },
      "source": [
        "b=bytearray(x)"
      ],
      "execution_count": 0,
      "outputs": []
    },
    {
      "cell_type": "code",
      "metadata": {
        "id": "GQIp0I5JGt6L",
        "colab_type": "code",
        "colab": {
          "base_uri": "https://localhost:8080/",
          "height": 34
        },
        "outputId": "bb07090c-03ba-4006-b6f2-392c015a5ae7"
      },
      "source": [
        "b[0]"
      ],
      "execution_count": 32,
      "outputs": [
        {
          "output_type": "execute_result",
          "data": {
            "text/plain": [
              "10"
            ]
          },
          "metadata": {
            "tags": []
          },
          "execution_count": 32
        }
      ]
    },
    {
      "cell_type": "code",
      "metadata": {
        "id": "C4Rj_IvlGxOC",
        "colab_type": "code",
        "colab": {}
      },
      "source": [
        "b[0]=120"
      ],
      "execution_count": 0,
      "outputs": []
    },
    {
      "cell_type": "code",
      "metadata": {
        "id": "qWQGkR5JHJgl",
        "colab_type": "code",
        "colab": {
          "base_uri": "https://localhost:8080/",
          "height": 85
        },
        "outputId": "fb78640d-ed72-494c-d60e-102095f43709"
      },
      "source": [
        "for i in b:print(i)"
      ],
      "execution_count": 35,
      "outputs": [
        {
          "output_type": "stream",
          "text": [
            "120\n",
            "20\n",
            "30\n",
            "40\n"
          ],
          "name": "stdout"
        }
      ]
    },
    {
      "cell_type": "code",
      "metadata": {
        "id": "oz7qQcN9HPwZ",
        "colab_type": "code",
        "colab": {
          "base_uri": "https://localhost:8080/",
          "height": 163
        },
        "outputId": "2d1a7c46-f3bf-46b7-9d10-15515736bbe6"
      },
      "source": [
        "b[0]=258 #bytearray must be in range(0, 256)"
      ],
      "execution_count": 36,
      "outputs": [
        {
          "output_type": "error",
          "ename": "ValueError",
          "evalue": "ignored",
          "traceback": [
            "\u001b[0;31m---------------------------------------------------------------------------\u001b[0m",
            "\u001b[0;31mValueError\u001b[0m                                Traceback (most recent call last)",
            "\u001b[0;32m<ipython-input-36-5be4adf93d79>\u001b[0m in \u001b[0;36m<module>\u001b[0;34m()\u001b[0m\n\u001b[0;32m----> 1\u001b[0;31m \u001b[0mb\u001b[0m\u001b[0;34m[\u001b[0m\u001b[0;36m0\u001b[0m\u001b[0;34m]\u001b[0m\u001b[0;34m=\u001b[0m\u001b[0;36m258\u001b[0m\u001b[0;34m\u001b[0m\u001b[0;34m\u001b[0m\u001b[0m\n\u001b[0m",
            "\u001b[0;31mValueError\u001b[0m: byte must be in range(0, 256)"
          ]
        }
      ]
    },
    {
      "cell_type": "code",
      "metadata": {
        "id": "GaW4_489HgrL",
        "colab_type": "code",
        "colab": {}
      },
      "source": [
        "#byte and bytearray data are different as \n",
        "#byte is immutable.\n",
        "#bytearray is mutable."
      ],
      "execution_count": 0,
      "outputs": []
    },
    {
      "cell_type": "markdown",
      "metadata": {
        "id": "ouyy8qxQICbg",
        "colab_type": "text"
      },
      "source": [
        "**Data types covered **\n",
        "1. int\n",
        "2. float\n",
        "3. complex\n",
        "4. str\n",
        "5. bool\n",
        "6. bytes\n",
        "7. bytearray\n",
        "--------------\n",
        "**list data type**\n",
        "\n",
        "If we want to represent group of data as single entity where insertion order is preserved and dublicates are allowed then we go for list data type."
      ]
    },
    {
      "cell_type": "code",
      "metadata": {
        "id": "x5VOUcoOJQ0L",
        "colab_type": "code",
        "colab": {}
      },
      "source": [
        "l=[] #use square bracket for list data type"
      ],
      "execution_count": 0,
      "outputs": []
    },
    {
      "cell_type": "code",
      "metadata": {
        "id": "_qgxTlnpJUGZ",
        "colab_type": "code",
        "colab": {
          "base_uri": "https://localhost:8080/",
          "height": 34
        },
        "outputId": "9b85f810-d5df-4b95-86f2-2a677032a880"
      },
      "source": [
        "type(l)"
      ],
      "execution_count": 38,
      "outputs": [
        {
          "output_type": "execute_result",
          "data": {
            "text/plain": [
              "list"
            ]
          },
          "metadata": {
            "tags": []
          },
          "execution_count": 38
        }
      ]
    },
    {
      "cell_type": "code",
      "metadata": {
        "id": "LrcjyZ93JXFN",
        "colab_type": "code",
        "colab": {}
      },
      "source": [
        "l.append(10)"
      ],
      "execution_count": 0,
      "outputs": []
    },
    {
      "cell_type": "code",
      "metadata": {
        "id": "N-rOyR1DJixo",
        "colab_type": "code",
        "colab": {}
      },
      "source": [
        "l.append(20)"
      ],
      "execution_count": 0,
      "outputs": []
    },
    {
      "cell_type": "code",
      "metadata": {
        "id": "nrr_xtEhJkAp",
        "colab_type": "code",
        "colab": {}
      },
      "source": [
        "l.append(30)"
      ],
      "execution_count": 0,
      "outputs": []
    },
    {
      "cell_type": "code",
      "metadata": {
        "id": "VgoQWJWNJnj2",
        "colab_type": "code",
        "colab": {}
      },
      "source": [
        "l.append(40)"
      ],
      "execution_count": 0,
      "outputs": []
    },
    {
      "cell_type": "code",
      "metadata": {
        "id": "G_5DY_rlJo9S",
        "colab_type": "code",
        "colab": {
          "base_uri": "https://localhost:8080/",
          "height": 34
        },
        "outputId": "ec944f7e-6a22-4c23-a9f0-79366b8042dd"
      },
      "source": [
        "print(l) #insertion order preserved"
      ],
      "execution_count": 43,
      "outputs": [
        {
          "output_type": "stream",
          "text": [
            "[10, 20, 30, 40]\n"
          ],
          "name": "stdout"
        }
      ]
    },
    {
      "cell_type": "code",
      "metadata": {
        "id": "smGrffyxJq5x",
        "colab_type": "code",
        "colab": {}
      },
      "source": [
        "l.append('durga') #we can insert heterogenous object allowed"
      ],
      "execution_count": 0,
      "outputs": []
    },
    {
      "cell_type": "code",
      "metadata": {
        "id": "47ulSty5J2Gq",
        "colab_type": "code",
        "colab": {
          "base_uri": "https://localhost:8080/",
          "height": 34
        },
        "outputId": "ac8d8b96-5784-4f5a-a36f-70142ef67c39"
      },
      "source": [
        "print(l)"
      ],
      "execution_count": 46,
      "outputs": [
        {
          "output_type": "stream",
          "text": [
            "[10, 20, 30, 40, 'durga']\n"
          ],
          "name": "stdout"
        }
      ]
    },
    {
      "cell_type": "code",
      "metadata": {
        "id": "GmepKXEQJ8bs",
        "colab_type": "code",
        "colab": {}
      },
      "source": [
        "l.append(None) #None is acceptable "
      ],
      "execution_count": 0,
      "outputs": []
    },
    {
      "cell_type": "code",
      "metadata": {
        "id": "P6yrUGYdKKDf",
        "colab_type": "code",
        "colab": {
          "base_uri": "https://localhost:8080/",
          "height": 34
        },
        "outputId": "c8df6d5c-cd7e-4493-b121-a0660c633121"
      },
      "source": [
        "print(l)"
      ],
      "execution_count": 48,
      "outputs": [
        {
          "output_type": "stream",
          "text": [
            "[10, 20, 30, 40, 'durga', None]\n"
          ],
          "name": "stdout"
        }
      ]
    },
    {
      "cell_type": "code",
      "metadata": {
        "id": "HYPyuBOLKNHC",
        "colab_type": "code",
        "colab": {
          "base_uri": "https://localhost:8080/",
          "height": 34
        },
        "outputId": "13a156f2-70d7-4f27-aa4c-97d1348d6b2e"
      },
      "source": [
        "# we can increase and decrease both are applicable. mean growable \n",
        "#value should be enclosed with square\n",
        "l[0]"
      ],
      "execution_count": 49,
      "outputs": [
        {
          "output_type": "execute_result",
          "data": {
            "text/plain": [
              "10"
            ]
          },
          "metadata": {
            "tags": []
          },
          "execution_count": 49
        }
      ]
    },
    {
      "cell_type": "code",
      "metadata": {
        "id": "RhzL-sTWKsiY",
        "colab_type": "code",
        "colab": {}
      },
      "source": [
        "l[-1]"
      ],
      "execution_count": 0,
      "outputs": []
    },
    {
      "cell_type": "code",
      "metadata": {
        "id": "lHJCoR15Kt3N",
        "colab_type": "code",
        "colab": {
          "base_uri": "https://localhost:8080/",
          "height": 34
        },
        "outputId": "ebeca38a-7b4e-43a3-febb-843535028025"
      },
      "source": [
        "l[1:5] #n to (n-1) "
      ],
      "execution_count": 51,
      "outputs": [
        {
          "output_type": "execute_result",
          "data": {
            "text/plain": [
              "[20, 30, 40, 'durga']"
            ]
          },
          "metadata": {
            "tags": []
          },
          "execution_count": 51
        }
      ]
    },
    {
      "cell_type": "code",
      "metadata": {
        "id": "R8Q2Wv3wLigE",
        "colab_type": "code",
        "colab": {}
      },
      "source": [
        "l.remove(10) #we can decrease size of list"
      ],
      "execution_count": 0,
      "outputs": []
    },
    {
      "cell_type": "code",
      "metadata": {
        "id": "RBs4_-CALlvz",
        "colab_type": "code",
        "colab": {
          "base_uri": "https://localhost:8080/",
          "height": 34
        },
        "outputId": "678da2de-9a65-482d-96a2-d19afa001069"
      },
      "source": [
        "print(l)"
      ],
      "execution_count": 53,
      "outputs": [
        {
          "output_type": "stream",
          "text": [
            "[20, 30, 40, 'durga', None]\n"
          ],
          "name": "stdout"
        }
      ]
    },
    {
      "cell_type": "code",
      "metadata": {
        "id": "jSZZJEcvLoiD",
        "colab_type": "code",
        "colab": {}
      },
      "source": [
        "l.remove(20)"
      ],
      "execution_count": 0,
      "outputs": []
    },
    {
      "cell_type": "code",
      "metadata": {
        "id": "4-RDrVOOLrOy",
        "colab_type": "code",
        "colab": {
          "base_uri": "https://localhost:8080/",
          "height": 34
        },
        "outputId": "a3aa4dd6-8dbb-4884-99e9-0fcdbcfa22fb"
      },
      "source": [
        "print(l)"
      ],
      "execution_count": 55,
      "outputs": [
        {
          "output_type": "stream",
          "text": [
            "[30, 40, 'durga', None]\n"
          ],
          "name": "stdout"
        }
      ]
    },
    {
      "cell_type": "code",
      "metadata": {
        "id": "ptatf5GRLudX",
        "colab_type": "code",
        "colab": {}
      },
      "source": [
        ""
      ],
      "execution_count": 0,
      "outputs": []
    }
  ]
}