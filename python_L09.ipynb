{
  "nbformat": 4,
  "nbformat_minor": 0,
  "metadata": {
    "colab": {
      "name": "python_L09.ipynb",
      "provenance": [],
      "collapsed_sections": [],
      "authorship_tag": "ABX9TyO51Q3hdraSf7LCiCPu+nZw",
      "include_colab_link": true
    },
    "kernelspec": {
      "name": "python3",
      "display_name": "Python 3"
    }
  },
  "cells": [
    {
      "cell_type": "markdown",
      "metadata": {
        "id": "view-in-github",
        "colab_type": "text"
      },
      "source": [
        "<a href=\"https://colab.research.google.com/github/raimukul/python/blob/master/python_L09.ipynb\" target=\"_parent\"><img src=\"https://colab.research.google.com/assets/colab-badge.svg\" alt=\"Open In Colab\"/></a>"
      ]
    },
    {
      "cell_type": "markdown",
      "metadata": {
        "id": "BnasNwT0js3g",
        "colab_type": "text"
      },
      "source": [
        "**byte:**\n",
        "\n",
        "........\n",
        "\n",
        "x=[10,20,30,40, 256]\n",
        "\n",
        "b=bytes(x)\n",
        "\n",
        "1. 0 to 256 \n",
        "2. immutable: cannot change value \n",
        "\n",
        "-----------------------\n",
        "**bytearray:**\n",
        "\n",
        ".........\n",
        "x=[10,20,30,256]\n",
        "\n",
        "b=bytearray(x)\n",
        "\n",
        "1. 0 to 256 \n",
        "2. mutable: can change value\n",
        "\n",
        "------------\n",
        "**List data type:**\n",
        "\n",
        "--insertion order should be preserved and dublicates are allowed.\n",
        "\n",
        "--heterogeneous objects allowed.\n",
        "\n",
        "--growable(size increase and decrease also.)\n",
        "\n",
        "------------------------\n",
        "some important points\n",
        "\n",
        "...........\n",
        "\n",
        "**index==> +ive or -ive**\n",
        "\n",
        "   where \n",
        "        \n",
        "          +ive from left to right\n",
        "\n",
        "         -ive from right to left\n",
        "\n",
        "**Slice operator: slice(start,end,step)** \n",
        "\n",
        "-->**start\tOptional.** An integer number specifying at which position to start the slicing. Default is 0.\n",
        "\n",
        "-->**end**\tAn integer number specifying at which position to end the slicing.\n",
        "\n",
        "-->**step\tOptional.** An integer number specifying the step of the slicing. Default is 1\n",
        "\n",
        ".....\n",
        "\n",
        "* operator\n",
        "\n",
        "..........\n",
        "\n",
        "use to create or increase size of list\n",
        "\n",
        "&&\n",
        "\n",
        "Multiply two operands"
      ]
    },
    {
      "cell_type": "code",
      "metadata": {
        "id": "ebKSAxpDfUmG",
        "colab_type": "code",
        "colab": {}
      },
      "source": [
        "s=[10,'durga',True]"
      ],
      "execution_count": null,
      "outputs": []
    },
    {
      "cell_type": "code",
      "metadata": {
        "id": "8ojCh_htI8oW",
        "colab_type": "code",
        "colab": {}
      },
      "source": [
        "s1=s*2"
      ],
      "execution_count": null,
      "outputs": []
    },
    {
      "cell_type": "code",
      "metadata": {
        "id": "mNMIMllrJBnc",
        "colab_type": "code",
        "colab": {
          "base_uri": "https://localhost:8080/",
          "height": 34
        },
        "outputId": "58c42472-25bc-4cf6-939a-10275e8ab181"
      },
      "source": [
        "s1"
      ],
      "execution_count": null,
      "outputs": [
        {
          "output_type": "execute_result",
          "data": {
            "text/plain": [
              "[10, 'durga', True, 10, 'durga', True]"
            ]
          },
          "metadata": {
            "tags": []
          },
          "execution_count": 3
        }
      ]
    },
    {
      "cell_type": "code",
      "metadata": {
        "id": "3QN_XSmhJGFH",
        "colab_type": "code",
        "colab": {}
      },
      "source": [
        "s2=s1*2      # * operator used only when one must be list and other will number."
      ],
      "execution_count": null,
      "outputs": []
    },
    {
      "cell_type": "code",
      "metadata": {
        "id": "DLwLQ1nJJKea",
        "colab_type": "code",
        "colab": {
          "base_uri": "https://localhost:8080/",
          "height": 34
        },
        "outputId": "e10ba21f-c5da-45d3-b3d3-e75280d6d9ad"
      },
      "source": [
        "s2"
      ],
      "execution_count": null,
      "outputs": [
        {
          "output_type": "execute_result",
          "data": {
            "text/plain": [
              "[10, 'durga', True, 10, 'durga', True, 10, 'durga', True, 10, 'durga', True]"
            ]
          },
          "metadata": {
            "tags": []
          },
          "execution_count": 5
        }
      ]
    },
    {
      "cell_type": "code",
      "metadata": {
        "id": "vTcfZwC6JU0N",
        "colab_type": "code",
        "colab": {
          "base_uri": "https://localhost:8080/",
          "height": 34
        },
        "outputId": "1af1dcc7-6824-4ac5-f8f8-7e44223795ed"
      },
      "source": [
        "type(s1)"
      ],
      "execution_count": null,
      "outputs": [
        {
          "output_type": "execute_result",
          "data": {
            "text/plain": [
              "list"
            ]
          },
          "metadata": {
            "tags": []
          },
          "execution_count": 6
        }
      ]
    },
    {
      "cell_type": "markdown",
      "metadata": {
        "id": "uwpkpccsKUe5",
        "colab_type": "text"
      },
      "source": [
        "List data type\n",
        "\n",
        "--------------\n",
        "\n",
        "insertion order must be preserved.\n",
        "\n",
        "dublicates are allowed\n",
        "\n",
        "heterogeneous object\n",
        "\n",
        "but i want immutability then we go for tuple concept\n",
        "\n",
        "-------------\n",
        "\n",
        "\n",
        "tuple\n",
        "\n",
        "--------\n",
        "\n",
        "everything is same difference only is immmutable.\n",
        "\n",
        "I=[10,20,30,40]----list\n",
        "t=(10,20,30,40)----tuple\n"
      ]
    },
    {
      "cell_type": "code",
      "metadata": {
        "id": "BF64Ggu7L1Zf",
        "colab_type": "code",
        "colab": {}
      },
      "source": [
        "t=(10,'durga',10)"
      ],
      "execution_count": null,
      "outputs": []
    },
    {
      "cell_type": "code",
      "metadata": {
        "id": "ENPSyZ4hL5ue",
        "colab_type": "code",
        "colab": {
          "base_uri": "https://localhost:8080/",
          "height": 34
        },
        "outputId": "21c6f0bd-7c63-41d9-fd85-5f0c06bd22dd"
      },
      "source": [
        "t"
      ],
      "execution_count": null,
      "outputs": [
        {
          "output_type": "execute_result",
          "data": {
            "text/plain": [
              "(10, 'durga', 10)"
            ]
          },
          "metadata": {
            "tags": []
          },
          "execution_count": 17
        }
      ]
    },
    {
      "cell_type": "code",
      "metadata": {
        "id": "MKpLv274M0pf",
        "colab_type": "code",
        "colab": {
          "base_uri": "https://localhost:8080/",
          "height": 34
        },
        "outputId": "b106c0a7-21a2-40e1-b2c1-6c69821aec6d"
      },
      "source": [
        "t[0]"
      ],
      "execution_count": null,
      "outputs": [
        {
          "output_type": "execute_result",
          "data": {
            "text/plain": [
              "10"
            ]
          },
          "metadata": {
            "tags": []
          },
          "execution_count": 18
        }
      ]
    },
    {
      "cell_type": "code",
      "metadata": {
        "id": "kTzK0UX5M4Lf",
        "colab_type": "code",
        "colab": {
          "base_uri": "https://localhost:8080/",
          "height": 34
        },
        "outputId": "c26ffd6a-4196-44a0-ea09-92f0da185d82"
      },
      "source": [
        "t[0:3]"
      ],
      "execution_count": null,
      "outputs": [
        {
          "output_type": "execute_result",
          "data": {
            "text/plain": [
              "(10, 'durga', 10)"
            ]
          },
          "metadata": {
            "tags": []
          },
          "execution_count": 20
        }
      ]
    },
    {
      "cell_type": "code",
      "metadata": {
        "id": "ABg6RdOCM-rU",
        "colab_type": "code",
        "colab": {
          "base_uri": "https://localhost:8080/",
          "height": 163
        },
        "outputId": "cb38fccf-a9f9-45a6-90ca-95f3ebc1e7d3"
      },
      "source": [
        "t[0]=100   #'tuple' object does not support item assignment"
      ],
      "execution_count": null,
      "outputs": [
        {
          "output_type": "error",
          "ename": "TypeError",
          "evalue": "ignored",
          "traceback": [
            "\u001b[0;31m---------------------------------------------------------------------------\u001b[0m",
            "\u001b[0;31mTypeError\u001b[0m                                 Traceback (most recent call last)",
            "\u001b[0;32m<ipython-input-21-3382f43ca263>\u001b[0m in \u001b[0;36m<module>\u001b[0;34m()\u001b[0m\n\u001b[0;32m----> 1\u001b[0;31m \u001b[0mt\u001b[0m\u001b[0;34m[\u001b[0m\u001b[0;36m0\u001b[0m\u001b[0;34m]\u001b[0m\u001b[0;34m=\u001b[0m\u001b[0;36m100\u001b[0m\u001b[0;34m\u001b[0m\u001b[0;34m\u001b[0m\u001b[0m\n\u001b[0m",
            "\u001b[0;31mTypeError\u001b[0m: 'tuple' object does not support item assignment"
          ]
        }
      ]
    },
    {
      "cell_type": "code",
      "metadata": {
        "id": "6x03VpEkNLTQ",
        "colab_type": "code",
        "colab": {}
      },
      "source": [
        "t1=t*2"
      ],
      "execution_count": null,
      "outputs": []
    },
    {
      "cell_type": "code",
      "metadata": {
        "id": "nyavE8ObNURr",
        "colab_type": "code",
        "colab": {
          "base_uri": "https://localhost:8080/",
          "height": 34
        },
        "outputId": "e8a66781-9b6f-46cf-89c8-447f90b9f9de"
      },
      "source": [
        "t1"
      ],
      "execution_count": null,
      "outputs": [
        {
          "output_type": "execute_result",
          "data": {
            "text/plain": [
              "(10, 'durga', 10, 10, 'durga', 10)"
            ]
          },
          "metadata": {
            "tags": []
          },
          "execution_count": 23
        }
      ]
    },
    {
      "cell_type": "markdown",
      "metadata": {
        "id": "01oCH1_9NjPq",
        "colab_type": "text"
      },
      "source": [
        "Difference b/w list & tuple\n",
        "\n",
        "------\n",
        "\n",
        "list is mutable but tuple is immutable.\n",
        "\n",
        "list is denoted using [ ] and tuple by ( )."
      ]
    },
    {
      "cell_type": "markdown",
      "metadata": {
        "id": "bR4EkdSyOvlI",
        "colab_type": "text"
      },
      "source": [
        "**range() data type**\n",
        "\n",
        "-----\n",
        " \n",
        " --> range data type represent a sequence of values.\n",
        "\n",
        " --> always immutable\n",
        "\n",
        " --> form 1: range(10)\n",
        "     \n",
        "     it represents values from 0 to 9(end-1)\n",
        "     "
      ]
    },
    {
      "cell_type": "code",
      "metadata": {
        "id": "gpKzxhCoN6zR",
        "colab_type": "code",
        "colab": {}
      },
      "source": [
        "r=range(10)"
      ],
      "execution_count": null,
      "outputs": []
    },
    {
      "cell_type": "code",
      "metadata": {
        "id": "6K4SnVkVQe04",
        "colab_type": "code",
        "colab": {
          "base_uri": "https://localhost:8080/",
          "height": 34
        },
        "outputId": "b4edc6e5-db34-4e44-e4d9-febfe92c52a4"
      },
      "source": [
        "type(r)"
      ],
      "execution_count": null,
      "outputs": [
        {
          "output_type": "execute_result",
          "data": {
            "text/plain": [
              "range"
            ]
          },
          "metadata": {
            "tags": []
          },
          "execution_count": 25
        }
      ]
    },
    {
      "cell_type": "code",
      "metadata": {
        "id": "C0l6fxR_Qh3y",
        "colab_type": "code",
        "colab": {
          "base_uri": "https://localhost:8080/",
          "height": 34
        },
        "outputId": "53888687-9604-4532-87a8-5734dcff0fc8"
      },
      "source": [
        "r"
      ],
      "execution_count": null,
      "outputs": [
        {
          "output_type": "execute_result",
          "data": {
            "text/plain": [
              "range(0, 10)"
            ]
          },
          "metadata": {
            "tags": []
          },
          "execution_count": 26
        }
      ]
    },
    {
      "cell_type": "code",
      "metadata": {
        "id": "aiGR9eiEQi-y",
        "colab_type": "code",
        "colab": {
          "base_uri": "https://localhost:8080/",
          "height": 187
        },
        "outputId": "9f2e1f93-a413-4076-a132-42735d2cdcf2"
      },
      "source": [
        "for i in r: print(i)"
      ],
      "execution_count": null,
      "outputs": [
        {
          "output_type": "stream",
          "text": [
            "0\n",
            "1\n",
            "2\n",
            "3\n",
            "4\n",
            "5\n",
            "6\n",
            "7\n",
            "8\n",
            "9\n"
          ],
          "name": "stdout"
        }
      ]
    },
    {
      "cell_type": "code",
      "metadata": {
        "id": "FJo4I68kQoqS",
        "colab_type": "code",
        "colab": {
          "base_uri": "https://localhost:8080/",
          "height": 34
        },
        "outputId": "82618b07-30d9-4675-f32c-a4d2b388a214"
      },
      "source": [
        "r[0]"
      ],
      "execution_count": null,
      "outputs": [
        {
          "output_type": "execute_result",
          "data": {
            "text/plain": [
              "0"
            ]
          },
          "metadata": {
            "tags": []
          },
          "execution_count": 28
        }
      ]
    },
    {
      "cell_type": "code",
      "metadata": {
        "id": "EPnJfrSkQtA2",
        "colab_type": "code",
        "colab": {
          "base_uri": "https://localhost:8080/",
          "height": 34
        },
        "outputId": "45062f4c-bac1-46f7-af01-4483347d96e6"
      },
      "source": [
        "r[4]"
      ],
      "execution_count": null,
      "outputs": [
        {
          "output_type": "execute_result",
          "data": {
            "text/plain": [
              "4"
            ]
          },
          "metadata": {
            "tags": []
          },
          "execution_count": 29
        }
      ]
    },
    {
      "cell_type": "code",
      "metadata": {
        "id": "t9T1bb90QuUl",
        "colab_type": "code",
        "colab": {
          "base_uri": "https://localhost:8080/",
          "height": 34
        },
        "outputId": "739e5659-c831-4d72-9a13-2a30302aac8b"
      },
      "source": [
        "r[0:3]"
      ],
      "execution_count": null,
      "outputs": [
        {
          "output_type": "execute_result",
          "data": {
            "text/plain": [
              "range(0, 3)"
            ]
          },
          "metadata": {
            "tags": []
          },
          "execution_count": 30
        }
      ]
    },
    {
      "cell_type": "code",
      "metadata": {
        "id": "5wtA_u2sQzKs",
        "colab_type": "code",
        "colab": {
          "base_uri": "https://localhost:8080/",
          "height": 163
        },
        "outputId": "eb0ca1ac-9774-4429-b266-5154e89e72bd"
      },
      "source": [
        "r[0]=777"
      ],
      "execution_count": null,
      "outputs": [
        {
          "output_type": "error",
          "ename": "TypeError",
          "evalue": "ignored",
          "traceback": [
            "\u001b[0;31m---------------------------------------------------------------------------\u001b[0m",
            "\u001b[0;31mTypeError\u001b[0m                                 Traceback (most recent call last)",
            "\u001b[0;32m<ipython-input-32-89035e9ca29c>\u001b[0m in \u001b[0;36m<module>\u001b[0;34m()\u001b[0m\n\u001b[0;32m----> 1\u001b[0;31m \u001b[0mr\u001b[0m\u001b[0;34m[\u001b[0m\u001b[0;36m0\u001b[0m\u001b[0;34m]\u001b[0m\u001b[0;34m=\u001b[0m\u001b[0;36m777\u001b[0m\u001b[0;34m\u001b[0m\u001b[0;34m\u001b[0m\u001b[0m\n\u001b[0m",
            "\u001b[0;31mTypeError\u001b[0m: 'range' object does not support item assignment"
          ]
        }
      ]
    },
    {
      "cell_type": "markdown",
      "metadata": {
        "id": "BSVwzFi1SIaU",
        "colab_type": "text"
      },
      "source": [
        "if we want to represent numbers from 10 to 29 then go for form 2\n",
        "\n",
        "form 2: range(10,30)\n",
        "\n",
        "form 3: range(10,50,5) here 5 is step   "
      ]
    },
    {
      "cell_type": "code",
      "metadata": {
        "id": "c6Y5ahzSTCTo",
        "colab_type": "code",
        "colab": {
          "base_uri": "https://localhost:8080/",
          "height": 153
        },
        "outputId": "7c204e2f-cdb7-4e07-d8cc-8c3d7ebfeaf9"
      },
      "source": [
        "for i in range(10,50,5) :print(i)"
      ],
      "execution_count": null,
      "outputs": [
        {
          "output_type": "stream",
          "text": [
            "10\n",
            "15\n",
            "20\n",
            "25\n",
            "30\n",
            "35\n",
            "40\n",
            "45\n"
          ],
          "name": "stdout"
        }
      ]
    },
    {
      "cell_type": "markdown",
      "metadata": {
        "id": "-P_6Bv4_T2lH",
        "colab_type": "text"
      },
      "source": [
        "form1: range(50)\n",
        "form2: range(10,50)\n",
        "form3: range(10,50,5)"
      ]
    },
    {
      "cell_type": "code",
      "metadata": {
        "id": "DIxxPMuTTiVt",
        "colab_type": "code",
        "colab": {
          "base_uri": "https://localhost:8080/",
          "height": 163
        },
        "outputId": "22b359da-0a38-468f-b2ee-31af8b3080d2"
      },
      "source": [
        "range(10.5,20.6)   #'float' object cannot be interpreted as an integer"
      ],
      "execution_count": null,
      "outputs": [
        {
          "output_type": "error",
          "ename": "TypeError",
          "evalue": "ignored",
          "traceback": [
            "\u001b[0;31m---------------------------------------------------------------------------\u001b[0m",
            "\u001b[0;31mTypeError\u001b[0m                                 Traceback (most recent call last)",
            "\u001b[0;32m<ipython-input-34-9fb8f57ea81f>\u001b[0m in \u001b[0;36m<module>\u001b[0;34m()\u001b[0m\n\u001b[0;32m----> 1\u001b[0;31m \u001b[0mrange\u001b[0m\u001b[0;34m(\u001b[0m\u001b[0;36m10.5\u001b[0m\u001b[0;34m,\u001b[0m\u001b[0;36m20.6\u001b[0m\u001b[0;34m)\u001b[0m\u001b[0;34m\u001b[0m\u001b[0;34m\u001b[0m\u001b[0m\n\u001b[0m",
            "\u001b[0;31mTypeError\u001b[0m: 'float' object cannot be interpreted as an integer"
          ]
        }
      ]
    },
    {
      "cell_type": "markdown",
      "metadata": {
        "id": "jo_OMPkUUa6t",
        "colab_type": "text"
      },
      "source": [
        "byte- immutable\n",
        "\n",
        "bytearray-mutable\n",
        "\n",
        "list- mutable\n",
        "\n",
        "tuple- immutable\n",
        "\n",
        "range- immutable"
      ]
    },
    {
      "cell_type": "markdown",
      "metadata": {
        "id": "4MYj4UvJVIda",
        "colab_type": "text"
      },
      "source": [
        "set: data type\n",
        "\n",
        "--------\n",
        "\n",
        "--> insertion order not preserved\n",
        "\n",
        "--> dublicates are not allowed\n",
        "\n",
        "--> indexing not allowed\n",
        "\n",
        "--> slicing not allowed\n",
        "\n",
        "--> insertion and deletion allowed \n",
        "\n",
        "---------\n",
        "\n",
        "\n",
        "difference b/w list and set data type\n",
        "\n",
        "--> in list insertion order is preserved but in set it is not important.\n",
        "\n",
        "--> in list dublicated are allowed but in set it is not allowed.\n",
        "\n",
        "--> list is denoted using [ ] but set by { }\n",
        " "
      ]
    },
    {
      "cell_type": "code",
      "metadata": {
        "id": "7bk5MvUTUNop",
        "colab_type": "code",
        "colab": {}
      },
      "source": [
        "s={10,20,30,10,20,30}"
      ],
      "execution_count": null,
      "outputs": []
    },
    {
      "cell_type": "code",
      "metadata": {
        "id": "fPEvolEwWmKE",
        "colab_type": "code",
        "colab": {
          "base_uri": "https://localhost:8080/",
          "height": 34
        },
        "outputId": "f7dccfd0-6f83-4545-98c6-d70e8e61c563"
      },
      "source": [
        "s       # dublicates are removed from set"
      ],
      "execution_count": null,
      "outputs": [
        {
          "output_type": "execute_result",
          "data": {
            "text/plain": [
              "{10, 20, 30}"
            ]
          },
          "metadata": {
            "tags": []
          },
          "execution_count": 36
        }
      ]
    },
    {
      "cell_type": "code",
      "metadata": {
        "id": "dM397eDZWn_B",
        "colab_type": "code",
        "colab": {
          "base_uri": "https://localhost:8080/",
          "height": 34
        },
        "outputId": "af197f1c-de5e-4782-cffb-7006d7bfb462"
      },
      "source": [
        "type(s)"
      ],
      "execution_count": null,
      "outputs": [
        {
          "output_type": "execute_result",
          "data": {
            "text/plain": [
              "set"
            ]
          },
          "metadata": {
            "tags": []
          },
          "execution_count": 37
        }
      ]
    },
    {
      "cell_type": "code",
      "metadata": {
        "id": "N_PHeMwNWp0S",
        "colab_type": "code",
        "colab": {
          "base_uri": "https://localhost:8080/",
          "height": 163
        },
        "outputId": "2f0f98bf-91b2-4762-b9f7-2439716026a1"
      },
      "source": [
        "s[0]  #'set' object does not support indexing"
      ],
      "execution_count": null,
      "outputs": [
        {
          "output_type": "error",
          "ename": "TypeError",
          "evalue": "ignored",
          "traceback": [
            "\u001b[0;31m---------------------------------------------------------------------------\u001b[0m",
            "\u001b[0;31mTypeError\u001b[0m                                 Traceback (most recent call last)",
            "\u001b[0;32m<ipython-input-38-c9c96910e542>\u001b[0m in \u001b[0;36m<module>\u001b[0;34m()\u001b[0m\n\u001b[0;32m----> 1\u001b[0;31m \u001b[0ms\u001b[0m\u001b[0;34m[\u001b[0m\u001b[0;36m0\u001b[0m\u001b[0;34m]\u001b[0m\u001b[0;34m\u001b[0m\u001b[0;34m\u001b[0m\u001b[0m\n\u001b[0m",
            "\u001b[0;31mTypeError\u001b[0m: 'set' object does not support indexing"
          ]
        }
      ]
    },
    {
      "cell_type": "code",
      "metadata": {
        "id": "YIk3-9ekW3Dt",
        "colab_type": "code",
        "colab": {
          "base_uri": "https://localhost:8080/",
          "height": 163
        },
        "outputId": "32696c61-ed77-48a3-b041-1286ff267e83"
      },
      "source": [
        "s[1:]   #'set' object is not subscriptable"
      ],
      "execution_count": null,
      "outputs": [
        {
          "output_type": "error",
          "ename": "TypeError",
          "evalue": "ignored",
          "traceback": [
            "\u001b[0;31m---------------------------------------------------------------------------\u001b[0m",
            "\u001b[0;31mTypeError\u001b[0m                                 Traceback (most recent call last)",
            "\u001b[0;32m<ipython-input-39-50738704db02>\u001b[0m in \u001b[0;36m<module>\u001b[0;34m()\u001b[0m\n\u001b[0;32m----> 1\u001b[0;31m \u001b[0ms\u001b[0m\u001b[0;34m[\u001b[0m\u001b[0;36m1\u001b[0m\u001b[0;34m:\u001b[0m\u001b[0;34m]\u001b[0m\u001b[0;34m\u001b[0m\u001b[0;34m\u001b[0m\u001b[0m\n\u001b[0m",
            "\u001b[0;31mTypeError\u001b[0m: 'set' object is not subscriptable"
          ]
        }
      ]
    },
    {
      "cell_type": "code",
      "metadata": {
        "id": "f-Ay4478XKAj",
        "colab_type": "code",
        "colab": {
          "base_uri": "https://localhost:8080/",
          "height": 34
        },
        "outputId": "72d17e39-3dc9-472e-9cae-b8ad2a87c1c5"
      },
      "source": [
        "s"
      ],
      "execution_count": null,
      "outputs": [
        {
          "output_type": "execute_result",
          "data": {
            "text/plain": [
              "{10, 20, 30}"
            ]
          },
          "metadata": {
            "tags": []
          },
          "execution_count": 40
        }
      ]
    },
    {
      "cell_type": "code",
      "metadata": {
        "id": "iSmZe4c4XyvZ",
        "colab_type": "code",
        "colab": {}
      },
      "source": [
        "s.add('durga')"
      ],
      "execution_count": null,
      "outputs": []
    },
    {
      "cell_type": "code",
      "metadata": {
        "id": "tzNGXhGGX12D",
        "colab_type": "code",
        "colab": {
          "base_uri": "https://localhost:8080/",
          "height": 34
        },
        "outputId": "67f5a375-f9b5-4ba8-ed35-891b0ee3360a"
      },
      "source": [
        "s"
      ],
      "execution_count": null,
      "outputs": [
        {
          "output_type": "execute_result",
          "data": {
            "text/plain": [
              "{10, 20, 30, 'durga'}"
            ]
          },
          "metadata": {
            "tags": []
          },
          "execution_count": 42
        }
      ]
    },
    {
      "cell_type": "code",
      "metadata": {
        "id": "3eEy0CQXX2wy",
        "colab_type": "code",
        "colab": {}
      },
      "source": [
        "s.remove(20)"
      ],
      "execution_count": null,
      "outputs": []
    },
    {
      "cell_type": "code",
      "metadata": {
        "id": "ZEFZYPS_X574",
        "colab_type": "code",
        "colab": {
          "base_uri": "https://localhost:8080/",
          "height": 34
        },
        "outputId": "982521cd-bd1d-49b0-ef34-117b38e38bf1"
      },
      "source": [
        "s"
      ],
      "execution_count": null,
      "outputs": [
        {
          "output_type": "execute_result",
          "data": {
            "text/plain": [
              "{10, 30, 'durga'}"
            ]
          },
          "metadata": {
            "tags": []
          },
          "execution_count": 44
        }
      ]
    },
    {
      "cell_type": "code",
      "metadata": {
        "id": "t93JO9rUX6y5",
        "colab_type": "code",
        "colab": {}
      },
      "source": [
        "s={'durga','ravi','shiva','appalamma'}"
      ],
      "execution_count": null,
      "outputs": []
    },
    {
      "cell_type": "code",
      "metadata": {
        "id": "CQ8Iby9wY1T9",
        "colab_type": "code",
        "colab": {
          "base_uri": "https://localhost:8080/",
          "height": 34
        },
        "outputId": "0c29730e-370e-422f-a17f-a6be4aa63437"
      },
      "source": [
        "s            #insertion order not preserved here"
      ],
      "execution_count": null,
      "outputs": [
        {
          "output_type": "execute_result",
          "data": {
            "text/plain": [
              "{'appalamma', 'durga', 'ravi', 'shiva'}"
            ]
          },
          "metadata": {
            "tags": []
          },
          "execution_count": 46
        }
      ]
    },
    {
      "cell_type": "markdown",
      "metadata": {
        "id": "EkIb-S4-ZqsP",
        "colab_type": "text"
      },
      "source": [
        "frozenset data type:\n",
        "\n",
        "--> addittion and deletion is not allowed\n",
        "\n",
        "--> immutable in nature"
      ]
    },
    {
      "cell_type": "code",
      "metadata": {
        "id": "OhxHQWS1ZwvI",
        "colab_type": "code",
        "colab": {}
      },
      "source": [
        "s={10,20,30,40}"
      ],
      "execution_count": null,
      "outputs": []
    },
    {
      "cell_type": "code",
      "metadata": {
        "id": "DlsmixXCZ1cc",
        "colab_type": "code",
        "colab": {}
      },
      "source": [
        "fs=frozenset (s)"
      ],
      "execution_count": null,
      "outputs": []
    },
    {
      "cell_type": "code",
      "metadata": {
        "id": "BIXljsjbZ9Vg",
        "colab_type": "code",
        "colab": {
          "base_uri": "https://localhost:8080/",
          "height": 34
        },
        "outputId": "e667ad02-ce7b-487d-c761-a311404f400b"
      },
      "source": [
        "fs"
      ],
      "execution_count": null,
      "outputs": [
        {
          "output_type": "execute_result",
          "data": {
            "text/plain": [
              "frozenset({10, 20, 30, 40})"
            ]
          },
          "metadata": {
            "tags": []
          },
          "execution_count": 50
        }
      ]
    },
    {
      "cell_type": "code",
      "metadata": {
        "id": "MLAvqrdJZ_Jd",
        "colab_type": "code",
        "colab": {
          "base_uri": "https://localhost:8080/",
          "height": 163
        },
        "outputId": "cbafe723-62fd-4aa7-f1af-6fcc9ea0cb39"
      },
      "source": [
        "fs.add(50)"
      ],
      "execution_count": null,
      "outputs": [
        {
          "output_type": "error",
          "ename": "AttributeError",
          "evalue": "ignored",
          "traceback": [
            "\u001b[0;31m---------------------------------------------------------------------------\u001b[0m",
            "\u001b[0;31mAttributeError\u001b[0m                            Traceback (most recent call last)",
            "\u001b[0;32m<ipython-input-51-c0f04b883ace>\u001b[0m in \u001b[0;36m<module>\u001b[0;34m()\u001b[0m\n\u001b[0;32m----> 1\u001b[0;31m \u001b[0mfs\u001b[0m\u001b[0;34m.\u001b[0m\u001b[0madd\u001b[0m\u001b[0;34m(\u001b[0m\u001b[0;36m50\u001b[0m\u001b[0;34m)\u001b[0m\u001b[0;34m\u001b[0m\u001b[0;34m\u001b[0m\u001b[0m\n\u001b[0m",
            "\u001b[0;31mAttributeError\u001b[0m: 'frozenset' object has no attribute 'add'"
          ]
        }
      ]
    },
    {
      "cell_type": "code",
      "metadata": {
        "id": "KVN2gWewaEUj",
        "colab_type": "code",
        "colab": {
          "base_uri": "https://localhost:8080/",
          "height": 163
        },
        "outputId": "3a7768f4-f2a9-453a-ea6b-cc19b3f75a38"
      },
      "source": [
        "fs.remove(10)"
      ],
      "execution_count": null,
      "outputs": [
        {
          "output_type": "error",
          "ename": "AttributeError",
          "evalue": "ignored",
          "traceback": [
            "\u001b[0;31m---------------------------------------------------------------------------\u001b[0m",
            "\u001b[0;31mAttributeError\u001b[0m                            Traceback (most recent call last)",
            "\u001b[0;32m<ipython-input-52-b658f8c94e09>\u001b[0m in \u001b[0;36m<module>\u001b[0;34m()\u001b[0m\n\u001b[0;32m----> 1\u001b[0;31m \u001b[0mfs\u001b[0m\u001b[0;34m.\u001b[0m\u001b[0mremove\u001b[0m\u001b[0;34m(\u001b[0m\u001b[0;36m10\u001b[0m\u001b[0;34m)\u001b[0m\u001b[0;34m\u001b[0m\u001b[0;34m\u001b[0m\u001b[0m\n\u001b[0m",
            "\u001b[0;31mAttributeError\u001b[0m: 'frozenset' object has no attribute 'remove'"
          ]
        }
      ]
    },
    {
      "cell_type": "markdown",
      "metadata": {
        "id": "zFkk3hFgajDj",
        "colab_type": "text"
      },
      "source": [
        "dict: \n",
        "\n",
        "-----\n",
        "\n",
        "--->keys <--> values\n",
        "\n",
        "--> keys cannot be dublicated but values can be.\n",
        "\n",
        "---> key can be any type and values also means heterogenous\n",
        "\n"
      ]
    },
    {
      "cell_type": "code",
      "metadata": {
        "id": "nLAErdTZaHPH",
        "colab_type": "code",
        "colab": {}
      },
      "source": [
        "d={100: 'durga', 200: 'shiva', 300: 'ravi'}"
      ],
      "execution_count": 53,
      "outputs": []
    },
    {
      "cell_type": "code",
      "metadata": {
        "id": "e_AskRxjgEx7",
        "colab_type": "code",
        "colab": {
          "base_uri": "https://localhost:8080/",
          "height": 34
        },
        "outputId": "8971e23b-42f8-43f4-88c0-60d509925a39"
      },
      "source": [
        "type(d)"
      ],
      "execution_count": 56,
      "outputs": [
        {
          "output_type": "execute_result",
          "data": {
            "text/plain": [
              "dict"
            ]
          },
          "metadata": {
            "tags": []
          },
          "execution_count": 56
        }
      ]
    },
    {
      "cell_type": "code",
      "metadata": {
        "id": "NjkKdYzlgHNG",
        "colab_type": "code",
        "colab": {
          "base_uri": "https://localhost:8080/",
          "height": 34
        },
        "outputId": "5bad8783-b77c-44d3-b73a-3923842b78a2"
      },
      "source": [
        "d"
      ],
      "execution_count": 57,
      "outputs": [
        {
          "output_type": "execute_result",
          "data": {
            "text/plain": [
              "{100: 'durga', 200: 'shiva', 300: 'ravi'}"
            ]
          },
          "metadata": {
            "tags": []
          },
          "execution_count": 57
        }
      ]
    },
    {
      "cell_type": "code",
      "metadata": {
        "id": "Mtvnk0T8gXL8",
        "colab_type": "code",
        "colab": {}
      },
      "source": [
        "d1={}   #{} is treated as dict"
      ],
      "execution_count": 58,
      "outputs": []
    },
    {
      "cell_type": "code",
      "metadata": {
        "id": "aM8h8LsThVde",
        "colab_type": "code",
        "colab": {
          "base_uri": "https://localhost:8080/",
          "height": 34
        },
        "outputId": "d51b3130-1b34-4385-c9b6-48630abdbefd"
      },
      "source": [
        "type(d1)"
      ],
      "execution_count": 59,
      "outputs": [
        {
          "output_type": "execute_result",
          "data": {
            "text/plain": [
              "dict"
            ]
          },
          "metadata": {
            "tags": []
          },
          "execution_count": 59
        }
      ]
    },
    {
      "cell_type": "code",
      "metadata": {
        "id": "2z0jvOLghYlE",
        "colab_type": "code",
        "colab": {}
      },
      "source": [
        "s=set()"
      ],
      "execution_count": 60,
      "outputs": []
    },
    {
      "cell_type": "code",
      "metadata": {
        "id": "tj7kAPN2hcgk",
        "colab_type": "code",
        "colab": {
          "base_uri": "https://localhost:8080/",
          "height": 34
        },
        "outputId": "1c979c2f-f965-416e-ae86-6b597ae37961"
      },
      "source": [
        "type(s)"
      ],
      "execution_count": 61,
      "outputs": [
        {
          "output_type": "execute_result",
          "data": {
            "text/plain": [
              "set"
            ]
          },
          "metadata": {
            "tags": []
          },
          "execution_count": 61
        }
      ]
    },
    {
      "cell_type": "code",
      "metadata": {
        "id": "8hT6nKevhePn",
        "colab_type": "code",
        "colab": {}
      },
      "source": [
        "d1[100]='sunny'"
      ],
      "execution_count": 62,
      "outputs": []
    },
    {
      "cell_type": "code",
      "metadata": {
        "id": "FftVuzm2h8ZV",
        "colab_type": "code",
        "colab": {
          "base_uri": "https://localhost:8080/",
          "height": 34
        },
        "outputId": "e585b95d-9b1c-42e8-9983-b385dc267de8"
      },
      "source": [
        "d1"
      ],
      "execution_count": 63,
      "outputs": [
        {
          "output_type": "execute_result",
          "data": {
            "text/plain": [
              "{100: 'sunny'}"
            ]
          },
          "metadata": {
            "tags": []
          },
          "execution_count": 63
        }
      ]
    },
    {
      "cell_type": "code",
      "metadata": {
        "id": "hw-mMRBBh9kR",
        "colab_type": "code",
        "colab": {}
      },
      "source": [
        "d1[200]='bunny'"
      ],
      "execution_count": 64,
      "outputs": []
    },
    {
      "cell_type": "code",
      "metadata": {
        "id": "6R1pygyBiET_",
        "colab_type": "code",
        "colab": {
          "base_uri": "https://localhost:8080/",
          "height": 34
        },
        "outputId": "37d229ad-ec29-4f81-cc5a-e56c113f0612"
      },
      "source": [
        "d1"
      ],
      "execution_count": 65,
      "outputs": [
        {
          "output_type": "execute_result",
          "data": {
            "text/plain": [
              "{100: 'sunny', 200: 'bunny'}"
            ]
          },
          "metadata": {
            "tags": []
          },
          "execution_count": 65
        }
      ]
    },
    {
      "cell_type": "code",
      "metadata": {
        "id": "4ezWVB4xiF60",
        "colab_type": "code",
        "colab": {}
      },
      "source": [
        "d1[100]='chinny' \n",
        "#if we add any dublicate key with another value then\n",
        "#value changed to new value."
      ],
      "execution_count": 66,
      "outputs": []
    },
    {
      "cell_type": "code",
      "metadata": {
        "id": "ScqYW5vJiLaZ",
        "colab_type": "code",
        "colab": {
          "base_uri": "https://localhost:8080/",
          "height": 34
        },
        "outputId": "c5997260-07f2-40a7-fe4f-90f465c4e0b5"
      },
      "source": [
        "d1"
      ],
      "execution_count": 67,
      "outputs": [
        {
          "output_type": "execute_result",
          "data": {
            "text/plain": [
              "{100: 'chinny', 200: 'bunny'}"
            ]
          },
          "metadata": {
            "tags": []
          },
          "execution_count": 67
        }
      ]
    },
    {
      "cell_type": "code",
      "metadata": {
        "id": "wqTUi4TbiQfl",
        "colab_type": "code",
        "colab": {}
      },
      "source": [
        ""
      ],
      "execution_count": null,
      "outputs": []
    }
  ]
}