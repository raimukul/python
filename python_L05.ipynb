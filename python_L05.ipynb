{
  "nbformat": 4,
  "nbformat_minor": 0,
  "metadata": {
    "colab": {
      "name": "python L05.ipynb",
      "provenance": [],
      "collapsed_sections": [],
      "include_colab_link": true
    },
    "kernelspec": {
      "name": "python3",
      "display_name": "Python 3"
    }
  },
  "cells": [
    {
      "cell_type": "markdown",
      "metadata": {
        "id": "view-in-github",
        "colab_type": "text"
      },
      "source": [
        "<a href=\"https://colab.research.google.com/github/raimukul/python/blob/master/python_L05.ipynb\" target=\"_parent\"><img src=\"https://colab.research.google.com/assets/colab-badge.svg\" alt=\"Open In Colab\"/></a>"
      ]
    },
    {
      "cell_type": "markdown",
      "metadata": {
        "id": "JLtGRQtMfjug",
        "colab_type": "text"
      },
      "source": [
        "Data Types.\n",
        "\n",
        "-no need to declear data type in python\n",
        "\n",
        "-so it is dynamically typed programming language"
      ]
    },
    {
      "cell_type": "code",
      "metadata": {
        "id": "qKoLE0liga3_",
        "colab_type": "code",
        "colab": {}
      },
      "source": [
        "x=10"
      ],
      "execution_count": 0,
      "outputs": []
    },
    {
      "cell_type": "code",
      "metadata": {
        "id": "HQ0rwhvXgr_F",
        "colab_type": "code",
        "outputId": "7f67f700-0f87-46af-fbbe-e469a3b64687",
        "colab": {
          "base_uri": "https://localhost:8080/",
          "height": 34
        }
      },
      "source": [
        "type(x)"
      ],
      "execution_count": 0,
      "outputs": [
        {
          "output_type": "execute_result",
          "data": {
            "text/plain": [
              "int"
            ]
          },
          "metadata": {
            "tags": []
          },
          "execution_count": 2
        }
      ]
    },
    {
      "cell_type": "code",
      "metadata": {
        "id": "RTVV022cgw8o",
        "colab_type": "code",
        "outputId": "40a60bbd-3e1c-464b-bc2e-3fc97d65097f",
        "colab": {
          "base_uri": "https://localhost:8080/",
          "height": 34
        }
      },
      "source": [
        "x"
      ],
      "execution_count": 0,
      "outputs": [
        {
          "output_type": "execute_result",
          "data": {
            "text/plain": [
              "10"
            ]
          },
          "metadata": {
            "tags": []
          },
          "execution_count": 3
        }
      ]
    },
    {
      "cell_type": "code",
      "metadata": {
        "id": "HY4WbgfCgy3g",
        "colab_type": "code",
        "colab": {}
      },
      "source": [
        "x=True"
      ],
      "execution_count": 0,
      "outputs": []
    },
    {
      "cell_type": "code",
      "metadata": {
        "id": "aEgWhTIdg1uB",
        "colab_type": "code",
        "outputId": "2967ab3a-4f39-404a-c12e-3debac4a0431",
        "colab": {
          "base_uri": "https://localhost:8080/",
          "height": 34
        }
      },
      "source": [
        "type(x)"
      ],
      "execution_count": 0,
      "outputs": [
        {
          "output_type": "execute_result",
          "data": {
            "text/plain": [
              "bool"
            ]
          },
          "metadata": {
            "tags": []
          },
          "execution_count": 5
        }
      ]
    },
    {
      "cell_type": "code",
      "metadata": {
        "id": "ePzor9zGhwxq",
        "colab_type": "code",
        "colab": {}
      },
      "source": [
        "x=10\n",
        "y=0b10\n",
        "z=0o10\n",
        "a=0x10"
      ],
      "execution_count": 0,
      "outputs": []
    },
    {
      "cell_type": "code",
      "metadata": {
        "id": "GznQOK9ViXi_",
        "colab_type": "code",
        "outputId": "81c1fcd5-517f-4f97-825b-60acaa1cac52",
        "colab": {
          "base_uri": "https://localhost:8080/",
          "height": 34
        }
      },
      "source": [
        "print(x)"
      ],
      "execution_count": 0,
      "outputs": [
        {
          "output_type": "stream",
          "text": [
            "10\n"
          ],
          "name": "stdout"
        }
      ]
    },
    {
      "cell_type": "code",
      "metadata": {
        "id": "ERKYccbSiamb",
        "colab_type": "code",
        "outputId": "b8b0344d-1aa0-47b5-ca76-6700526f9a0a",
        "colab": {
          "base_uri": "https://localhost:8080/",
          "height": 34
        }
      },
      "source": [
        "print(y)"
      ],
      "execution_count": 0,
      "outputs": [
        {
          "output_type": "stream",
          "text": [
            "2\n"
          ],
          "name": "stdout"
        }
      ]
    },
    {
      "cell_type": "code",
      "metadata": {
        "id": "9osYl51ricaO",
        "colab_type": "code",
        "outputId": "3abd8c58-5e1f-4bd6-99ad-d7d10142376d",
        "colab": {
          "base_uri": "https://localhost:8080/",
          "height": 34
        }
      },
      "source": [
        "print(z)"
      ],
      "execution_count": 0,
      "outputs": [
        {
          "output_type": "stream",
          "text": [
            "8\n"
          ],
          "name": "stdout"
        }
      ]
    },
    {
      "cell_type": "code",
      "metadata": {
        "id": "zveOzdeQieLz",
        "colab_type": "code",
        "outputId": "b6d3798c-16a0-4828-bfec-fae2a5e7cdb7",
        "colab": {
          "base_uri": "https://localhost:8080/",
          "height": 34
        }
      },
      "source": [
        "print(a)"
      ],
      "execution_count": 0,
      "outputs": [
        {
          "output_type": "stream",
          "text": [
            "16\n"
          ],
          "name": "stdout"
        }
      ]
    },
    {
      "cell_type": "code",
      "metadata": {
        "id": "s8uD_3GCiiWu",
        "colab_type": "code",
        "colab": {}
      },
      "source": [
        "x=9999999999999999999999999999999999999999999999  #no such range,size,limit of digit in python"
      ],
      "execution_count": 0,
      "outputs": []
    },
    {
      "cell_type": "code",
      "metadata": {
        "id": "TVxVReURi_4J",
        "colab_type": "code",
        "outputId": "5ae9defd-085a-4b0c-e913-2364d49e1dbf",
        "colab": {
          "base_uri": "https://localhost:8080/",
          "height": 34
        }
      },
      "source": [
        "type(a)                          #int use 4byte"
      ],
      "execution_count": 0,
      "outputs": [
        {
          "output_type": "execute_result",
          "data": {
            "text/plain": [
              "int"
            ]
          },
          "metadata": {
            "tags": []
          },
          "execution_count": 21
        }
      ]
    },
    {
      "cell_type": "markdown",
      "metadata": {
        "id": "AIE-9oSTj-xX",
        "colab_type": "text"
      },
      "source": [
        "Everything in python is an object so no such range,size,limit of digit in python.\n",
        "------------------------------------------\n",
        "Base Conversions\n",
        ".................\n",
        "\n",
        "bin()\n",
        "\n",
        "oct()\n",
        "\n",
        "Hex()\n",
        "\n",
        "bin(15)"
      ]
    },
    {
      "cell_type": "code",
      "metadata": {
        "id": "7AToaw9Txx1b",
        "colab_type": "code",
        "outputId": "b0a21502-2ec4-4b81-a8c7-b47b643d5631",
        "colab": {
          "base_uri": "https://localhost:8080/",
          "height": 34
        }
      },
      "source": [
        "bin(15)"
      ],
      "execution_count": 0,
      "outputs": [
        {
          "output_type": "execute_result",
          "data": {
            "text/plain": [
              "'0b1111'"
            ]
          },
          "metadata": {
            "tags": []
          },
          "execution_count": 22
        }
      ]
    },
    {
      "cell_type": "code",
      "metadata": {
        "id": "iltlJzY_x1H-",
        "colab_type": "code",
        "outputId": "b36aad86-a951-46bf-aeb3-1a2253569740",
        "colab": {
          "base_uri": "https://localhost:8080/",
          "height": 34
        }
      },
      "source": [
        "bin(0o777)"
      ],
      "execution_count": 0,
      "outputs": [
        {
          "output_type": "execute_result",
          "data": {
            "text/plain": [
              "'0b111111111'"
            ]
          },
          "metadata": {
            "tags": []
          },
          "execution_count": 23
        }
      ]
    },
    {
      "cell_type": "code",
      "metadata": {
        "id": "Un18BISgx5dR",
        "colab_type": "code",
        "outputId": "919082da-3f73-4cef-fdb0-a6252df4c1c1",
        "colab": {
          "base_uri": "https://localhost:8080/",
          "height": 34
        }
      },
      "source": [
        "bin(0x1234)"
      ],
      "execution_count": 0,
      "outputs": [
        {
          "output_type": "execute_result",
          "data": {
            "text/plain": [
              "'0b1001000110100'"
            ]
          },
          "metadata": {
            "tags": []
          },
          "execution_count": 24
        }
      ]
    },
    {
      "cell_type": "code",
      "metadata": {
        "id": "xxrOY7k2x9Vv",
        "colab_type": "code",
        "outputId": "cb38ae5b-5244-48b0-d4c3-7ac5a5ce4101",
        "colab": {
          "base_uri": "https://localhost:8080/",
          "height": 34
        }
      },
      "source": [
        "oct(786)"
      ],
      "execution_count": 0,
      "outputs": [
        {
          "output_type": "execute_result",
          "data": {
            "text/plain": [
              "'0o1422'"
            ]
          },
          "metadata": {
            "tags": []
          },
          "execution_count": 25
        }
      ]
    },
    {
      "cell_type": "code",
      "metadata": {
        "id": "A5O-KscGyPbA",
        "colab_type": "code",
        "outputId": "ef220d3e-f481-4943-e1f5-4902e48d9d42",
        "colab": {
          "base_uri": "https://localhost:8080/",
          "height": 34
        }
      },
      "source": [
        "oct(0xface)"
      ],
      "execution_count": 0,
      "outputs": [
        {
          "output_type": "execute_result",
          "data": {
            "text/plain": [
              "'0o175316'"
            ]
          },
          "metadata": {
            "tags": []
          },
          "execution_count": 26
        }
      ]
    },
    {
      "cell_type": "code",
      "metadata": {
        "id": "X6GWNX9NyT4W",
        "colab_type": "code",
        "outputId": "a941c278-2335-4eb5-923a-bc80f96bfc05",
        "colab": {
          "base_uri": "https://localhost:8080/",
          "height": 34
        }
      },
      "source": [
        "oct(0b111111)"
      ],
      "execution_count": 0,
      "outputs": [
        {
          "output_type": "execute_result",
          "data": {
            "text/plain": [
              "'0o77'"
            ]
          },
          "metadata": {
            "tags": []
          },
          "execution_count": 27
        }
      ]
    },
    {
      "cell_type": "code",
      "metadata": {
        "id": "8PLhp7EUyYGj",
        "colab_type": "code",
        "outputId": "f7bfb46f-1fd7-41a4-c5bf-ba5a40af133b",
        "colab": {
          "base_uri": "https://localhost:8080/",
          "height": 34
        }
      },
      "source": [
        "hex(10)"
      ],
      "execution_count": 0,
      "outputs": [
        {
          "output_type": "execute_result",
          "data": {
            "text/plain": [
              "'0xa'"
            ]
          },
          "metadata": {
            "tags": []
          },
          "execution_count": 28
        }
      ]
    },
    {
      "cell_type": "code",
      "metadata": {
        "id": "BxlDBwL-ykoq",
        "colab_type": "code",
        "outputId": "1e2b9670-c2af-4bbc-90f2-7e33f2dc35d2",
        "colab": {
          "base_uri": "https://localhost:8080/",
          "height": 34
        }
      },
      "source": [
        "hex(16789)"
      ],
      "execution_count": 0,
      "outputs": [
        {
          "output_type": "execute_result",
          "data": {
            "text/plain": [
              "'0x4195'"
            ]
          },
          "metadata": {
            "tags": []
          },
          "execution_count": 29
        }
      ]
    },
    {
      "cell_type": "markdown",
      "metadata": {
        "id": "U6JHUeDlzCAS",
        "colab_type": "text"
      },
      "source": [
        "Python2 & python3\n",
        "\n",
        "long data types in python2\n",
        "no long data type in python3"
      ]
    },
    {
      "cell_type": "code",
      "metadata": {
        "id": "hv0LDgFyzXf_",
        "colab_type": "code",
        "colab": {}
      },
      "source": [
        "x=0xface"
      ],
      "execution_count": 0,
      "outputs": []
    },
    {
      "cell_type": "code",
      "metadata": {
        "id": "BDlxTKAvziKd",
        "colab_type": "code",
        "outputId": "a75094ac-62b1-42c2-a079-7bbc2f31f343",
        "colab": {
          "base_uri": "https://localhost:8080/",
          "height": 34
        }
      },
      "source": [
        "bin(x)"
      ],
      "execution_count": 0,
      "outputs": [
        {
          "output_type": "execute_result",
          "data": {
            "text/plain": [
              "'0b1111101011001110'"
            ]
          },
          "metadata": {
            "tags": []
          },
          "execution_count": 31
        }
      ]
    },
    {
      "cell_type": "code",
      "metadata": {
        "id": "pR_blTxCzkDK",
        "colab_type": "code",
        "colab": {}
      },
      "source": [
        ""
      ],
      "execution_count": 0,
      "outputs": []
    },
    {
      "cell_type": "markdown",
      "metadata": {
        "id": "V3Ys-4RVzlxv",
        "colab_type": "text"
      },
      "source": [
        "..................................................\n",
        "\n",
        "Float Data type\n",
        "\n",
        ".................\n",
        "\n",
        "salary:2345.67\n",
        "\n",
        "price:65.25\n"
      ]
    },
    {
      "cell_type": "code",
      "metadata": {
        "id": "kAgd0INYz60T",
        "colab_type": "code",
        "colab": {}
      },
      "source": [
        "f=1234.67"
      ],
      "execution_count": 0,
      "outputs": []
    },
    {
      "cell_type": "code",
      "metadata": {
        "id": "xL2zBMStz_FU",
        "colab_type": "code",
        "outputId": "7d6041e5-4fa6-48d6-aa8b-f022dce50815",
        "colab": {
          "base_uri": "https://localhost:8080/",
          "height": 34
        }
      },
      "source": [
        "type(f)"
      ],
      "execution_count": 0,
      "outputs": [
        {
          "output_type": "execute_result",
          "data": {
            "text/plain": [
              "float"
            ]
          },
          "metadata": {
            "tags": []
          },
          "execution_count": 33
        }
      ]
    },
    {
      "cell_type": "code",
      "metadata": {
        "id": "VFMJ7jB90Abo",
        "colab_type": "code",
        "outputId": "a2ce8092-86e5-4991-c891-541e5bc8dcee",
        "colab": {
          "base_uri": "https://localhost:8080/",
          "height": 129
        }
      },
      "source": [
        "f=0x123.456          \n",
        "#it is hexadecimal but floating point it is not possible .\n",
        "#only way to specify we have to use only decimal number for float data type."
      ],
      "execution_count": 0,
      "outputs": [
        {
          "output_type": "error",
          "ename": "SyntaxError",
          "evalue": "ignored",
          "traceback": [
            "\u001b[0;36m  File \u001b[0;32m\"<ipython-input-34-fdc4b4dc61f6>\"\u001b[0;36m, line \u001b[0;32m1\u001b[0m\n\u001b[0;31m    f=0x123.456\u001b[0m\n\u001b[0m              ^\u001b[0m\n\u001b[0;31mSyntaxError\u001b[0m\u001b[0;31m:\u001b[0m invalid syntax\n"
          ]
        }
      ]
    },
    {
      "cell_type": "code",
      "metadata": {
        "id": "ZeMOlvh70cmF",
        "colab_type": "code",
        "outputId": "6e66574d-2379-4553-d073-e6322f267fc7",
        "colab": {
          "base_uri": "https://localhost:8080/",
          "height": 129
        }
      },
      "source": [
        "f=0o123.456                  #it is octal"
      ],
      "execution_count": 0,
      "outputs": [
        {
          "output_type": "error",
          "ename": "SyntaxError",
          "evalue": "ignored",
          "traceback": [
            "\u001b[0;36m  File \u001b[0;32m\"<ipython-input-35-d3a1aa2eba01>\"\u001b[0;36m, line \u001b[0;32m1\u001b[0m\n\u001b[0;31m    f=0o123.456\u001b[0m\n\u001b[0m              ^\u001b[0m\n\u001b[0;31mSyntaxError\u001b[0m\u001b[0;31m:\u001b[0m invalid syntax\n"
          ]
        }
      ]
    },
    {
      "cell_type": "markdown",
      "metadata": {
        "id": "ItQtW9es1YPY",
        "colab_type": "text"
      },
      "source": [
        "exponential form\n",
        "\n",
        "--------\n",
        "1.2e3===>1.2*10^3\n",
        "\n",
        "it is allowed in float data type.\n",
        "\n",
        "bigger values can be stored in low size of memory."
      ]
    },
    {
      "cell_type": "code",
      "metadata": {
        "id": "Lv9xms7e11c6",
        "colab_type": "code",
        "colab": {}
      },
      "source": [
        "f=1.2e3"
      ],
      "execution_count": 0,
      "outputs": []
    },
    {
      "cell_type": "code",
      "metadata": {
        "id": "EW1cIL6e132K",
        "colab_type": "code",
        "outputId": "b9ad2f58-5b50-4476-ee73-a88fcc2524e1",
        "colab": {
          "base_uri": "https://localhost:8080/",
          "height": 34
        }
      },
      "source": [
        "f"
      ],
      "execution_count": 0,
      "outputs": [
        {
          "output_type": "execute_result",
          "data": {
            "text/plain": [
              "1200.0"
            ]
          },
          "metadata": {
            "tags": []
          },
          "execution_count": 37
        }
      ]
    },
    {
      "cell_type": "code",
      "metadata": {
        "id": "HQldd9uZ15fS",
        "colab_type": "code",
        "colab": {}
      },
      "source": [
        "f=1.2e100"
      ],
      "execution_count": 0,
      "outputs": []
    },
    {
      "cell_type": "code",
      "metadata": {
        "id": "6qwjS5ar2att",
        "colab_type": "code",
        "outputId": "f76f4442-d41a-4d73-f825-65cbf69a4196",
        "colab": {
          "base_uri": "https://localhost:8080/",
          "height": 34
        }
      },
      "source": [
        "f"
      ],
      "execution_count": 0,
      "outputs": [
        {
          "output_type": "execute_result",
          "data": {
            "text/plain": [
              "1.2e+100"
            ]
          },
          "metadata": {
            "tags": []
          },
          "execution_count": 39
        }
      ]
    },
    {
      "cell_type": "markdown",
      "metadata": {
        "id": "8XJmCw7x2joE",
        "colab_type": "text"
      },
      "source": [
        "----------------\n",
        "**Complex data type**\n",
        "\n",
        ".............................\n",
        "\n",
        "format of complex no: a+bj\n",
        "\n",
        "--a= real part\n",
        "\n",
        "--b= imaginary part\n",
        "\n",
        "--j^2=-1\n",
        "\n",
        "--j=sqrt(-1)\n",
        "\n",
        "..it is only avilable in python.\n",
        "\n",
        "a&b may be or not decimal form.\n"
      ]
    },
    {
      "cell_type": "code",
      "metadata": {
        "id": "DkvbJ1423gg4",
        "colab_type": "code",
        "colab": {}
      },
      "source": [
        "x=10+20j"
      ],
      "execution_count": 0,
      "outputs": []
    },
    {
      "cell_type": "code",
      "metadata": {
        "id": "yHFsRFk53lQA",
        "colab_type": "code",
        "outputId": "2a6c8316-ac0e-4e98-a7b5-3605abff7864",
        "colab": {
          "base_uri": "https://localhost:8080/",
          "height": 34
        }
      },
      "source": [
        "type(x)"
      ],
      "execution_count": 0,
      "outputs": [
        {
          "output_type": "execute_result",
          "data": {
            "text/plain": [
              "complex"
            ]
          },
          "metadata": {
            "tags": []
          },
          "execution_count": 41
        }
      ]
    },
    {
      "cell_type": "code",
      "metadata": {
        "id": "TcRbZkYh3m9Q",
        "colab_type": "code",
        "colab": {}
      },
      "source": [
        "y=10.5+2.5j"
      ],
      "execution_count": 0,
      "outputs": []
    },
    {
      "cell_type": "code",
      "metadata": {
        "id": "LgW-2hjI3sTd",
        "colab_type": "code",
        "outputId": "d8ba0ca3-5e1f-4cf7-c56f-508c31b103c9",
        "colab": {
          "base_uri": "https://localhost:8080/",
          "height": 34
        }
      },
      "source": [
        "type(y)"
      ],
      "execution_count": 0,
      "outputs": [
        {
          "output_type": "execute_result",
          "data": {
            "text/plain": [
              "complex"
            ]
          },
          "metadata": {
            "tags": []
          },
          "execution_count": 43
        }
      ]
    },
    {
      "cell_type": "code",
      "metadata": {
        "id": "KyHuaKpn3uge",
        "colab_type": "code",
        "outputId": "76d0f833-27e7-48c4-c8a0-722e936dd728",
        "colab": {
          "base_uri": "https://localhost:8080/",
          "height": 129
        }
      },
      "source": [
        "v=10.5+2.5k      #we cannot use any other symbol instead of j."
      ],
      "execution_count": 0,
      "outputs": [
        {
          "output_type": "error",
          "ename": "SyntaxError",
          "evalue": "ignored",
          "traceback": [
            "\u001b[0;36m  File \u001b[0;32m\"<ipython-input-44-5d8771c32059>\"\u001b[0;36m, line \u001b[0;32m1\u001b[0m\n\u001b[0;31m    v=10.5+2.5k\u001b[0m\n\u001b[0m              ^\u001b[0m\n\u001b[0;31mSyntaxError\u001b[0m\u001b[0;31m:\u001b[0m invalid syntax\n"
          ]
        }
      ]
    },
    {
      "cell_type": "code",
      "metadata": {
        "id": "Dg3kc_V_32Ni",
        "colab_type": "code",
        "outputId": "f0200e60-e706-4690-94dd-f9721055ce91",
        "colab": {
          "base_uri": "https://localhost:8080/",
          "height": 163
        }
      },
      "source": [
        "a=10+j20    #also we have to use standard convention which is a+bj"
      ],
      "execution_count": 0,
      "outputs": [
        {
          "output_type": "error",
          "ename": "NameError",
          "evalue": "ignored",
          "traceback": [
            "\u001b[0;31m---------------------------------------------------------------------------\u001b[0m",
            "\u001b[0;31mNameError\u001b[0m                                 Traceback (most recent call last)",
            "\u001b[0;32m<ipython-input-46-c3d400506e08>\u001b[0m in \u001b[0;36m<module>\u001b[0;34m()\u001b[0m\n\u001b[0;32m----> 1\u001b[0;31m \u001b[0ma\u001b[0m\u001b[0;34m=\u001b[0m\u001b[0;36m10\u001b[0m\u001b[0;34m+\u001b[0m\u001b[0mj20\u001b[0m    \u001b[0;31m#also we have to use standard convention which is a+bj\u001b[0m\u001b[0;34m\u001b[0m\u001b[0;34m\u001b[0m\u001b[0m\n\u001b[0m",
            "\u001b[0;31mNameError\u001b[0m: name 'j20' is not defined"
          ]
        }
      ]
    },
    {
      "cell_type": "code",
      "metadata": {
        "id": "lkyyED_U4K9u",
        "colab_type": "code",
        "colab": {}
      },
      "source": [
        "#--imaginary part only use decimal no \n",
        "#--but we can use any no form in real part.\n",
        "\n",
        "\n",
        "a=0b1111+20j"
      ],
      "execution_count": 0,
      "outputs": []
    },
    {
      "cell_type": "code",
      "metadata": {
        "id": "WZ8RlbQK4ria",
        "colab_type": "code",
        "outputId": "23a1e548-bf81-4e95-c802-3ccbbee6e76a",
        "colab": {
          "base_uri": "https://localhost:8080/",
          "height": 34
        }
      },
      "source": [
        "a"
      ],
      "execution_count": 0,
      "outputs": [
        {
          "output_type": "execute_result",
          "data": {
            "text/plain": [
              "(15+20j)"
            ]
          },
          "metadata": {
            "tags": []
          },
          "execution_count": 50
        }
      ]
    },
    {
      "cell_type": "code",
      "metadata": {
        "id": "ieLoWRn54sq5",
        "colab_type": "code",
        "outputId": "ad5399e7-2933-4648-aa4b-98095c133dd1",
        "colab": {
          "base_uri": "https://localhost:8080/",
          "height": 163
        }
      },
      "source": [
        "a=15+ob1111j"
      ],
      "execution_count": 0,
      "outputs": [
        {
          "output_type": "error",
          "ename": "NameError",
          "evalue": "ignored",
          "traceback": [
            "\u001b[0;31m---------------------------------------------------------------------------\u001b[0m",
            "\u001b[0;31mNameError\u001b[0m                                 Traceback (most recent call last)",
            "\u001b[0;32m<ipython-input-51-e15399090010>\u001b[0m in \u001b[0;36m<module>\u001b[0;34m()\u001b[0m\n\u001b[0;32m----> 1\u001b[0;31m \u001b[0ma\u001b[0m\u001b[0;34m=\u001b[0m\u001b[0;36m15\u001b[0m\u001b[0;34m+\u001b[0m\u001b[0mob1111j\u001b[0m\u001b[0;34m\u001b[0m\u001b[0;34m\u001b[0m\u001b[0m\n\u001b[0m",
            "\u001b[0;31mNameError\u001b[0m: name 'ob1111j' is not defined"
          ]
        }
      ]
    },
    {
      "cell_type": "code",
      "metadata": {
        "id": "TDeB8uRg5ByN",
        "colab_type": "code",
        "colab": {}
      },
      "source": [
        "a=10+20j\n",
        "b=20+30j"
      ],
      "execution_count": 0,
      "outputs": []
    },
    {
      "cell_type": "code",
      "metadata": {
        "id": "HMvoAik35H4Z",
        "colab_type": "code",
        "outputId": "f2539c27-345a-4b41-95a2-ac9160fa54aa",
        "colab": {
          "base_uri": "https://localhost:8080/",
          "height": 34
        }
      },
      "source": [
        "a+b"
      ],
      "execution_count": 0,
      "outputs": [
        {
          "output_type": "execute_result",
          "data": {
            "text/plain": [
              "(30+50j)"
            ]
          },
          "metadata": {
            "tags": []
          },
          "execution_count": 53
        }
      ]
    },
    {
      "cell_type": "code",
      "metadata": {
        "id": "wuQEEJkB5Je5",
        "colab_type": "code",
        "outputId": "8858b632-034c-4476-e8b8-04a27ba33365",
        "colab": {
          "base_uri": "https://localhost:8080/",
          "height": 34
        }
      },
      "source": [
        "a-b"
      ],
      "execution_count": 0,
      "outputs": [
        {
          "output_type": "execute_result",
          "data": {
            "text/plain": [
              "(-10-10j)"
            ]
          },
          "metadata": {
            "tags": []
          },
          "execution_count": 54
        }
      ]
    },
    {
      "cell_type": "code",
      "metadata": {
        "id": "38v7gSB75K6J",
        "colab_type": "code",
        "outputId": "f91c111e-3ce3-4be4-c388-e38d6f968b70",
        "colab": {
          "base_uri": "https://localhost:8080/",
          "height": 34
        }
      },
      "source": [
        "a*b"
      ],
      "execution_count": 0,
      "outputs": [
        {
          "output_type": "execute_result",
          "data": {
            "text/plain": [
              "(-400+700j)"
            ]
          },
          "metadata": {
            "tags": []
          },
          "execution_count": 55
        }
      ]
    },
    {
      "cell_type": "code",
      "metadata": {
        "id": "7Upy58Na5M34",
        "colab_type": "code",
        "outputId": "72447186-74b7-4cc9-a61e-6cd72b48dafd",
        "colab": {
          "base_uri": "https://localhost:8080/",
          "height": 34
        }
      },
      "source": [
        "type(a)"
      ],
      "execution_count": 0,
      "outputs": [
        {
          "output_type": "execute_result",
          "data": {
            "text/plain": [
              "complex"
            ]
          },
          "metadata": {
            "tags": []
          },
          "execution_count": 56
        }
      ]
    },
    {
      "cell_type": "code",
      "metadata": {
        "id": "-fwAxmDN5ZOy",
        "colab_type": "code",
        "outputId": "fadd74f8-3428-416b-fab0-de2c22b688a0",
        "colab": {
          "base_uri": "https://localhost:8080/",
          "height": 34
        }
      },
      "source": [
        "#for know real no of complex no\n",
        "a.real"
      ],
      "execution_count": 0,
      "outputs": [
        {
          "output_type": "execute_result",
          "data": {
            "text/plain": [
              "10.0"
            ]
          },
          "metadata": {
            "tags": []
          },
          "execution_count": 57
        }
      ]
    },
    {
      "cell_type": "code",
      "metadata": {
        "id": "nNsnz3DT5j_o",
        "colab_type": "code",
        "outputId": "1c4294d1-ba5e-4cd1-b132-499a3737feff",
        "colab": {
          "base_uri": "https://localhost:8080/",
          "height": 34
        }
      },
      "source": [
        "#for know imaginary part\n",
        "a.imag"
      ],
      "execution_count": 0,
      "outputs": [
        {
          "output_type": "execute_result",
          "data": {
            "text/plain": [
              "20.0"
            ]
          },
          "metadata": {
            "tags": []
          },
          "execution_count": 60
        }
      ]
    },
    {
      "cell_type": "markdown",
      "metadata": {
        "id": "4AqBH0g96DIv",
        "colab_type": "text"
      },
      "source": [
        "----------------\n",
        "**bool data type**\n",
        "\n",
        "...........................\n",
        "\n",
        "--for represent logical values\n",
        "\n",
        "--True and False\n",
        "\n",
        "these two are only allowed in bool data type."
      ]
    },
    {
      "cell_type": "code",
      "metadata": {
        "id": "zbGpLdVf6jzA",
        "colab_type": "code",
        "colab": {}
      },
      "source": [
        "b=True"
      ],
      "execution_count": 0,
      "outputs": []
    },
    {
      "cell_type": "code",
      "metadata": {
        "id": "EIPK8rY06lAx",
        "colab_type": "code",
        "outputId": "b002cb36-4526-472d-a314-3c11ac4870a1",
        "colab": {
          "base_uri": "https://localhost:8080/",
          "height": 34
        }
      },
      "source": [
        "b"
      ],
      "execution_count": 0,
      "outputs": [
        {
          "output_type": "execute_result",
          "data": {
            "text/plain": [
              "True"
            ]
          },
          "metadata": {
            "tags": []
          },
          "execution_count": 62
        }
      ]
    },
    {
      "cell_type": "code",
      "metadata": {
        "id": "pm-67Xbu6lxt",
        "colab_type": "code",
        "outputId": "53140bc9-0906-48f3-c098-c201517822bb",
        "colab": {
          "base_uri": "https://localhost:8080/",
          "height": 163
        }
      },
      "source": [
        "b=true           #true here t should be capital"
      ],
      "execution_count": 0,
      "outputs": [
        {
          "output_type": "error",
          "ename": "NameError",
          "evalue": "ignored",
          "traceback": [
            "\u001b[0;31m---------------------------------------------------------------------------\u001b[0m",
            "\u001b[0;31mNameError\u001b[0m                                 Traceback (most recent call last)",
            "\u001b[0;32m<ipython-input-63-540834ef7996>\u001b[0m in \u001b[0;36m<module>\u001b[0;34m()\u001b[0m\n\u001b[0;32m----> 1\u001b[0;31m \u001b[0mb\u001b[0m\u001b[0;34m=\u001b[0m\u001b[0mtrue\u001b[0m\u001b[0;34m\u001b[0m\u001b[0;34m\u001b[0m\u001b[0m\n\u001b[0m",
            "\u001b[0;31mNameError\u001b[0m: name 'true' is not defined"
          ]
        }
      ]
    },
    {
      "cell_type": "code",
      "metadata": {
        "id": "Mq5E5ib96u5O",
        "colab_type": "code",
        "outputId": "9f14853c-f032-4fd2-9891-40be76a555ae",
        "colab": {
          "base_uri": "https://localhost:8080/",
          "height": 34
        }
      },
      "source": [
        "b=True\n",
        "b"
      ],
      "execution_count": 0,
      "outputs": [
        {
          "output_type": "execute_result",
          "data": {
            "text/plain": [
              "True"
            ]
          },
          "metadata": {
            "tags": []
          },
          "execution_count": 66
        }
      ]
    },
    {
      "cell_type": "code",
      "metadata": {
        "id": "rF4I8ATi6nZ9",
        "colab_type": "code",
        "colab": {}
      },
      "source": [
        "a=10\n",
        "b=20\n",
        "c=a<b"
      ],
      "execution_count": 0,
      "outputs": []
    },
    {
      "cell_type": "code",
      "metadata": {
        "id": "_5HMmd2t6_Al",
        "colab_type": "code",
        "outputId": "2edf705a-0980-45ed-a440-7d69c9ae4934",
        "colab": {
          "base_uri": "https://localhost:8080/",
          "height": 34
        }
      },
      "source": [
        "c"
      ],
      "execution_count": 0,
      "outputs": [
        {
          "output_type": "execute_result",
          "data": {
            "text/plain": [
              "True"
            ]
          },
          "metadata": {
            "tags": []
          },
          "execution_count": 68
        }
      ]
    },
    {
      "cell_type": "code",
      "metadata": {
        "id": "ViGjfT3d6_yj",
        "colab_type": "code",
        "colab": {}
      },
      "source": [
        "b=\"true\"   #for making it string we have to use \"\" or ''"
      ],
      "execution_count": 0,
      "outputs": []
    },
    {
      "cell_type": "code",
      "metadata": {
        "id": "OI_igGXZ7VaN",
        "colab_type": "code",
        "outputId": "8a96475f-ee3d-4e39-af4a-8ed7e47689c1",
        "colab": {
          "base_uri": "https://localhost:8080/",
          "height": 34
        }
      },
      "source": [
        "b"
      ],
      "execution_count": 0,
      "outputs": [
        {
          "output_type": "execute_result",
          "data": {
            "text/plain": [
              "'true'"
            ]
          },
          "metadata": {
            "tags": []
          },
          "execution_count": 70
        }
      ]
    },
    {
      "cell_type": "markdown",
      "metadata": {
        "id": "aXyGG5i37kIT",
        "colab_type": "text"
      },
      "source": [
        "--------------\n",
        "True+True=>2\n",
        "True+False==>1"
      ]
    },
    {
      "cell_type": "code",
      "metadata": {
        "id": "jLOLz8AV70n0",
        "colab_type": "code",
        "outputId": "0e18d8ae-587d-4b22-ba8b-fcf54476f2c5",
        "colab": {
          "base_uri": "https://localhost:8080/",
          "height": 34
        }
      },
      "source": [
        "True+True"
      ],
      "execution_count": 0,
      "outputs": [
        {
          "output_type": "execute_result",
          "data": {
            "text/plain": [
              "2"
            ]
          },
          "metadata": {
            "tags": []
          },
          "execution_count": 71
        }
      ]
    },
    {
      "cell_type": "code",
      "metadata": {
        "id": "dklZeBDY72XX",
        "colab_type": "code",
        "outputId": "d7da0064-7b6b-4bc8-e8ee-edf5df563729",
        "colab": {
          "base_uri": "https://localhost:8080/",
          "height": 34
        }
      },
      "source": [
        "True+False"
      ],
      "execution_count": 0,
      "outputs": [
        {
          "output_type": "execute_result",
          "data": {
            "text/plain": [
              "1"
            ]
          },
          "metadata": {
            "tags": []
          },
          "execution_count": 72
        }
      ]
    },
    {
      "cell_type": "code",
      "metadata": {
        "id": "s564jvTH76Ep",
        "colab_type": "code",
        "outputId": "23f20bf8-59a5-4c3d-9cd2-7fea29fe3aae",
        "colab": {
          "base_uri": "https://localhost:8080/",
          "height": 34
        }
      },
      "source": [
        "False+False"
      ],
      "execution_count": 0,
      "outputs": [
        {
          "output_type": "execute_result",
          "data": {
            "text/plain": [
              "0"
            ]
          },
          "metadata": {
            "tags": []
          },
          "execution_count": 73
        }
      ]
    },
    {
      "cell_type": "code",
      "metadata": {
        "id": "Q7HIg3q47_AW",
        "colab_type": "code",
        "outputId": "0bc271fc-85a9-408e-ae8a-d08e39eea39b",
        "colab": {
          "base_uri": "https://localhost:8080/",
          "height": 34
        }
      },
      "source": [
        "False+True"
      ],
      "execution_count": 0,
      "outputs": [
        {
          "output_type": "execute_result",
          "data": {
            "text/plain": [
              "1"
            ]
          },
          "metadata": {
            "tags": []
          },
          "execution_count": 74
        }
      ]
    },
    {
      "cell_type": "code",
      "metadata": {
        "id": "wcm2bxM5yzj4",
        "colab_type": "code",
        "colab": {
          "base_uri": "https://localhost:8080/",
          "height": 183
        },
        "outputId": "d625037d-6b56-4148-9ec8-83d324a2d13e"
      },
      "source": [
        "True/False"
      ],
      "execution_count": 1,
      "outputs": [
        {
          "output_type": "error",
          "ename": "ZeroDivisionError",
          "evalue": "ignored",
          "traceback": [
            "\u001b[0;31m---------------------------------------------------------------------------\u001b[0m",
            "\u001b[0;31mZeroDivisionError\u001b[0m                         Traceback (most recent call last)",
            "\u001b[0;32m<ipython-input-1-f64d1295bbce>\u001b[0m in \u001b[0;36m<module>\u001b[0;34m()\u001b[0m\n\u001b[0;32m----> 1\u001b[0;31m \u001b[0;32mTrue\u001b[0m\u001b[0;34m/\u001b[0m\u001b[0;32mFalse\u001b[0m\u001b[0;34m\u001b[0m\u001b[0;34m\u001b[0m\u001b[0m\n\u001b[0m",
            "\u001b[0;31mZeroDivisionError\u001b[0m: division by zero"
          ]
        }
      ]
    },
    {
      "cell_type": "markdown",
      "metadata": {
        "id": "Znc9omVn8E2A",
        "colab_type": "text"
      },
      "source": [
        "--------------\n",
        "str data type\n",
        "\n",
        "-string data type\n",
        "\n",
        "-any sequence of character is known as string\n",
        "\n",
        "--\"durga\" or 'durga' for make it string in python.\n",
        "\n",
        "--single ==>char(other languge) str in python\n",
        "\n",
        "--double quotes==>string\n",
        "\n",
        "--triple quotes==>multiple line string literals"
      ]
    },
    {
      "cell_type": "code",
      "metadata": {
        "id": "WmDP_hSl8cSE",
        "colab_type": "code",
        "outputId": "5ab859f4-fa2e-412d-d78c-05a0771c1077",
        "colab": {
          "base_uri": "https://localhost:8080/",
          "height": 163
        }
      },
      "source": [
        "s=durga"
      ],
      "execution_count": 0,
      "outputs": [
        {
          "output_type": "error",
          "ename": "NameError",
          "evalue": "ignored",
          "traceback": [
            "\u001b[0;31m---------------------------------------------------------------------------\u001b[0m",
            "\u001b[0;31mNameError\u001b[0m                                 Traceback (most recent call last)",
            "\u001b[0;32m<ipython-input-75-83a4ec208a67>\u001b[0m in \u001b[0;36m<module>\u001b[0;34m()\u001b[0m\n\u001b[0;32m----> 1\u001b[0;31m \u001b[0ms\u001b[0m\u001b[0;34m=\u001b[0m\u001b[0mdurga\u001b[0m\u001b[0;34m\u001b[0m\u001b[0;34m\u001b[0m\u001b[0m\n\u001b[0m",
            "\u001b[0;31mNameError\u001b[0m: name 'durga' is not defined"
          ]
        }
      ]
    },
    {
      "cell_type": "code",
      "metadata": {
        "id": "lkiDeNHb8d7w",
        "colab_type": "code",
        "colab": {}
      },
      "source": [
        "s=\"durga\""
      ],
      "execution_count": 0,
      "outputs": []
    },
    {
      "cell_type": "code",
      "metadata": {
        "id": "IvBeeXh48gL4",
        "colab_type": "code",
        "outputId": "87b43565-dbd8-4dde-9e9a-1e7cc601aa46",
        "colab": {
          "base_uri": "https://localhost:8080/",
          "height": 34
        }
      },
      "source": [
        "type(s)"
      ],
      "execution_count": 0,
      "outputs": [
        {
          "output_type": "execute_result",
          "data": {
            "text/plain": [
              "str"
            ]
          },
          "metadata": {
            "tags": []
          },
          "execution_count": 78
        }
      ]
    },
    {
      "cell_type": "code",
      "metadata": {
        "id": "8YnP-eu98lsw",
        "colab_type": "code",
        "colab": {}
      },
      "source": [
        "a='durga'          #recommended to use single qoute ('')"
      ],
      "execution_count": 0,
      "outputs": []
    },
    {
      "cell_type": "code",
      "metadata": {
        "id": "Uzvzo0Pt8osX",
        "colab_type": "code",
        "outputId": "6c20da5b-0ed5-4dc5-fabf-2cbe3b762e10",
        "colab": {
          "base_uri": "https://localhost:8080/",
          "height": 34
        }
      },
      "source": [
        "type(a)"
      ],
      "execution_count": 0,
      "outputs": [
        {
          "output_type": "execute_result",
          "data": {
            "text/plain": [
              "str"
            ]
          },
          "metadata": {
            "tags": []
          },
          "execution_count": 80
        }
      ]
    },
    {
      "cell_type": "code",
      "metadata": {
        "id": "tRP6P7s38rpc",
        "colab_type": "code",
        "outputId": "78813a2b-f042-48f0-961e-0c9d6926682f",
        "colab": {
          "base_uri": "https://localhost:8080/",
          "height": 129
        }
      },
      "source": [
        "a=\"durga\n",
        "software\"                            #multiple lines here"
      ],
      "execution_count": 0,
      "outputs": [
        {
          "output_type": "error",
          "ename": "SyntaxError",
          "evalue": "ignored",
          "traceback": [
            "\u001b[0;36m  File \u001b[0;32m\"<ipython-input-81-4ed4b87210e6>\"\u001b[0;36m, line \u001b[0;32m1\u001b[0m\n\u001b[0;31m    a=\"durga\u001b[0m\n\u001b[0m            ^\u001b[0m\n\u001b[0;31mSyntaxError\u001b[0m\u001b[0;31m:\u001b[0m EOL while scanning string literal\n"
          ]
        }
      ]
    },
    {
      "cell_type": "code",
      "metadata": {
        "id": "5fZ0vlhH88nh",
        "colab_type": "code",
        "colab": {}
      },
      "source": [
        "a=\"\"\"durga\n",
        "software\"\"\"                 #we have to use triple qotes for multiple lines."
      ],
      "execution_count": 0,
      "outputs": []
    },
    {
      "cell_type": "code",
      "metadata": {
        "id": "VXh97XI29M1Y",
        "colab_type": "code",
        "outputId": "7962d1e7-7cb7-4b2d-c877-d57bdd5b04a6",
        "colab": {
          "base_uri": "https://localhost:8080/",
          "height": 34
        }
      },
      "source": [
        "type(a)"
      ],
      "execution_count": 0,
      "outputs": [
        {
          "output_type": "execute_result",
          "data": {
            "text/plain": [
              "str"
            ]
          },
          "metadata": {
            "tags": []
          },
          "execution_count": 89
        }
      ]
    },
    {
      "cell_type": "code",
      "metadata": {
        "id": "ZdHSdrlU9hMc",
        "colab_type": "code",
        "outputId": "13cf095b-bd81-4465-b014-a05e30b12687",
        "colab": {
          "base_uri": "https://localhost:8080/",
          "height": 129
        }
      },
      "source": [
        "s=\"durga\n",
        "soft\"\n",
        "print(s)"
      ],
      "execution_count": 0,
      "outputs": [
        {
          "output_type": "error",
          "ename": "SyntaxError",
          "evalue": "ignored",
          "traceback": [
            "\u001b[0;36m  File \u001b[0;32m\"<ipython-input-90-759eb8f3b322>\"\u001b[0;36m, line \u001b[0;32m1\u001b[0m\n\u001b[0;31m    s=\"durga\u001b[0m\n\u001b[0m            ^\u001b[0m\n\u001b[0;31mSyntaxError\u001b[0m\u001b[0;31m:\u001b[0m EOL while scanning string literal\n"
          ]
        }
      ]
    },
    {
      "cell_type": "code",
      "metadata": {
        "id": "c1PCzqX4-CCb",
        "colab_type": "code",
        "outputId": "0e910523-d113-4313-ced6-943752458b71",
        "colab": {
          "base_uri": "https://localhost:8080/",
          "height": 51
        }
      },
      "source": [
        "s='''durga\n",
        "soft'''\n",
        "print(s)"
      ],
      "execution_count": 0,
      "outputs": [
        {
          "output_type": "stream",
          "text": [
            "durga\n",
            "soft\n"
          ],
          "name": "stdout"
        }
      ]
    },
    {
      "cell_type": "code",
      "metadata": {
        "id": "NmAMWQVp-KvG",
        "colab_type": "code",
        "colab": {}
      },
      "source": [
        "#where it going to use i.e  \"\"\"x\"\"\" or '''x'''\n",
        "s='''\"Durga sir \"python\" classes is very good\"'''"
      ],
      "execution_count": 0,
      "outputs": []
    },
    {
      "cell_type": "code",
      "metadata": {
        "id": "2Mvvsvu7-ovB",
        "colab_type": "code",
        "outputId": "0625a4fd-23ef-4ac5-a1be-5510a2dcdf25",
        "colab": {
          "base_uri": "https://localhost:8080/",
          "height": 34
        }
      },
      "source": [
        "print(s)"
      ],
      "execution_count": 0,
      "outputs": [
        {
          "output_type": "stream",
          "text": [
            "\"Durga sir \"python\" classes is very good\"\n"
          ],
          "name": "stdout"
        }
      ]
    },
    {
      "cell_type": "code",
      "metadata": {
        "id": "-2AD00uL-rzi",
        "colab_type": "code",
        "colab": {
          "base_uri": "https://localhost:8080/",
          "height": 183
        },
        "outputId": "88795d5d-2b20-4481-a4ac-8a1ebacbf728"
      },
      "source": [
        "x   #without define we get such error"
      ],
      "execution_count": 2,
      "outputs": [
        {
          "output_type": "error",
          "ename": "NameError",
          "evalue": "ignored",
          "traceback": [
            "\u001b[0;31m---------------------------------------------------------------------------\u001b[0m",
            "\u001b[0;31mNameError\u001b[0m                                 Traceback (most recent call last)",
            "\u001b[0;32m<ipython-input-2-6fcf9dfbd479>\u001b[0m in \u001b[0;36m<module>\u001b[0;34m()\u001b[0m\n\u001b[0;32m----> 1\u001b[0;31m \u001b[0mx\u001b[0m\u001b[0;34m\u001b[0m\u001b[0;34m\u001b[0m\u001b[0m\n\u001b[0m",
            "\u001b[0;31mNameError\u001b[0m: name 'x' is not defined"
          ]
        }
      ]
    },
    {
      "cell_type": "code",
      "metadata": {
        "id": "UeBoFFQwz0HZ",
        "colab_type": "code",
        "colab": {}
      },
      "source": [
        ""
      ],
      "execution_count": 0,
      "outputs": []
    }
  ]
}