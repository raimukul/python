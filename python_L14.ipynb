{
  "nbformat": 4,
  "nbformat_minor": 0,
  "metadata": {
    "colab": {
      "name": "python_L14.ipynb",
      "provenance": [],
      "collapsed_sections": [],
      "authorship_tag": "ABX9TyNwUoJbbSrV7WRA1udI65gL",
      "include_colab_link": true
    },
    "kernelspec": {
      "name": "python3",
      "display_name": "Python 3"
    }
  },
  "cells": [
    {
      "cell_type": "markdown",
      "metadata": {
        "id": "view-in-github",
        "colab_type": "text"
      },
      "source": [
        "<a href=\"https://colab.research.google.com/github/raimukul/python/blob/master/python_L14.ipynb\" target=\"_parent\"><img src=\"https://colab.research.google.com/assets/colab-badge.svg\" alt=\"Open In Colab\"/></a>"
      ]
    },
    {
      "cell_type": "markdown",
      "metadata": {
        "id": "V2ArJ0wY1fnk",
        "colab_type": "text"
      },
      "source": [
        "#Membership operator\n",
        "```\n",
        "list1=[10,20,30]\n",
        "print(10 in list1)\n",
        "print(40 not in list1) \n",
        "```\n",
        "\n"
      ]
    },
    {
      "cell_type": "code",
      "metadata": {
        "id": "ugAqXDeLz0bJ",
        "colab_type": "code",
        "colab": {
          "base_uri": "https://localhost:8080/",
          "height": 34
        },
        "outputId": "fceca9f8-4b44-4d8a-b937-448b4b4cff9f"
      },
      "source": [
        "list1=[10,20,30]\n",
        "print(10 in list1)"
      ],
      "execution_count": 1,
      "outputs": [
        {
          "output_type": "stream",
          "text": [
            "True\n"
          ],
          "name": "stdout"
        }
      ]
    },
    {
      "cell_type": "code",
      "metadata": {
        "id": "6dWwzDx012Fn",
        "colab_type": "code",
        "colab": {
          "base_uri": "https://localhost:8080/",
          "height": 34
        },
        "outputId": "048a7246-e2c6-4000-899e-d4c0987fccd3"
      },
      "source": [
        "print(40 in list1)"
      ],
      "execution_count": 2,
      "outputs": [
        {
          "output_type": "stream",
          "text": [
            "False\n"
          ],
          "name": "stdout"
        }
      ]
    },
    {
      "cell_type": "code",
      "metadata": {
        "id": "mwb2S6VF16WL",
        "colab_type": "code",
        "colab": {
          "base_uri": "https://localhost:8080/",
          "height": 34
        },
        "outputId": "60e6f099-ca35-4e85-f0c7-b451f312a2a4"
      },
      "source": [
        "print(40 not in list1)"
      ],
      "execution_count": 3,
      "outputs": [
        {
          "output_type": "stream",
          "text": [
            "True\n"
          ],
          "name": "stdout"
        }
      ]
    },
    {
      "cell_type": "code",
      "metadata": {
        "id": "rHsoLSTn2A_R",
        "colab_type": "code",
        "colab": {
          "base_uri": "https://localhost:8080/",
          "height": 102
        },
        "outputId": "d3002e13-de87-4f1f-fb75-d6ce7dc0ab4a"
      },
      "source": [
        "s='hello! learing pythn is very very easy!!'\n",
        "print('hello' in s)\n",
        "print('l' in s)\n",
        "print('z' in s)\n",
        "print('z' not in s)\n",
        "print(' ' in s)"
      ],
      "execution_count": 5,
      "outputs": [
        {
          "output_type": "stream",
          "text": [
            "True\n",
            "True\n",
            "False\n",
            "True\n",
            "True\n"
          ],
          "name": "stdout"
        }
      ]
    },
    {
      "cell_type": "markdown",
      "metadata": {
        "id": "m-FTQg-S4P5B",
        "colab_type": "text"
      },
      "source": [
        "#Operator Precedence:\n",
        "---Generally for all programming languages-------\n",
        "\n",
        "```\n",
        "1st priority --> () ==> Paranthesis\n",
        "\n",
        "2nd priority --> unary operator(~a)\n",
        "\n",
        "3rd priority --> binary operator(a+b)\n",
        "\n",
        "4th priority --> ternary operator(3 arguments)\n",
        "\n",
        "5th priority--> assignment operator\n",
        "```\n",
        "\n",
        "-----priority level for python------\n",
        "\n",
        "```\n",
        "1. () ==> paranthesis\n",
        "2. ** ==>exponential operator\n",
        "3. ~,- ==>unary operator\n",
        "4. *,/,%,//\n",
        "5. +,-\n",
        "6. <<,>>\n",
        "7. &\n",
        "8. ^\n",
        "9. |\n",
        "10. >,>=,<,<=,==,!=\n",
        "11. =,+=,-=,*=,.....\n",
        "12. is,is not\n",
        "13. in,in not\n",
        "14. not\n",
        "15. and\n",
        "16. or\n",
        "```\n",
        "\n",
        "\n",
        "\n"
      ]
    },
    {
      "cell_type": "code",
      "metadata": {
        "id": "fI7RofVs27qQ",
        "colab_type": "code",
        "colab": {
          "base_uri": "https://localhost:8080/",
          "height": 34
        },
        "outputId": "bd987e55-bee6-4876-a67b-d4543d053a72"
      },
      "source": [
        "a=30\n",
        "b=20\n",
        "c=10\n",
        "d=5\n",
        "print((a+b)*c/d)"
      ],
      "execution_count": 6,
      "outputs": [
        {
          "output_type": "stream",
          "text": [
            "100.0\n"
          ],
          "name": "stdout"
        }
      ]
    },
    {
      "cell_type": "code",
      "metadata": {
        "id": "5s-c0DbK8GMe",
        "colab_type": "code",
        "colab": {
          "base_uri": "https://localhost:8080/",
          "height": 51
        },
        "outputId": "bca29b61-1d63-4f3e-dd90-256d3a98ffa9"
      },
      "source": [
        "a=30\n",
        "b=20\n",
        "c=10\n",
        "d=5\n",
        "print((a+b)*(c/d))\n",
        "print(a+(b*c)/d)"
      ],
      "execution_count": 8,
      "outputs": [
        {
          "output_type": "stream",
          "text": [
            "100.0\n",
            "70.0\n"
          ],
          "name": "stdout"
        }
      ]
    },
    {
      "cell_type": "markdown",
      "metadata": {
        "id": "-yYprWlj9Rz5",
        "colab_type": "text"
      },
      "source": [
        "#Module\n",
        "--> a group of functions, variables, classes.\n",
        "#library\n",
        "--> a group of module\n",
        "\n",
        "\n",
        "How to import module in python??\n",
        "```\n",
        "import math\n",
        "print(math.sqrt(16))\n",
        "print(math.pi)\n",
        "```\n",
        "\n"
      ]
    },
    {
      "cell_type": "code",
      "metadata": {
        "id": "x6UGlUhm8T9W",
        "colab_type": "code",
        "colab": {
          "base_uri": "https://localhost:8080/",
          "height": 163
        },
        "outputId": "74e26aeb-e834-4fdf-b55e-81e787f0275a"
      },
      "source": [
        "print(math.sqrt(16))"
      ],
      "execution_count": 9,
      "outputs": [
        {
          "output_type": "error",
          "ename": "NameError",
          "evalue": "ignored",
          "traceback": [
            "\u001b[0;31m---------------------------------------------------------------------------\u001b[0m",
            "\u001b[0;31mNameError\u001b[0m                                 Traceback (most recent call last)",
            "\u001b[0;32m<ipython-input-9-e2e73920942f>\u001b[0m in \u001b[0;36m<module>\u001b[0;34m()\u001b[0m\n\u001b[0;32m----> 1\u001b[0;31m \u001b[0mprint\u001b[0m\u001b[0;34m(\u001b[0m\u001b[0mmath\u001b[0m\u001b[0;34m.\u001b[0m\u001b[0msqrt\u001b[0m\u001b[0;34m(\u001b[0m\u001b[0;36m16\u001b[0m\u001b[0;34m)\u001b[0m\u001b[0;34m)\u001b[0m\u001b[0;34m\u001b[0m\u001b[0;34m\u001b[0m\u001b[0m\n\u001b[0m",
            "\u001b[0;31mNameError\u001b[0m: name 'math' is not defined"
          ]
        }
      ]
    },
    {
      "cell_type": "code",
      "metadata": {
        "id": "y2sqEZJu-jeM",
        "colab_type": "code",
        "colab": {
          "base_uri": "https://localhost:8080/",
          "height": 51
        },
        "outputId": "bfe7f465-50a9-4cea-d607-4a13f30021e5"
      },
      "source": [
        "import math\n",
        "print(math.sqrt(16))\n",
        "print(math.pi)"
      ],
      "execution_count": 11,
      "outputs": [
        {
          "output_type": "stream",
          "text": [
            "4.0\n",
            "3.141592653589793\n"
          ],
          "name": "stdout"
        }
      ]
    },
    {
      "cell_type": "code",
      "metadata": {
        "id": "aBuWpVdS-vds",
        "colab_type": "code",
        "colab": {
          "base_uri": "https://localhost:8080/",
          "height": 51
        },
        "outputId": "4f6e5b8c-d775-4b20-cf1e-fdc839ee78e8"
      },
      "source": [
        "#we can change module name by using \"as newName\"\n",
        "import math as m\n",
        "print(m.sqrt(25))\n",
        "print(m.pi)"
      ],
      "execution_count": 13,
      "outputs": [
        {
          "output_type": "stream",
          "text": [
            "5.0\n",
            "3.141592653589793\n"
          ],
          "name": "stdout"
        }
      ]
    },
    {
      "cell_type": "code",
      "metadata": {
        "id": "cqWJa6HICcf5",
        "colab_type": "code",
        "colab": {
          "base_uri": "https://localhost:8080/",
          "height": 51
        },
        "outputId": "fde760fc-226b-44e4-8c5d-9973acdaa4b8"
      },
      "source": [
        "#if we not want to write m everywhere use\"from math import function\"\n",
        "from math import sqrt,pi\n",
        "print(sqrt(25))\n",
        "print(pi)"
      ],
      "execution_count": 17,
      "outputs": [
        {
          "output_type": "stream",
          "text": [
            "5.0\n",
            "3.141592653589793\n"
          ],
          "name": "stdout"
        }
      ]
    },
    {
      "cell_type": "code",
      "metadata": {
        "id": "EGfySResC1Pi",
        "colab_type": "code",
        "colab": {
          "base_uri": "https://localhost:8080/",
          "height": 51
        },
        "outputId": "cfe9b980-79e1-428c-91d4-eca6c4fca6b8"
      },
      "source": [
        "# we can import all using \"from math import *\" but it is not recommended\n",
        "from math import*\n",
        "print(sqrt(25))\n",
        "print(pi)"
      ],
      "execution_count": 18,
      "outputs": [
        {
          "output_type": "stream",
          "text": [
            "5.0\n",
            "3.141592653589793\n"
          ],
          "name": "stdout"
        }
      ]
    },
    {
      "cell_type": "markdown",
      "metadata": {
        "id": "GuJstV8pD15c",
        "colab_type": "text"
      },
      "source": [
        "\n",
        "\n",
        "```\n",
        "#math module function list\n",
        "1. sqrt()\n",
        "2. ceil()\n",
        "3. floor()\n",
        "4. pow(x,y)\n",
        "5. factorial()\n",
        "6. gcd()\n",
        "7. sin()\n",
        "8. cos()\n",
        "#math module constants\n",
        "1. pi\n",
        "2. e\n",
        "3. inf ==>infinity\n",
        "4. nan ==>not a number\n",
        "```\n",
        "\n"
      ]
    },
    {
      "cell_type": "code",
      "metadata": {
        "id": "EoTTYoihC3zo",
        "colab_type": "code",
        "colab": {
          "base_uri": "https://localhost:8080/",
          "height": 51
        },
        "outputId": "c8d1ddb6-97cc-496e-9e41-033b71dbe8b1"
      },
      "source": [
        "from math import*\n",
        "r=int(input(\"Enter radius of circle:\"))\n",
        "area=pi*r**2\n",
        "print(\"the area of circle is\",area)"
      ],
      "execution_count": 19,
      "outputs": [
        {
          "output_type": "stream",
          "text": [
            "Enter radius of circle:7\n",
            "the area of circle is 153.93804002589985\n"
          ],
          "name": "stdout"
        }
      ]
    },
    {
      "cell_type": "markdown",
      "metadata": {
        "id": "6tmF9_bNFsQ6",
        "colab_type": "text"
      },
      "source": [
        "#Input and output statements:\n",
        "\n",
        "```\n",
        "-----for Python 2-----\n",
        "--> read data from keyboard\n",
        "   1. x=raw_data(\"Enter some data\") \n",
        "       --> str type always\n",
        "       --> we require to use typecasting functions.\n",
        "   2. y=input(\"Enter some data\")\n",
        "       --> not consider as str type what every type provided will considered.\n",
        "       --> we are not required typecasting\n",
        "\n",
        "-----for Python 3-----\n",
        "1.  x=input(\"Enter some value\")\n",
        "   --> str type always\n",
        "   --> we require to use typecasting functions. \n",
        "```\n",
        "\n",
        "\n",
        "    "
      ]
    },
    {
      "cell_type": "code",
      "metadata": {
        "id": "fK6ZBneoC5dS",
        "colab_type": "code",
        "colab": {
          "base_uri": "https://localhost:8080/",
          "height": 51
        },
        "outputId": "99532f1a-8bf9-4486-b1a8-5204443c0532"
      },
      "source": [
        "x=input(\"Enter any number:\")\n",
        "type(x)"
      ],
      "execution_count": 23,
      "outputs": [
        {
          "output_type": "stream",
          "text": [
            "Enter any number:10.5\n"
          ],
          "name": "stdout"
        },
        {
          "output_type": "execute_result",
          "data": {
            "text/plain": [
              "str"
            ]
          },
          "metadata": {
            "tags": []
          },
          "execution_count": 23
        }
      ]
    },
    {
      "cell_type": "code",
      "metadata": {
        "id": "Gbs46Sf5IBtA",
        "colab_type": "code",
        "colab": {
          "base_uri": "https://localhost:8080/",
          "height": 51
        },
        "outputId": "4a3e7e27-a132-482e-f6bb-a3d2499f48e9"
      },
      "source": [
        "type(input(\"Enter any number:\"))"
      ],
      "execution_count": 24,
      "outputs": [
        {
          "output_type": "stream",
          "text": [
            "Enter any number:10.5\n"
          ],
          "name": "stdout"
        },
        {
          "output_type": "execute_result",
          "data": {
            "text/plain": [
              "str"
            ]
          },
          "metadata": {
            "tags": []
          },
          "execution_count": 24
        }
      ]
    },
    {
      "cell_type": "code",
      "metadata": {
        "id": "8FPBsFm1Ir5M",
        "colab_type": "code",
        "colab": {
          "base_uri": "https://localhost:8080/",
          "height": 68
        },
        "outputId": "a32538c6-7f9f-464c-b14b-13bb319e0740"
      },
      "source": [
        "x=input(\"enter 1st number\")\n",
        "y=input(\"enter 2nd number\")\n",
        "i=int(x)\n",
        "j=int(y)\n",
        "print(\"Sum of number:\",i+j)"
      ],
      "execution_count": 25,
      "outputs": [
        {
          "output_type": "stream",
          "text": [
            "enter 1st number10\n",
            "enter 2nd number20\n",
            "Sum of number: 30\n"
          ],
          "name": "stdout"
        }
      ]
    },
    {
      "cell_type": "code",
      "metadata": {
        "id": "ba0U-unSJHlw",
        "colab_type": "code",
        "colab": {
          "base_uri": "https://localhost:8080/",
          "height": 68
        },
        "outputId": "d688266a-5fcd-4e6d-a08f-d5a4f84fb1bb"
      },
      "source": [
        "x=int(input(\"enter 1st number\"))\n",
        "y=int(input(\"enter 2nd number\"))\n",
        "print(\"Sum of number:\",x+y)"
      ],
      "execution_count": 26,
      "outputs": [
        {
          "output_type": "stream",
          "text": [
            "enter 1st number10\n",
            "enter 2nd number20\n",
            "Sum of number: 30\n"
          ],
          "name": "stdout"
        }
      ]
    },
    {
      "cell_type": "code",
      "metadata": {
        "id": "nfg5GgykJh6v",
        "colab_type": "code",
        "colab": {
          "base_uri": "https://localhost:8080/",
          "height": 68
        },
        "outputId": "ef4ede2d-cc87-49ed-ad1a-802ae64c7c38"
      },
      "source": [
        "print(\"Sum is:\",int(input('1st value'))+int(input('2nd number')))"
      ],
      "execution_count": 29,
      "outputs": [
        {
          "output_type": "stream",
          "text": [
            "1st value10\n",
            "2nd number20\n",
            "Sum is: 30\n"
          ],
          "name": "stdout"
        }
      ]
    },
    {
      "cell_type": "code",
      "metadata": {
        "id": "yPUagz0fJ2ED",
        "colab_type": "code",
        "colab": {}
      },
      "source": [
        ""
      ],
      "execution_count": null,
      "outputs": []
    }
  ]
}